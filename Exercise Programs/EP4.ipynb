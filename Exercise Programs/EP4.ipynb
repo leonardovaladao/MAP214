{
 "cells": [
  {
   "cell_type": "markdown",
   "metadata": {},
   "source": [
    "## Nome: Leonardo Valadão. NUSP: 10299437"
   ]
  },
  {
   "cell_type": "markdown",
   "metadata": {},
   "source": [
    "# 4º Programa: Equações Diferenciais Ordinárias"
   ]
  },
  {
   "cell_type": "markdown",
   "metadata": {},
   "source": [
    "### Disciplina: Cálculo Numérico com Aplicações em Física. Docente: Arnaldo Gammal."
   ]
  },
  {
   "cell_type": "markdown",
   "metadata": {},
   "source": [
    "**Entregar:** <br>\n",
    "- [X] *Programa item I);*\n",
    "- [X] *Valores de $y(t=5)$ e $dy/dt(t=5)$ por Euler e por RK Clássico;*\n",
    "- [ ] Gráficos sugeridos em II-1a, b,c;\n",
    "- [ ] Resposta à pergunta II-d;\n",
    "- [ ] Estimativa para a constante de Feigenbaum $\\delta$\n",
    "- [ ] Todos os gráficos sugeridos em 2) e 3);\n",
    "- [ ] Programas de itens II-1c) e II-2)."
   ]
  },
  {
   "cell_type": "code",
   "execution_count": 1,
   "metadata": {},
   "outputs": [],
   "source": [
    "# Importações\n",
    "import numpy as np\n",
    "import matplotlib.pyplot as plt\n",
    "from numba import jit"
   ]
  },
  {
   "cell_type": "markdown",
   "metadata": {},
   "source": [
    "**I - Resolver usando Euler e Runge-Kutta Clássico (4a. ordem-Rk4) a equação diferencial ordinária de 2a ordem $\\ddot{y}=12t^2+4t^3-t^4+y-\\dot{y}$ para $y(0)=0$ e $\\dot{y}(0)=0$. Esta equação pode ser escrita em termos de duas equaçẽos de 1a ordem na forma $\\dot{y}=z$ e $\\dot{z}=g(t,y,z)$ onde $g(t,y,z)=12t^2+4t^3-t^4+y-z$. Calcular $y(5)$ e $dy/dt (t=5)$ usando passo $h=0.01$ e comparar os resultados com o exato. Obs.: Solução analítica $y=t^4$. Dupla precisão! Experimente rodar em precisão simples! Para RK4 use uma rotina *seguindo a sequência:***"
   ]
  },
  {
   "cell_type": "markdown",
   "metadata": {},
   "source": [
    "**subrotina $rk4(t_i, y_i, z_i, h)$** <br>\n",
    "$k_{1y}=h \\times z$ <br>\n",
    "$k_{1z}=h \\times g(t_i, y_i, z_i)$ <br>\n",
    "$k_{2y}=h \\times (z_i+k_{1z}/2)$ <br>\n",
    "$k_{2z}=h \\times g(t_i + h/2, y_i+ k_{1y}/2, z_i + k_{1z}/2$ <br>\n",
    "$k_{3y}=h \\times (z_i + k_{2z}/2)$ <br>\n",
    "$k_{3z}=h \\times g(t_i + h/2, y_i+ k_{2y}/2, z_i + k_{2z}/2$ <br>\n",
    "$k_{4y}=h \\times (z_i + k_{3z})$ <br>\n",
    "$k_{4z}=h \\times g(t_i + h/2, y_i+ k_{3y}/2, z_i + k_{3z}/2$ <br>\n",
    "$y_i=y_i+(k_{1y}+2 k_{2y}+2 k_{3y}+k_{4y})/6$ <br>\n",
    "$z_i=z_i+(k_{1z}+2 k_{2z}+2 k_{3z}+k_{4z})/6$ <br>\n",
    "$t_i = t_i + h $ <br>"
   ]
  },
  {
   "cell_type": "markdown",
   "metadata": {},
   "source": [
    "Equações e condições: <br>\n",
    "$y' = z$ <br>\n",
    "$z' = g(t,y,z)$ <br>\n",
    "$g(t,y,z) = 12t^2 + 4t^3 - t^4 + y - z$ <br><br>\n",
    "$y_0=0$ <br>\n",
    "$z_0=0$ <br>\n",
    "$h = 0.01$"
   ]
  },
  {
   "cell_type": "markdown",
   "metadata": {},
   "source": [
    "Método de Euler:"
   ]
  },
  {
   "cell_type": "code",
   "execution_count": 2,
   "metadata": {},
   "outputs": [],
   "source": [
    "# Definir Método de Euler\n",
    "def euler(f, y0, z0, h, tf, t0=0):\n",
    "    '''\n",
    "    Retorna a solução por Método de Euler de uma E.D.O de segundo grau. Retorna [y,y']\n",
    "    ---\n",
    "    f: Função contemplada;\n",
    "    y0: Condição y inicial;\n",
    "    z0: Condição z (ou y') inicial;\n",
    "    h: Tamanho do passo;\n",
    "    tf: Valor final a ser calculado;\n",
    "    t0: Onde começar a contar a variável independente. Padrão: 0;\n",
    "    '''\n",
    "    yi = y0\n",
    "    ti = t0\n",
    "    zi = z0\n",
    "    # Enquanto a variável independente não chegar no valor final...\n",
    "    while ti<tf: \n",
    "        yi = yi + h*zi\n",
    "        zi = zi + h*f(ti,yi,zi)\n",
    "        ti = ti+h\n",
    "    return yi,zi"
   ]
  },
  {
   "cell_type": "markdown",
   "metadata": {},
   "source": [
    "Método de Runge-Kutta Clássico de 4ª ordem:"
   ]
  },
  {
   "cell_type": "code",
   "execution_count": 3,
   "metadata": {},
   "outputs": [],
   "source": [
    "# Definir Método de RK4\n",
    "def rk4(f, y0, z0, h, tf, t0=0):\n",
    "    '''\n",
    "    Retorna a solução por método de Runge-Kutta (4ª ordem) de uma E.D.O de segundo grau. Retorna [y,y']\n",
    "    f: Função contemplada;\n",
    "    y0: Condição y inicial;\n",
    "    z0: Condição z (ou y') inicial;\n",
    "    h: Tamanho do passo;\n",
    "    tf: Valor final a ser calculado;\n",
    "    t0: Onde começar a contar a variável independente. Padrão: 0;\n",
    "    '''\n",
    "    yi = y0\n",
    "    zi = z0\n",
    "    ti = t0\n",
    "    while ti<tf:\n",
    "        k1y = h*zi\n",
    "        k1z = h*f(ti,yi,zi)\n",
    "        k2y = h*(zi+k1z/2)\n",
    "        k2z = h*f(ti+h/2, yi+k1y/2, zi+k1z/2)\n",
    "        k3y = h*(zi+k2z/2)\n",
    "        k3z = h*f(ti+h/2, yi+k2y/2, zi+k2z/2)\n",
    "        k4y = h*(zi+k3z)\n",
    "        k4z = h*f(ti+h/2, yi+k3y/2, zi+k3z/2)\n",
    "        \n",
    "        yi=yi + (k1y+2*k2y+2*k3y+k4y)/6\n",
    "        zi=zi + (k1z+2*k2z+2*k3z+k4z)/6\n",
    "        ti+=h\n",
    "        \n",
    "    return yi,zi"
   ]
  },
  {
   "cell_type": "markdown",
   "metadata": {},
   "source": [
    "Aplicar métodos"
   ]
  },
  {
   "cell_type": "code",
   "execution_count": 4,
   "metadata": {},
   "outputs": [
    {
     "name": "stdout",
     "output_type": "stream",
     "text": [
      "Valores encontrados para t=5: \n",
      " Método de Euler: y=627.66, z=503.88 \n",
      " Método de Runge-Kutta (ordem 4): y=629.62, z=502.71\n",
      "\n",
      "Valores esperados: y=625.00, z=500.00\n"
     ]
    }
   ],
   "source": [
    "# Definir função a ser utilizada\n",
    "def g(t,y,z):\n",
    "    return (12*t**2 + 4*t**3 - t**4 + y - z)\n",
    "\n",
    "# Aplicar\n",
    "se = euler(g, y0=0, z0=0, h=0.01, tf=5)\n",
    "srk4 = rk4(g, y0=0, z0=0, h=0.01, tf=5)\n",
    "\n",
    "# Imprimir\n",
    "print('Valores encontrados para t=5:',\n",
    "      '\\n Método de Euler: y={:.2f}, z={:.2f}'.format(se[0], se[1]),\n",
    "      '\\n Método de Runge-Kutta (ordem 4): y={:.2f}, z={:.2f}'.format(srk4[0], srk4[1]))\n",
    "print('\\nValores esperados: y={:.2f}, z={:.2f}'.format(5**4, 4*5**3))"
   ]
  },
  {
   "cell_type": "markdown",
   "metadata": {},
   "source": [
    "Os valores acima estão razoavelmente distantes do esperado pois o passo escolhido é muito grande. Observe o que ocorre quando diminuímos o passo:"
   ]
  },
  {
   "cell_type": "code",
   "execution_count": 5,
   "metadata": {},
   "outputs": [
    {
     "name": "stdout",
     "output_type": "stream",
     "text": [
      "Método de Euler: y=625.00, z=500.00\n",
      "Método de Runge-Kutta: y=625.00, z=500.00\n"
     ]
    }
   ],
   "source": [
    "passo=0.00001\n",
    "print('Método de Euler: y={:.2f}, z={:.2f}'.format(\n",
    "    euler(g, y0=0, z0=0, h=passo, tf=5)[0],euler(g, y0=0, z0=0, h=passo, tf=5)[1]))\n",
    "print('Método de Runge-Kutta: y={:.2f}, z={:.2f}'.format(\n",
    "    rk4(g, y0=0, z0=0, h=passo, tf=5)[0],rk4(g, y0=0, z0=0, h=passo, tf=5)[1]))"
   ]
  },
  {
   "cell_type": "markdown",
   "metadata": {},
   "source": [
    "**II - Equação de Duffing, Double Wall Potential** <br>"
   ]
  },
  {
   "cell_type": "markdown",
   "metadata": {},
   "source": [
    "**1) Espaço de fase** <br>\n",
    "**a) Substitua a eq. anterior do item I) pela do potencial poço duplo $\\ddot{x}-\\frac{1}{2}x(1-x^2)=0$ com $x(0)=1$ para os casos $\\dot{x}(0)=-0.1, -0.5, -1.0$. Construa os diagramas de espaço de fase $\\dot{x}(t) \\times x(t)$. Basta evoluir $rk4(t_i, x_i, v_i, h)$, $v=\\dot{x}$.**"
   ]
  },
  {
   "cell_type": "markdown",
   "metadata": {},
   "source": [
    "$x'=z$<br>\n",
    "$z'=g(t,x,z)$<br>\n",
    "$g(t,x,z)=\\frac{1}{2} x(1-x^2)$\n",
    "<br><br>\n",
    "$x_0 = 1$ <br>\n",
    "$z_0=-0.1,-0.5,-1.0$ <br>\n",
    "$h=0.01$"
   ]
  },
  {
   "cell_type": "markdown",
   "metadata": {},
   "source": [
    "Para melhorar o desempenho do programa, vamos separar duas funções rk4. Uma retorna x, outra v."
   ]
  },
  {
   "cell_type": "code",
   "execution_count": 6,
   "metadata": {},
   "outputs": [],
   "source": [
    "# Definir função\n",
    "def g(t,x,z):\n",
    "    return (1/2 * x*(1-x**2))"
   ]
  },
  {
   "cell_type": "code",
   "execution_count": 7,
   "metadata": {},
   "outputs": [
    {
     "name": "stdout",
     "output_type": "stream",
     "text": [
      "Checkup 1\n",
      "Checkup 2\n",
      "Checkup 3\n"
     ]
    },
    {
     "data": {
      "image/png": "[encoded data removed]",
      "text/plain": [
       "<Figure size 432x288 with 1 Axes>"
      ]
     },
     "metadata": {
      "needs_background": "light"
     },
     "output_type": "display_data"
    }
   ],
   "source": [
    "# Plotar\n",
    "# Definir região t a ser plotada\n",
    "a=0\n",
    "b=100\n",
    "# Definir passo e constantes\n",
    "step = 1\n",
    "zs = [-0.1, -0.5, -1]\n",
    "# Loop para imprimir com as 3 constantes\n",
    "\n",
    "for z in zs:\n",
    "    # Definir x\n",
    "    x = [0]\n",
    "    for t in np.arange(a,b,step):\n",
    "        x.append(rk4(g, y0=1, z0=z, h=0.01, tf=t, t0=10)[0])\n",
    "    # Definir x'\n",
    "    v = [0]\n",
    "    for t in np.arange(a,b,step):\n",
    "        v.append(rk4(g, y0=1, z0=z, h=0.01, tf=t, t0=10)[1])\n",
    "\n",
    "    # Plotar\n",
    "    plt.plot(x, v, label='z0={:.1f}'.format(z),\n",
    "             marker='.', markersize=5, lw=0, alpha=0.75)\n",
    "    # Imprimir checkup apenas para monitorar demora do algoritmo\n",
    "    print('Checkup',str(zs.index(z)+1))\n",
    "# Embelezar gráfico\n",
    "plt.title('RK4 aplicado no Potencial Poço Duplo sem amortecimento')\n",
    "plt.xlabel('x')\n",
    "plt.ylabel('v')\n",
    "plt.legend()\n",
    "plt.show()"
   ]
  },
  {
   "cell_type": "markdown",
   "metadata": {},
   "source": [
    "**b) Inclua amortecimento com $\\ddot{x}+2\\gamma \\dot{x} - \\frac{1}{2}x(1-x^2)=0$ e com $x(0)=1$, $\\dot{x}(0)=-1$ e $2\\gamma=0.25, 0.8$. Construa os gráficos de espaço de fase.** "
   ]
  },
  {
   "cell_type": "markdown",
   "metadata": {},
   "source": [
    "$x' = z$ <br>\n",
    "$z' = g(t,x,z)$ <br>\n",
    "$g(t,x,z) = \\frac{1}{2}x(1-x^2) - 2\\gamma z$\n",
    "<br><br>\n",
    "$x_0=1$ <br>\n",
    "$z_0=-1$<br>\n",
    "$2\\gamma=0.25,0.8$ <br>\n",
    "$h=0.01$"
   ]
  },
  {
   "cell_type": "code",
   "execution_count": 26,
   "metadata": {},
   "outputs": [],
   "source": [
    "def g(t,x,z):\n",
    "    return (1/2 * x*(1-x**2) - 2*gamma*z)"
   ]
  },
  {
   "cell_type": "code",
   "execution_count": 28,
   "metadata": {},
   "outputs": [
    {
     "name": "stdout",
     "output_type": "stream",
     "text": [
      "Checkup 1\n",
      "Checkup 2\n"
     ]
    },
    {
     "data": {
      "image/png": "[encoded data removed]",
      "text/plain": [
       "<Figure size 432x288 with 1 Axes>"
      ]
     },
     "metadata": {
      "needs_background": "light"
     },
     "output_type": "display_data"
    }
   ],
   "source": [
    "gs = [0.25, 0.8]\n",
    "a=0\n",
    "b=100\n",
    "step=1\n",
    "\n",
    "for gamma in gs:\n",
    "    gamma=gamma\n",
    "    x = []\n",
    "    for t in np.arange(a,b,step):\n",
    "        x.append(rk4(g, y0=1, z0=-1, h=1, tf=t)[0])\n",
    "    v = []\n",
    "    for t in np.arange(a,b,step):\n",
    "        v.append(rk4(g, y0=1, z0=-1, h=1, tf=t)[1])\n",
    "\n",
    "    plt.plot(x, v, label='gamma={:.2f}'.format(gamma),\n",
    "             marker='.', markersize=5, lw=0, alpha=0.7)\n",
    "    \n",
    "    print('Checkup',str(gs.index(gamma)+1))\n",
    "\n",
    "plt.title('RK4 aplicado no Potencial Poço Duplo amortecido')\n",
    "plt.xlabel('x')\n",
    "plt.ylabel('v')\n",
    "plt.legend()\n",
    "plt.show()"
   ]
  },
  {
   "cell_type": "markdown",
   "metadata": {},
   "source": [
    "**c) Force o sistema com $\\ddot{x}+0.25\\dot{x}-0.5x(1-x^2)=F cos (\\omega t)$. Usando $x(0)=1, \\dot{x}(0)=-1$ e $\\omega = 1$, vá aumentando a intensidade da força $F$ com valores de $0.22, 0.23, 0.28, 0.35$. Force bastante o sistema com $F=0.6$. Em todo este item remova o transiente para construir os diagramas de espaço de fase.**"
   ]
  },
  {
   "cell_type": "markdown",
   "metadata": {},
   "source": [
    "$x'=z$<br>\n",
    "$z'=g(t,x,z)$ <br>\n",
    "$g(t,x,z)=F cos(\\omega t) - 0.25 z + 0.5x(1-x^2)$\n",
    "<br><br>\n",
    "$x_0=1$<br>\n",
    "$z_0=-1$<br>\n",
    "$\\omega=1$<br>\n",
    "$F=0.22,0.23,0.28,0.35,0.6$ <br>\n",
    "$h=0.01$"
   ]
  },
  {
   "cell_type": "code",
   "execution_count": 19,
   "metadata": {},
   "outputs": [],
   "source": [
    "def g(t,x,z):\n",
    "    return (F*np.cos(w*t) - 0.25*z + 0.5*x*(1-x**2))"
   ]
  },
  {
   "cell_type": "code",
   "execution_count": 24,
   "metadata": {},
   "outputs": [
    {
     "name": "stdout",
     "output_type": "stream",
     "text": [
      "Checkup 2\n",
      "Checkup 2\n",
      "Checkup 2\n",
      "Checkup 2\n",
      "Checkup 2\n"
     ]
    },
    {
     "data": {
      "image/png": "[encoded data removed]",
      "text/plain": [
       "<Figure size 432x288 with 1 Axes>"
      ]
     },
     "metadata": {
      "needs_background": "light"
     },
     "output_type": "display_data"
    }
   ],
   "source": [
    "for F in [0.22, 0.23, 0.28, 0.35, 0.6]:\n",
    "    w=1\n",
    "    x = [rk4(g, y0=1, z0=-1, h=0.001, tf=t)[0]\n",
    "         for t in np.arange(0,100,1)]\n",
    "    v = [rk4(g, y0=1, z0=-1, h=0.001, tf=t)[1]\n",
    "         for t in np.arange(0,100,1)]\n",
    "\n",
    "    plt.plot(x, v, label='F={:.2f}'.format(F),\n",
    "             marker='.', markersize=5, lw=0, alpha=0.7)\n",
    "    \n",
    "    print('Checkup',str(gs.index(gamma)+1))\n",
    "    \n",
    "plt.title('RK4 aplicado no Potencial Poço Duplo amortecido forçado')\n",
    "plt.xlabel('x')\n",
    "plt.ylabel('v')\n",
    "plt.legend()\n",
    "plt.show()"
   ]
  },
  {
   "cell_type": "markdown",
   "metadata": {},
   "source": [
    "**d) Quem são os atratores em cada um desses casos nos itens a, b, c?**"
   ]
  },
  {
   "cell_type": "code",
   "execution_count": 12,
   "metadata": {},
   "outputs": [],
   "source": [
    "# Reposta"
   ]
  },
  {
   "cell_type": "markdown",
   "metadata": {},
   "source": [
    "**2) Diagrama de Bifurcação**"
   ]
  },
  {
   "cell_type": "markdown",
   "metadata": {},
   "source": [
    "**Uma secção de Poincaré corresponde neste caso a uma \"fotografia estroboscópica\" do Espaço de Fase a cada período do elemento forçados. Pode ser imaginada como cortes periódicos no atrator tridimensional desenhado com $\\dot{x}(t) \\times x(t) \\times t$.** <br>\n",
    "**Construa outro programa com eq. e MESMAS condições iniciais 1c). Para um dado $F$ faça secções de Poincaré e determine o valor dos pontos $x$ nas secções. Varie o $F$ de $0$ até $0.7$ e plote $x$ (em $\\omega t = 2\\pi n + cte$) em função de $F$, SEM LIGAR os pontos. Escolha por simplificade $cte=0$. Estime o valor da *constante de Feigenbaum* $\\delta$ a partir do diagrama de bifurcação.** <br>\n",
    "**Sugestão: Escolhemos $h$ como uma fração do período como por exemplo $h=0.001 * 2\\pi / \\omega$ e após $1000$ passos teremos andado um período.**"
   ]
  },
  {
   "cell_type": "markdown",
   "metadata": {},
   "source": [
    "**Sugestão de Programa** <br> <br>\n",
    "**Repetir de $F=0$ até $F=0.7$ passo $\\Delta F = 0.0005$** <br>\n",
    "&nbsp; **colocar condições iniciais** <br>\n",
    "&nbsp; **$h=0.01 * 2\\pi / \\omega$** <br>\n",
    "&nbsp; **Evoluir o transiente com $200000$ passos** <br>\n",
    "&nbsp;&nbsp;&nbsp; **chamar $rk4(t_i, x_i, v_i, h)$** <br>\n",
    "&nbsp; **fim do transiente** <br>\n",
    "&nbsp; **$h = 0.001*2\\pi /\\omega$** <br>\n",
    "&nbsp; **Fazer de $i=1$ até $100!$ evolução de $100$ períodos** <br>\n",
    "&nbsp;&nbsp; **Fazer de $j=1$ até $1000!$ evolui um período** <br>\n",
    "&nbsp;&nbsp;&nbsp; **chamar $rk4(t_i, x_i, v_i, h)$** <br>\n",
    "&nbsp;&nbsp; **fim do loop em $j$** <br>\n",
    "&nbsp;&nbsp; **Imprime $F, x_i$ imprime a cada período $2\\pi /\\omega$** <br>\n",
    "&nbsp; **fim do loop em $i$** <br>\n",
    "**fim do loop em $F$**"
   ]
  },
  {
   "cell_type": "code",
   "execution_count": 13,
   "metadata": {},
   "outputs": [],
   "source": [
    "# Resposta"
   ]
  },
  {
   "cell_type": "markdown",
   "metadata": {},
   "source": [
    "**3) Mapa de Poincaré** <br>\n",
    "**No programa 2) remova o loop de $F$. Fixe $F=0.28$ e faça $i$ ir até $20000$. No comando \"imprime\", imprima também $v_i(\\equiv \\dot{x}(t))$. Coloque os pontos $(x_i, v_i)$ num gráfico $\\dot{x}(t) \\times x(t)$. NÃO LIGUE os pontos.**"
   ]
  },
  {
   "cell_type": "code",
   "execution_count": 14,
   "metadata": {},
   "outputs": [],
   "source": [
    "# Resposta"
   ]
  }
 ],
 "metadata": {
  "kernelspec": {
   "display_name": "Python 3",
   "language": "python",
   "name": "python3"
  },
  "language_info": {
   "codemirror_mode": {
    "name": "ipython",
    "version": 3
   },
   "file_extension": ".py",
   "mimetype": "text/x-python",
   "name": "python",
   "nbconvert_exporter": "python",
   "pygments_lexer": "ipython3",
   "version": "3.8.5"
  }
 },
 "nbformat": 4,
 "nbformat_minor": 4
}
