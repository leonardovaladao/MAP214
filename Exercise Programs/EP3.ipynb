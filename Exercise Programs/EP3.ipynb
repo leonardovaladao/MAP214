{
 "cells": [
  {
   "cell_type": "markdown",
   "metadata": {},
   "source": [
    "## Nome: Leonardo Valadão. NUSP: 10299437"
   ]
  },
  {
   "cell_type": "markdown",
   "metadata": {},
   "source": [
    "# 3º Programa: Integração Numérica"
   ]
  },
  {
   "cell_type": "markdown",
   "metadata": {},
   "source": [
    "### Disciplina: Cálculo Numérico com Aplicações em Física. Docente: Arnaldo Gammal."
   ]
  },
  {
   "cell_type": "markdown",
   "metadata": {},
   "source": [
    "**1) Construa um programa em *precisão simples* que calcule numericamente a integral $I=\\int_{0}^{1}(7-5x^4)dx$ usando o método de Trapézios.**"
   ]
  },
  {
   "cell_type": "markdown",
   "metadata": {},
   "source": [
    "**a) Faça uma tabela na forma**"
   ]
  },
  {
   "cell_type": "markdown",
   "metadata": {},
   "source": [
    "![title](./table.png)"
   ]
  },
  {
   "cell_type": "markdown",
   "metadata": {},
   "source": [
    "**onde $N=2^p$ é o número de intervalos, $erro=|I_{num}-I|$ e $I$ é o valor analítico da integral.**"
   ]
  },
  {
   "cell_type": "markdown",
   "metadata": {},
   "source": [
    "***===ENTREGAR PROGRAMA (SÓ EM PRECISÃO SIMPLES)===***"
   ]
  },
  {
   "cell_type": "markdown",
   "metadata": {},
   "source": [
    "Para saber $I$, vamos calcular a integral analiticamente.<br>\n",
    "$\\int_0^1 (7-5x^4)dx = [7x-x^5]_0^1 = 6$ <br>\n",
    "Logo $I=6$."
   ]
  },
  {
   "cell_type": "markdown",
   "metadata": {},
   "source": [
    "O Método de Trapézios diz que nossa integral será: <br>\n",
    "$I_{num} = \\Sigma_{i=1}^n h_i \\frac{f(x_i) + f(x_{i+1})}{2} = \\frac{h}{2}[f_1+2f_2+2f_3...]$"
   ]
  },
  {
   "cell_type": "markdown",
   "metadata": {},
   "source": [
    "Nossa função é $f(x) = 7-5x^4$"
   ]
  },
  {
   "cell_type": "code",
   "execution_count": 145,
   "metadata": {},
   "outputs": [
    {
     "data": {
      "text/plain": [
       "5.999820894037204"
      ]
     },
     "execution_count": 145,
     "metadata": {},
     "output_type": "execute_result"
    }
   ],
   "source": [
    "def trapezio(f, N, a, b):\n",
    "    '''f: Função a ser integrada; \n",
    "    N: Nº de intervalos; \n",
    "    a,b: Intervalo (a,b) a ser integrado'''\n",
    "    h = 1/N\n",
    "    \n",
    "    # Região a ser calculada e tamanho de passos\n",
    "    reg = b-a\n",
    "    passo = reg/N\n",
    "    \n",
    "    # Lista de bases do trapézio\n",
    "    lx = list(np.arange(a,b,passo)+passo)\n",
    "    \n",
    "    # Cálculo do método\n",
    "    soma = f(lx.pop(0))\n",
    "    for x in lx:\n",
    "        soma += 2*f(x)\n",
    "        \n",
    "    I = (h/2) * (soma)\n",
    "    return I\n",
    "    \n",
    "trapezio(func,33500,0,1)"
   ]
  },
  {
   "cell_type": "code",
   "execution_count": 63,
   "metadata": {},
   "outputs": [
    {
     "ename": "SyntaxError",
     "evalue": "unexpected EOF while parsing (<ipython-input-63-3247913458da>, line 12)",
     "output_type": "error",
     "traceback": [
      "\u001b[1;36m  File \u001b[1;32m\"<ipython-input-63-3247913458da>\"\u001b[1;36m, line \u001b[1;32m12\u001b[0m\n\u001b[1;33m    print(x)\u001b[0m\n\u001b[1;37m            ^\u001b[0m\n\u001b[1;31mSyntaxError\u001b[0m\u001b[1;31m:\u001b[0m unexpected EOF while parsing\n"
     ]
    }
   ],
   "source": [
    "# Definir funcao\n",
    "def func(x):\n",
    "    return 7-5*x**4\n",
    "\n",
    "for p in range(1,26):\n",
    "    N=2**p\n",
    "    h = 1/N\n",
    "    \n",
    "    for i in range(N):\n",
    "            x = N/i\n",
    "            print(x)"
   ]
  },
  {
   "cell_type": "markdown",
   "metadata": {},
   "source": [
    "**b) Faça um gráfico de $log_{10}erro$ em função de $p$, eliminando os pontos em que eventualmente $erro=0$. Repita os cálculos em *dupla precisão* e coloque os resultados no mesmo gráfico. Indique nos gráficos os efeitos do erro de Truncamento do método e erro de \"Roundoff\" da representação de ponto flutuante. Determina a partir do gráfico a ordem de frandeza do erro do método empregado e \"Roundoff\" e compare com os teóricos $O(h^2)$ e $O(\\sqrt{N})$, respectivamente. Explique o que está acontecendo à medida que se aumenta $N$.**"
   ]
  },
  {
   "cell_type": "markdown",
   "metadata": {},
   "source": [
    "***===ENTREGAR TABELA IMPRESSA PRECISÃO SIMPLES===***"
   ]
  },
  {
   "cell_type": "markdown",
   "metadata": {},
   "source": [
    "**2) O período de um pêndulo simples para ângulos pequenos $(\\theta_0<10º)$ é dado aproximadamente por $T_{Galileu}=2\\pi\\sqrt{l/g}$. Para ângulos apreciáveis e desprezando a resistência do ar, a expressão para o período é**"
   ]
  },
  {
   "cell_type": "markdown",
   "metadata": {},
   "source": [
    "<center>\n",
    "$T=4\\sqrt{\\frac{l}{g}} \\int_{0}^{\\pi/2} \\frac{1}{\\sqrt{1-k^2sin^2\\xi}}$\n",
    "</center>"
   ]
  },
  {
   "cell_type": "markdown",
   "metadata": {},
   "source": [
    "**onde $k=sin(\\theta_0/2)$ e $\\theta_0$ é o ângulo inicial em *radianos*. Com o método de Simpson, calcule a integral acima e construa uma tabela com 10 valores de $\\theta_0$ e $T$, com $\\theta_0$ variando no intervalo $[0,\\pi)$. Aumente bem o número de valores $\\theta_0$ e faça um gráfico de $T/T_{Galileu}$ em função de $\\theta_0$. Use o número de divisões trapezoidais que achar necessário.**"
   ]
  },
  {
   "cell_type": "markdown",
   "metadata": {},
   "source": [
    "***===ENTREGAR PROGRAMA + TABELA + GRÁFICO===***"
   ]
  },
  {
   "cell_type": "markdown",
   "metadata": {},
   "source": [
    "**3) Cálculo da área sob a curva $y=x^4$, $0<x<1$, usando o método de Monte-Carlo.**"
   ]
  },
  {
   "cell_type": "markdown",
   "metadata": {},
   "source": [
    "**a) Construa primeiro uma rotina random($Z_i$) que retorne números aleatórios uniformemente distribuídos por \"linear congruential generator\" com $Z_{i+1}=(a Z_i+c) mod m$, onde $a=1103515245$, $c=12345$, $m=2147483647$ e $U_i=Z_{i+1}/m$. $U_i$ é o número entre 0 e 1 gerado. Use seu número USP como semente inicial $Z_0$.**"
   ]
  },
  {
   "cell_type": "markdown",
   "metadata": {},
   "source": [
    "***===ENTREGAR PROGRAMA===***"
   ]
  },
  {
   "cell_type": "markdown",
   "metadata": {},
   "source": [
    "**b) Faça UMA tentativa jogando 100 pontos $(x,y)$, $0<x<1$ e $0<y<1$ aleatoriamente e determine o valor da área sob a curva usando**"
   ]
  },
  {
   "cell_type": "markdown",
   "metadata": {},
   "source": [
    "<center>\n",
    "    $I \\approx\\frac{número de pontos dentro}{número total de pontos}$\n",
    "</center>"
   ]
  },
  {
   "cell_type": "markdown",
   "metadata": {},
   "source": [
    "***===ENTREGAR PROGRAMA===***"
   ]
  },
  {
   "cell_type": "markdown",
   "metadata": {},
   "source": [
    "**c) Faça um estudo com diferentes números de tentativas $N_t=2,4,8,16,...,131072$ (cada tentativa joga 100 pontos aleatórios). Construa a seguinte tabela**"
   ]
  },
  {
   "cell_type": "markdown",
   "metadata": {},
   "source": [
    "![title](./table2.png)"
   ]
  },
  {
   "cell_type": "markdown",
   "metadata": {},
   "source": [
    "**onde $I_m$ é o valor médio da integral, $\\sigma$ é o desvio padrão e $\\sigma_m$ é o desvio padrão da média, dados pelas fórmulas:**"
   ]
  },
  {
   "cell_type": "markdown",
   "metadata": {},
   "source": [
    "<center>\n",
    "$I_m = \\frac{1}{N_t}\\Sigma_{i=1}^{N_t} I_i$\n",
    "</center>"
   ]
  },
  {
   "cell_type": "markdown",
   "metadata": {},
   "source": [
    "<center>\n",
    "$\\sigma^2=\\frac{1}{N_t-1}\\Sigma_{i=1}^{N_t}(I_i-I_m)^2\n",
    "$\n",
    "</center>"
   ]
  },
  {
   "cell_type": "markdown",
   "metadata": {},
   "source": [
    "**e $\\sigma_m=\\sigma/\\sqrt{N_t}$.**"
   ]
  },
  {
   "cell_type": "markdown",
   "metadata": {},
   "source": [
    "**O valor da integral é dado por $I_m \\pm \\sigma_m$.**"
   ]
  },
  {
   "cell_type": "markdown",
   "metadata": {},
   "source": [
    "***===ENTREGAR TABELA===***"
   ]
  }
 ],
 "metadata": {
  "kernelspec": {
   "display_name": "Python 3",
   "language": "python",
   "name": "python3"
  },
  "language_info": {
   "codemirror_mode": {
    "name": "ipython",
    "version": 3
   },
   "file_extension": ".py",
   "mimetype": "text/x-python",
   "name": "python",
   "nbconvert_exporter": "python",
   "pygments_lexer": "ipython3",
   "version": "3.8.3"
  }
 },
 "nbformat": 4,
 "nbformat_minor": 4
}
