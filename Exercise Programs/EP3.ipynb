{
 "cells": [
  {
   "cell_type": "markdown",
   "metadata": {},
   "source": [
    "## Nome: Leonardo Valadão. NUSP: 10299437"
   ]
  },
  {
   "cell_type": "markdown",
   "metadata": {},
   "source": [
    "# 3º Programa: Integração Numérica"
   ]
  },
  {
   "cell_type": "markdown",
   "metadata": {},
   "source": [
    "### Disciplina: Cálculo Numérico com Aplicações em Física. Docente: Arnaldo Gammal."
   ]
  },
  {
   "cell_type": "markdown",
   "metadata": {},
   "source": [
    "**1) Construa um programa em *precisão simples* que calcule numericamente a integral $I=\\int_{0}^{1}(7-5x^4)dx$ usando o método de Trapézios.**"
   ]
  },
  {
   "cell_type": "markdown",
   "metadata": {},
   "source": [
    "**a) Faça uma tabela na forma**"
   ]
  },
  {
   "cell_type": "markdown",
   "metadata": {},
   "source": [
    "![title](./table.png)"
   ]
  },
  {
   "cell_type": "markdown",
   "metadata": {},
   "source": [
    "**onde $N=2^p$ é o número de intervalos, $erro=|I_{num}-I|$ e $I$ é o valor analítico da integral.**"
   ]
  },
  {
   "cell_type": "markdown",
   "metadata": {},
   "source": [
    "***===ENTREGAR PROGRAMA (SÓ EM PRECISÃO SIMPLES)===***"
   ]
  },
  {
   "cell_type": "markdown",
   "metadata": {},
   "source": [
    "Para saber $I$, vamos calcular a integral analiticamente.<br>\n",
    "$\\int_0^1 (7-5x^4)dx = [7x-x^5]_0^1 = 6$ <br>\n",
    "Logo $I=6$."
   ]
  },
  {
   "cell_type": "markdown",
   "metadata": {},
   "source": [
    "O Método de Trapézios diz que nossa integral será: <br>\n",
    "$I_{num} = \\Sigma_{i=1}^n h_i \\frac{f(x_i) + f(x_{i+1})}{2} = \\frac{h}{2}[f_1+2f_2+2f_3...]$"
   ]
  },
  {
   "cell_type": "markdown",
   "metadata": {},
   "source": [
    "Nossa função é $f(x) = 7-5x^4$"
   ]
  },
  {
   "cell_type": "code",
   "execution_count": 1,
   "metadata": {},
   "outputs": [],
   "source": [
    "# Definir método\n",
    "def trapezio(f, N, a, b):\n",
    "    '''f: Função a ser integrada; \n",
    "    N: Nº de intervalos; \n",
    "    a,b: Intervalo (a,b) a ser integrado; '''\n",
    "    \n",
    "    # Região a ser calculada e tamanho de passos\n",
    "    reg = np.single(b-a)\n",
    "    h = np.single(reg/N)\n",
    "    \n",
    "    # Lista de bases do trapézio\n",
    "    lx = list(np.arange(a,b,h)+h)\n",
    "    \n",
    "    # Cálculo do método\n",
    "    soma = np.single(f(lx.pop(0)))\n",
    "    for x in lx:\n",
    "        soma += np.single(2*f(x))\n",
    "    \n",
    "    T = np.single((h/2) * soma)\n",
    "    return T"
   ]
  },
  {
   "cell_type": "code",
   "execution_count": 2,
   "metadata": {},
   "outputs": [
    {
     "data": {
      "text/html": [
       "<div>\n",
       "<style scoped>\n",
       "    .dataframe tbody tr th:only-of-type {\n",
       "        vertical-align: middle;\n",
       "    }\n",
       "\n",
       "    .dataframe tbody tr th {\n",
       "        vertical-align: top;\n",
       "    }\n",
       "\n",
       "    .dataframe thead th {\n",
       "        text-align: right;\n",
       "    }\n",
       "</style>\n",
       "<table border=\"1\" class=\"dataframe\">\n",
       "  <thead>\n",
       "    <tr style=\"text-align: right;\">\n",
       "      <th></th>\n",
       "      <th>p</th>\n",
       "      <th>N</th>\n",
       "      <th>Inum</th>\n",
       "      <th>Erro</th>\n",
       "    </tr>\n",
       "  </thead>\n",
       "  <tbody>\n",
       "    <tr>\n",
       "      <th>1</th>\n",
       "      <td>1</td>\n",
       "      <td>2</td>\n",
       "      <td>2.671875</td>\n",
       "      <td>3.328125</td>\n",
       "    </tr>\n",
       "    <tr>\n",
       "      <th>2</th>\n",
       "      <td>2</td>\n",
       "      <td>4</td>\n",
       "      <td>4.3989258</td>\n",
       "      <td>1.6010742</td>\n",
       "    </tr>\n",
       "    <tr>\n",
       "      <th>3</th>\n",
       "      <td>3</td>\n",
       "      <td>8</td>\n",
       "      <td>5.2240753</td>\n",
       "      <td>0.77592468</td>\n",
       "    </tr>\n",
       "    <tr>\n",
       "      <th>4</th>\n",
       "      <td>4</td>\n",
       "      <td>16</td>\n",
       "      <td>5.6184945</td>\n",
       "      <td>0.38150549</td>\n",
       "    </tr>\n",
       "    <tr>\n",
       "      <th>5</th>\n",
       "      <td>5</td>\n",
       "      <td>32</td>\n",
       "      <td>5.810873</td>\n",
       "      <td>0.18912697</td>\n",
       "    </tr>\n",
       "    <tr>\n",
       "      <th>6</th>\n",
       "      <td>6</td>\n",
       "      <td>64</td>\n",
       "      <td>5.9058423</td>\n",
       "      <td>0.094157696</td>\n",
       "    </tr>\n",
       "    <tr>\n",
       "      <th>7</th>\n",
       "      <td>7</td>\n",
       "      <td>128</td>\n",
       "      <td>5.953023</td>\n",
       "      <td>0.046977043</td>\n",
       "    </tr>\n",
       "    <tr>\n",
       "      <th>8</th>\n",
       "      <td>8</td>\n",
       "      <td>256</td>\n",
       "      <td>5.9765377</td>\n",
       "      <td>0.023462296</td>\n",
       "    </tr>\n",
       "    <tr>\n",
       "      <th>9</th>\n",
       "      <td>9</td>\n",
       "      <td>512</td>\n",
       "      <td>5.9882731</td>\n",
       "      <td>0.011726856</td>\n",
       "    </tr>\n",
       "    <tr>\n",
       "      <th>10</th>\n",
       "      <td>10</td>\n",
       "      <td>1024</td>\n",
       "      <td>5.9941387</td>\n",
       "      <td>0.0058612823</td>\n",
       "    </tr>\n",
       "    <tr>\n",
       "      <th>11</th>\n",
       "      <td>11</td>\n",
       "      <td>2048</td>\n",
       "      <td>5.9970808</td>\n",
       "      <td>0.0029191971</td>\n",
       "    </tr>\n",
       "    <tr>\n",
       "      <th>12</th>\n",
       "      <td>12</td>\n",
       "      <td>4096</td>\n",
       "      <td>5.998529</td>\n",
       "      <td>0.0014710426</td>\n",
       "    </tr>\n",
       "    <tr>\n",
       "      <th>13</th>\n",
       "      <td>13</td>\n",
       "      <td>8192</td>\n",
       "      <td>5.9992657</td>\n",
       "      <td>0.00073432922</td>\n",
       "    </tr>\n",
       "    <tr>\n",
       "      <th>14</th>\n",
       "      <td>14</td>\n",
       "      <td>16384</td>\n",
       "      <td>5.9996395</td>\n",
       "      <td>0.00036048889</td>\n",
       "    </tr>\n",
       "    <tr>\n",
       "      <th>15</th>\n",
       "      <td>15</td>\n",
       "      <td>32768</td>\n",
       "      <td>5.9998069</td>\n",
       "      <td>0.00019311905</td>\n",
       "    </tr>\n",
       "    <tr>\n",
       "      <th>16</th>\n",
       "      <td>16</td>\n",
       "      <td>65536</td>\n",
       "      <td>5.9999986</td>\n",
       "      <td>1.4305115e-06</td>\n",
       "    </tr>\n",
       "    <tr>\n",
       "      <th>17</th>\n",
       "      <td>17</td>\n",
       "      <td>131072</td>\n",
       "      <td>6.0002327</td>\n",
       "      <td>0.00023269653</td>\n",
       "    </tr>\n",
       "    <tr>\n",
       "      <th>18</th>\n",
       "      <td>18</td>\n",
       "      <td>262144</td>\n",
       "      <td>5.9994955</td>\n",
       "      <td>0.00050449371</td>\n",
       "    </tr>\n",
       "    <tr>\n",
       "      <th>19</th>\n",
       "      <td>19</td>\n",
       "      <td>524288</td>\n",
       "      <td>6.0024829</td>\n",
       "      <td>0.0024828911</td>\n",
       "    </tr>\n",
       "    <tr>\n",
       "      <th>20</th>\n",
       "      <td>20</td>\n",
       "      <td>1048576</td>\n",
       "      <td>6.0076118</td>\n",
       "      <td>0.0076117516</td>\n",
       "    </tr>\n",
       "    <tr>\n",
       "      <th>21</th>\n",
       "      <td>21</td>\n",
       "      <td>2097152</td>\n",
       "      <td>5.9956117</td>\n",
       "      <td>0.0043883324</td>\n",
       "    </tr>\n",
       "    <tr>\n",
       "      <th>22</th>\n",
       "      <td>22</td>\n",
       "      <td>4194304</td>\n",
       "      <td>6.0443645</td>\n",
       "      <td>0.044364452</td>\n",
       "    </tr>\n",
       "    <tr>\n",
       "      <th>23</th>\n",
       "      <td>23</td>\n",
       "      <td>8388608</td>\n",
       "      <td>5.722579</td>\n",
       "      <td>0.277421</td>\n",
       "    </tr>\n",
       "    <tr>\n",
       "      <th>24</th>\n",
       "      <td>24</td>\n",
       "      <td>16777216</td>\n",
       "      <td>6.5647025</td>\n",
       "      <td>0.56470251</td>\n",
       "    </tr>\n",
       "    <tr>\n",
       "      <th>25</th>\n",
       "      <td>25</td>\n",
       "      <td>33554432</td>\n",
       "      <td>4</td>\n",
       "      <td>2</td>\n",
       "    </tr>\n",
       "  </tbody>\n",
       "</table>\n",
       "</div>"
      ],
      "text/plain": [
       "     p         N       Inum           Erro\n",
       "1    1         2   2.671875       3.328125\n",
       "2    2         4  4.3989258      1.6010742\n",
       "3    3         8  5.2240753     0.77592468\n",
       "4    4        16  5.6184945     0.38150549\n",
       "5    5        32   5.810873     0.18912697\n",
       "6    6        64  5.9058423    0.094157696\n",
       "7    7       128   5.953023    0.046977043\n",
       "8    8       256  5.9765377    0.023462296\n",
       "9    9       512  5.9882731    0.011726856\n",
       "10  10      1024  5.9941387   0.0058612823\n",
       "11  11      2048  5.9970808   0.0029191971\n",
       "12  12      4096   5.998529   0.0014710426\n",
       "13  13      8192  5.9992657  0.00073432922\n",
       "14  14     16384  5.9996395  0.00036048889\n",
       "15  15     32768  5.9998069  0.00019311905\n",
       "16  16     65536  5.9999986  1.4305115e-06\n",
       "17  17    131072  6.0002327  0.00023269653\n",
       "18  18    262144  5.9994955  0.00050449371\n",
       "19  19    524288  6.0024829   0.0024828911\n",
       "20  20   1048576  6.0076118   0.0076117516\n",
       "21  21   2097152  5.9956117   0.0043883324\n",
       "22  22   4194304  6.0443645    0.044364452\n",
       "23  23   8388608   5.722579       0.277421\n",
       "24  24  16777216  6.5647025     0.56470251\n",
       "25  25  33554432          4              2"
      ]
     },
     "execution_count": 2,
     "metadata": {},
     "output_type": "execute_result"
    }
   ],
   "source": [
    "# Definir funcao\n",
    "def func(x):\n",
    "    return 7-5*x**4\n",
    "\n",
    "# Calcular p de 1 a 25 e fazer tabela\n",
    "import numpy as np\n",
    "import pandas as pd\n",
    "pd.set_option('precision', 8)\n",
    "\n",
    "# Gerar p e tabela inicial\n",
    "p = list(np.arange(1,26))\n",
    "df = pd.DataFrame(index=np.arange(1,26), columns=['p', 'N', 'Inum', 'Erro'])\n",
    "\n",
    "# Iterações\n",
    "for p in p:\n",
    "    N = np.single(2**p)\n",
    "    a = np.single(0)\n",
    "    b = np.single(1)\n",
    "    I = np.single(6)\n",
    "    Inum = np.single(trapezio(func, N, 0, 1))\n",
    "    erro = np.single(np.abs(Inum-I))\n",
    "    \n",
    "    # Adicionar à tabela\n",
    "    df.loc[p] = [p, N, Inum, erro]\n",
    "    \n",
    "df"
   ]
  },
  {
   "cell_type": "markdown",
   "metadata": {},
   "source": [
    "**b) Faça um gráfico de $log_{10}erro$ em função de $p$, eliminando os pontos em que eventualmente $erro=0$. Repita os cálculos em *dupla precisão* e coloque os resultados no mesmo gráfico. Indique nos gráficos os efeitos do erro de Truncamento do método e erro de \"Roundoff\" da representação de ponto flutuante. Determine a partir do gráfico a ordem de grandeza do erro do método empregado e \"Roundoff\" e compare com os teóricos $O(h^2)$ e $O(\\sqrt{N})$, respectivamente. Explique o que está acontecendo à medida que se aumenta $N$.**"
   ]
  },
  {
   "cell_type": "markdown",
   "metadata": {},
   "source": [
    "***===ENTREGAR TABELA IMPRESSA PRECISÃO SIMPLES===***"
   ]
  },
  {
   "cell_type": "code",
   "execution_count": 3,
   "metadata": {},
   "outputs": [
    {
     "data": {
      "image/png": "[encoded data removed]",
      "text/plain": [
       "<Figure size 432x288 with 1 Axes>"
      ]
     },
     "metadata": {
      "needs_background": "light"
     },
     "output_type": "display_data"
    }
   ],
   "source": [
    "# Fazer gráfico\n",
    "import matplotlib.pyplot as plt\n",
    "\n",
    "plt.plot(df['p'], df['Erro'], marker='.', label='Precisão simples')\n",
    "\n",
    "plt.title('Análise de erro no método de trapézios')\n",
    "plt.xlabel('p')\n",
    "plt.ylabel('log_10 erro')\n",
    "plt.yscale('log')\n",
    "plt.grid()\n",
    "plt.legend()\n",
    "\n",
    "plt.show()"
   ]
  },
  {
   "cell_type": "code",
   "execution_count": 4,
   "metadata": {},
   "outputs": [
    {
     "data": {
      "text/html": [
       "<div>\n",
       "<style scoped>\n",
       "    .dataframe tbody tr th:only-of-type {\n",
       "        vertical-align: middle;\n",
       "    }\n",
       "\n",
       "    .dataframe tbody tr th {\n",
       "        vertical-align: top;\n",
       "    }\n",
       "\n",
       "    .dataframe thead th {\n",
       "        text-align: right;\n",
       "    }\n",
       "</style>\n",
       "<table border=\"1\" class=\"dataframe\">\n",
       "  <thead>\n",
       "    <tr style=\"text-align: right;\">\n",
       "      <th></th>\n",
       "      <th>p</th>\n",
       "      <th>N</th>\n",
       "      <th>Inum</th>\n",
       "      <th>Erro</th>\n",
       "    </tr>\n",
       "  </thead>\n",
       "  <tbody>\n",
       "    <tr>\n",
       "      <th>1</th>\n",
       "      <td>1</td>\n",
       "      <td>2</td>\n",
       "      <td>2.671875</td>\n",
       "      <td>3.328125</td>\n",
       "    </tr>\n",
       "    <tr>\n",
       "      <th>2</th>\n",
       "      <td>2</td>\n",
       "      <td>4</td>\n",
       "      <td>4.39892578125</td>\n",
       "      <td>1.60107421875</td>\n",
       "    </tr>\n",
       "    <tr>\n",
       "      <th>3</th>\n",
       "      <td>3</td>\n",
       "      <td>8</td>\n",
       "      <td>5.224075317382812</td>\n",
       "      <td>0.7759246826171875</td>\n",
       "    </tr>\n",
       "    <tr>\n",
       "      <th>4</th>\n",
       "      <td>4</td>\n",
       "      <td>16</td>\n",
       "      <td>5.618494510650635</td>\n",
       "      <td>0.3815054893493652</td>\n",
       "    </tr>\n",
       "    <tr>\n",
       "      <th>5</th>\n",
       "      <td>5</td>\n",
       "      <td>32</td>\n",
       "      <td>5.810872629284859</td>\n",
       "      <td>0.1891273707151413</td>\n",
       "    </tr>\n",
       "    <tr>\n",
       "      <th>6</th>\n",
       "      <td>6</td>\n",
       "      <td>64</td>\n",
       "      <td>5.905843111220747</td>\n",
       "      <td>0.09415688877925277</td>\n",
       "    </tr>\n",
       "    <tr>\n",
       "      <th>7</th>\n",
       "      <td>7</td>\n",
       "      <td>128</td>\n",
       "      <td>5.953023275433225</td>\n",
       "      <td>0.04697672456677537</td>\n",
       "    </tr>\n",
       "    <tr>\n",
       "      <th>8</th>\n",
       "      <td>8</td>\n",
       "      <td>256</td>\n",
       "      <td>5.976537068725975</td>\n",
       "      <td>0.02346293127402532</td>\n",
       "    </tr>\n",
       "    <tr>\n",
       "      <th>9</th>\n",
       "      <td>9</td>\n",
       "      <td>512</td>\n",
       "      <td>5.98827489217372</td>\n",
       "      <td>0.01172510782627967</td>\n",
       "    </tr>\n",
       "    <tr>\n",
       "      <th>10</th>\n",
       "      <td>10</td>\n",
       "      <td>1024</td>\n",
       "      <td>5.994139035542959</td>\n",
       "      <td>0.005860964457040652</td>\n",
       "    </tr>\n",
       "    <tr>\n",
       "      <th>11</th>\n",
       "      <td>11</td>\n",
       "      <td>2048</td>\n",
       "      <td>5.997069915135707</td>\n",
       "      <td>0.002930084864292581</td>\n",
       "    </tr>\n",
       "    <tr>\n",
       "      <th>12</th>\n",
       "      <td>12</td>\n",
       "      <td>4096</td>\n",
       "      <td>5.998535056908952</td>\n",
       "      <td>0.001464943091048276</td>\n",
       "    </tr>\n",
       "    <tr>\n",
       "      <th>13</th>\n",
       "      <td>13</td>\n",
       "      <td>8192</td>\n",
       "      <td>5.99926755328967</td>\n",
       "      <td>0.0007324467103302368</td>\n",
       "    </tr>\n",
       "    <tr>\n",
       "      <th>14</th>\n",
       "      <td>14</td>\n",
       "      <td>16384</td>\n",
       "      <td>5.999633782853688</td>\n",
       "      <td>0.0003662171463121311</td>\n",
       "    </tr>\n",
       "    <tr>\n",
       "      <th>15</th>\n",
       "      <td>15</td>\n",
       "      <td>32768</td>\n",
       "      <td>5.999816892979024</td>\n",
       "      <td>0.0001831070209759034</td>\n",
       "    </tr>\n",
       "    <tr>\n",
       "      <th>16</th>\n",
       "      <td>16</td>\n",
       "      <td>65536</td>\n",
       "      <td>5.999908446877604</td>\n",
       "      <td>9.155312239617075e-05</td>\n",
       "    </tr>\n",
       "    <tr>\n",
       "      <th>17</th>\n",
       "      <td>17</td>\n",
       "      <td>131072</td>\n",
       "      <td>5.999954223535748</td>\n",
       "      <td>4.57764642520786e-05</td>\n",
       "    </tr>\n",
       "    <tr>\n",
       "      <th>18</th>\n",
       "      <td>18</td>\n",
       "      <td>262144</td>\n",
       "      <td>5.999977111792065</td>\n",
       "      <td>2.288820793516777e-05</td>\n",
       "    </tr>\n",
       "    <tr>\n",
       "      <th>19</th>\n",
       "      <td>19</td>\n",
       "      <td>524288</td>\n",
       "      <td>5.999988555902447</td>\n",
       "      <td>1.144409755315934e-05</td>\n",
       "    </tr>\n",
       "    <tr>\n",
       "      <th>20</th>\n",
       "      <td>20</td>\n",
       "      <td>1048576</td>\n",
       "      <td>5.999994277952118</td>\n",
       "      <td>5.722047881739911e-06</td>\n",
       "    </tr>\n",
       "    <tr>\n",
       "      <th>21</th>\n",
       "      <td>21</td>\n",
       "      <td>2097152</td>\n",
       "      <td>5.999997138977083</td>\n",
       "      <td>2.861022917244327e-06</td>\n",
       "    </tr>\n",
       "    <tr>\n",
       "      <th>22</th>\n",
       "      <td>22</td>\n",
       "      <td>4194304</td>\n",
       "      <td>5.999998569488196</td>\n",
       "      <td>1.430511804123569e-06</td>\n",
       "    </tr>\n",
       "    <tr>\n",
       "      <th>23</th>\n",
       "      <td>23</td>\n",
       "      <td>8388608</td>\n",
       "      <td>5.999999284744205</td>\n",
       "      <td>7.152557950362848e-07</td>\n",
       "    </tr>\n",
       "    <tr>\n",
       "      <th>24</th>\n",
       "      <td>24</td>\n",
       "      <td>16777216</td>\n",
       "      <td>5.999999642372142</td>\n",
       "      <td>3.576278579942027e-07</td>\n",
       "    </tr>\n",
       "    <tr>\n",
       "      <th>25</th>\n",
       "      <td>25</td>\n",
       "      <td>33554432</td>\n",
       "      <td>5.999999821186758</td>\n",
       "      <td>1.788132424351829e-07</td>\n",
       "    </tr>\n",
       "  </tbody>\n",
       "</table>\n",
       "</div>"
      ],
      "text/plain": [
       "     p         N               Inum                   Erro\n",
       "1    1         2           2.671875               3.328125\n",
       "2    2         4      4.39892578125          1.60107421875\n",
       "3    3         8  5.224075317382812     0.7759246826171875\n",
       "4    4        16  5.618494510650635     0.3815054893493652\n",
       "5    5        32  5.810872629284859     0.1891273707151413\n",
       "6    6        64  5.905843111220747    0.09415688877925277\n",
       "7    7       128  5.953023275433225    0.04697672456677537\n",
       "8    8       256  5.976537068725975    0.02346293127402532\n",
       "9    9       512   5.98827489217372    0.01172510782627967\n",
       "10  10      1024  5.994139035542959   0.005860964457040652\n",
       "11  11      2048  5.997069915135707   0.002930084864292581\n",
       "12  12      4096  5.998535056908952   0.001464943091048276\n",
       "13  13      8192   5.99926755328967  0.0007324467103302368\n",
       "14  14     16384  5.999633782853688  0.0003662171463121311\n",
       "15  15     32768  5.999816892979024  0.0001831070209759034\n",
       "16  16     65536  5.999908446877604  9.155312239617075e-05\n",
       "17  17    131072  5.999954223535748   4.57764642520786e-05\n",
       "18  18    262144  5.999977111792065  2.288820793516777e-05\n",
       "19  19    524288  5.999988555902447  1.144409755315934e-05\n",
       "20  20   1048576  5.999994277952118  5.722047881739911e-06\n",
       "21  21   2097152  5.999997138977083  2.861022917244327e-06\n",
       "22  22   4194304  5.999998569488196  1.430511804123569e-06\n",
       "23  23   8388608  5.999999284744205  7.152557950362848e-07\n",
       "24  24  16777216  5.999999642372142  3.576278579942027e-07\n",
       "25  25  33554432  5.999999821186758  1.788132424351829e-07"
      ]
     },
     "execution_count": 4,
     "metadata": {},
     "output_type": "execute_result"
    }
   ],
   "source": [
    "# Repetir cálculos com dupla precisão\n",
    "def trapezio2(f, N, a, b):\n",
    "    reg = np.double(b-a)\n",
    "    h = np.double(reg/N)\n",
    "    \n",
    "    # Lista de bases do trapézio\n",
    "    lx = list(np.arange(a,b,h)+h)\n",
    "    \n",
    "    # Cálculo do método\n",
    "    soma = np.double(f(lx.pop(0)))\n",
    "    for x in lx:\n",
    "        soma += np.double(2*f(x))\n",
    "    \n",
    "    T = np.double((h/2) * soma)\n",
    "    return T\n",
    "\n",
    "p = list(np.arange(1,26))\n",
    "pd.set_option('precision', 16)\n",
    "df2 = pd.DataFrame(index=np.arange(1,26), columns=['p', 'N', 'Inum', 'Erro'])\n",
    "\n",
    "# Iterações\n",
    "for p in p:\n",
    "    N = np.double(2**p)\n",
    "    a = np.double(0)\n",
    "    b = np.double(1)\n",
    "    I = np.double(6)\n",
    "    Inum = np.double(trapezio2(func, N, 0, 1))\n",
    "    erro = np.double(np.abs(Inum-I))\n",
    "    df2.loc[p] = [p, N, Inum, erro]\n",
    "df2"
   ]
  },
  {
   "cell_type": "code",
   "execution_count": 5,
   "metadata": {
    "scrolled": true
   },
   "outputs": [
    {
     "data": {
      "image/png": "[encoded data removed]",
      "text/plain": [
       "<Figure size 432x288 with 1 Axes>"
      ]
     },
     "metadata": {
      "needs_background": "light"
     },
     "output_type": "display_data"
    }
   ],
   "source": [
    "# Fazer gráfico\n",
    "import matplotlib.pyplot as plt\n",
    "\n",
    "plt.plot(df2['p'], df2['Erro'], marker='*', color='orange', label='Precisão dupla')\n",
    "plt.plot(df['p'], df['Erro'], marker='.', color='blue', label='Precisão simples')\n",
    "\n",
    "plt.title('Análise de erro no método de trapézios')\n",
    "plt.xlabel('p')\n",
    "plt.ylabel('log_10 erro')\n",
    "plt.yscale('log')\n",
    "plt.xlim(1,25)\n",
    "plt.xticks(np.arange(1,25,1))\n",
    "plt.legend()\n",
    "plt.grid()\n",
    "\n",
    "plt.show()"
   ]
  },
  {
   "cell_type": "markdown",
   "metadata": {},
   "source": [
    "No gráfico acima, no caso de precisão simples, vemos que no ponto $p=16$ houve erro de truncamento, ou seja, erro de parada  abrupta do método. Isso é evidenciado pela queda brusca do erro, que teoricamente tem aspecto linear na forma $O(h^\\alpha)$. Mas por que o erro aumenta depois? Isto acontece por causa do erro de roundoff, que é o \"erro de arredondamento\". Conforme o método vai arredondando as somas, ele vai acumulando um erro conforme $N$ aumenta, e por isso o erro vai aumentar. <br>\n",
    "Uma vez que na precisão dupla temos mais casas decimais a serem calculadas, não temos o mesmo erro que na precisão simples até o $N$ considerado. Se continuarmos calculando para $p$ maiores, iremos eventualmente ver os mesmos erros na precisão dupla."
   ]
  },
  {
   "cell_type": "markdown",
   "metadata": {},
   "source": [
    "Podemos analisar o $\\alpha$ do erro calculando o coeficiente angular do gráfico acima. Vamos pegar os pontos $(6,-1)$ e $(9,-2)$. Temos <br>\n",
    "$\\alpha = \\frac{y_2 - y_1}{x_2 - x_1} = \\frac{-2+1}{9-6} = -\\frac{1}{3} \\approx -0.3$"
   ]
  },
  {
   "cell_type": "markdown",
   "metadata": {},
   "source": [
    "Que é a ordem de grandeza do erro do método."
   ]
  },
  {
   "cell_type": "markdown",
   "metadata": {},
   "source": [
    "**2) O período de um pêndulo simples para ângulos pequenos $(\\theta_0<10º)$ é dado aproximadamente por $T_{Galileu}=2\\pi\\sqrt{l/g}$. Para ângulos apreciáveis e desprezando a resistência do ar, a expressão para o período é**"
   ]
  },
  {
   "cell_type": "markdown",
   "metadata": {},
   "source": [
    "<center>\n",
    "$T=4\\sqrt{\\frac{l}{g}} \\int_{0}^{\\pi/2} \\frac{1}{\\sqrt{1-k^2sin^2\\xi}} d \\xi$\n",
    "</center>"
   ]
  },
  {
   "cell_type": "markdown",
   "metadata": {},
   "source": [
    "**onde $k=sin(\\theta_0/2)$ e $\\theta_0$ é o ângulo inicial em *radianos*. Com o método de Simpson, calcule a integral acima e construa uma tabela com 10 valores de $\\theta_0$ e $T$, com $\\theta_0$ variando no intervalo $[0,\\pi)$. Aumente bem o número de valores $\\theta_0$ e faça um gráfico de $T/T_{Galileu}$ em função de $\\theta_0$. Use o número de divisões trapezoidais que achar necessário.**"
   ]
  },
  {
   "cell_type": "markdown",
   "metadata": {},
   "source": [
    "***===ENTREGAR PROGRAMA + TABELA + GRÁFICO===***"
   ]
  },
  {
   "cell_type": "markdown",
   "metadata": {},
   "source": [
    "Primeiro, defino o algoritmo:"
   ]
  },
  {
   "cell_type": "code",
   "execution_count": 6,
   "metadata": {},
   "outputs": [],
   "source": [
    "# Definir método\n",
    "def simpson(f, t, N, a, b):\n",
    "    '''f: Função; t: Theta_0 (específico para o problema), N: Nº de intervalos, (a,b): Região de integração'''\n",
    "    if N%2 == 1:\n",
    "        raise ValueError(\"Por favor, passe um N par.\") # Se N ímpar, as listas quebram\n",
    "    h = (b-a)/N # Tamanho do passo\n",
    "    \n",
    "    lx = np.linspace(a,b,N+1) # Lista de bases\n",
    "    # Pares e ímpares\n",
    "    lxp = lx[0:-1:2] \n",
    "    lxi = lx[1::2] \n",
    "    lxp2 = lx[2::2]\n",
    "    \n",
    "    # Cálculo do método\n",
    "    soma = np.sum(f(lxp, t) + 4*f(lxi, t) + f(lxp2, t))\n",
    "    R = (h/3) * soma\n",
    "    return R"
   ]
  },
  {
   "cell_type": "markdown",
   "metadata": {},
   "source": [
    "Agora, vou aplicar para aquela integral. Vou utilizar 10 valores diferentes de $\\theta_0$, variando $10$ vezes no intervalo $[0, \\pi)$."
   ]
  },
  {
   "cell_type": "code",
   "execution_count": 7,
   "metadata": {},
   "outputs": [
    {
     "data": {
      "text/html": [
       "<div>\n",
       "<style scoped>\n",
       "    .dataframe tbody tr th:only-of-type {\n",
       "        vertical-align: middle;\n",
       "    }\n",
       "\n",
       "    .dataframe tbody tr th {\n",
       "        vertical-align: top;\n",
       "    }\n",
       "\n",
       "    .dataframe thead th {\n",
       "        text-align: right;\n",
       "    }\n",
       "</style>\n",
       "<table border=\"1\" class=\"dataframe\">\n",
       "  <thead>\n",
       "    <tr style=\"text-align: right;\">\n",
       "      <th></th>\n",
       "      <th>teta</th>\n",
       "      <th>T</th>\n",
       "    </tr>\n",
       "  </thead>\n",
       "  <tbody>\n",
       "    <tr>\n",
       "      <th>1</th>\n",
       "      <td>0</td>\n",
       "      <td>1.986917653159221</td>\n",
       "    </tr>\n",
       "    <tr>\n",
       "      <th>2</th>\n",
       "      <td>0.3490658392877548</td>\n",
       "      <td>2.002155374910078</td>\n",
       "    </tr>\n",
       "    <tr>\n",
       "      <th>3</th>\n",
       "      <td>0.6981316785755096</td>\n",
       "      <td>2.049188679798712</td>\n",
       "    </tr>\n",
       "    <tr>\n",
       "      <th>4</th>\n",
       "      <td>1.047197517863264</td>\n",
       "      <td>2.132324265167292</td>\n",
       "    </tr>\n",
       "    <tr>\n",
       "      <th>5</th>\n",
       "      <td>1.396263357151019</td>\n",
       "      <td>2.260104027977238</td>\n",
       "    </tr>\n",
       "    <tr>\n",
       "      <th>6</th>\n",
       "      <td>1.745329196438774</td>\n",
       "      <td>2.448337907643403</td>\n",
       "    </tr>\n",
       "    <tr>\n",
       "      <th>7</th>\n",
       "      <td>2.094395035726529</td>\n",
       "      <td>2.72780043692918</td>\n",
       "    </tr>\n",
       "    <tr>\n",
       "      <th>8</th>\n",
       "      <td>2.443460875014284</td>\n",
       "      <td>3.168032979108033</td>\n",
       "    </tr>\n",
       "    <tr>\n",
       "      <th>9</th>\n",
       "      <td>2.792526714302038</td>\n",
       "      <td>3.988751583708901</td>\n",
       "    </tr>\n",
       "    <tr>\n",
       "      <th>10</th>\n",
       "      <td>3.141592553589793</td>\n",
       "      <td>13411.2184142981</td>\n",
       "    </tr>\n",
       "  </tbody>\n",
       "</table>\n",
       "</div>"
      ],
      "text/plain": [
       "                  teta                  T\n",
       "1                    0  1.986917653159221\n",
       "2   0.3490658392877548  2.002155374910078\n",
       "3   0.6981316785755096  2.049188679798712\n",
       "4    1.047197517863264  2.132324265167292\n",
       "5    1.396263357151019  2.260104027977238\n",
       "6    1.745329196438774  2.448337907643403\n",
       "7    2.094395035726529   2.72780043692918\n",
       "8    2.443460875014284  3.168032979108033\n",
       "9    2.792526714302038  3.988751583708901\n",
       "10   3.141592553589793   13411.2184142981"
      ]
     },
     "execution_count": 7,
     "metadata": {},
     "output_type": "execute_result"
    }
   ],
   "source": [
    "# Definir função a integrar\n",
    "def func(x, t_0):\n",
    "    k = np.sin(t_0/2)\n",
    "    return 1/(np.sqrt(1 - k**2 * np.sin(x)**2))\n",
    "\n",
    "# Definir valores de theta_0 (lista de 0 a pi com 10 números)\n",
    "lt0 = np.linspace(0, np.pi-1e-7, 10)\n",
    "\n",
    "# Aplicar para cada theta_0\n",
    "# Testando o método com algumas funções, vi que o método parece convergir rápido. Vou\n",
    "# utilizar N = 1000. Também utilizarei g=10 e l=1 (genérico).\n",
    "N = 1000\n",
    "l = 1\n",
    "g = 10\n",
    "# Montar tabela\n",
    "dt = pd.DataFrame(index=np.arange(1,10+1), columns=['teta', 'T'])\n",
    "for t in range(len(lt0)):\n",
    "    T = 4 * np.sqrt(l/g) * simpson(func, lt0[t], N, 0, np.pi/2)\n",
    "    dt.iloc[t] = [lt0[t], T]\n",
    "\n",
    "dt"
   ]
  },
  {
   "cell_type": "markdown",
   "metadata": {},
   "source": [
    "Nota: Tomei a liberdade de escrever $\\pi$ como $\\pi-10^{-7}$, já que o valor $\\pi$ iria mostrar $T = +\\infty$. Isto se justifica uma vez que o intervalo $[0,\\pi)$ é fechado em $\\pi$."
   ]
  },
  {
   "cell_type": "markdown",
   "metadata": {},
   "source": [
    "Agora, vamos calcular para $10000$ valores de $\\theta_0$ no intervalo $[0, \\pi)$ considerado, e calcular $T/T_{galileu}$."
   ]
  },
  {
   "cell_type": "code",
   "execution_count": 8,
   "metadata": {},
   "outputs": [],
   "source": [
    "# Agora, vamos calcular para 10000 valores de teta no intervalo considerado, e calcular T/Tg\n",
    "\n",
    "Tg = 2*np.pi* np.sqrt(l/g)\n",
    "tetas = np.linspace(0,np.pi-1e-7,1000)\n",
    "Tt = [(4 * np.sqrt(l/g) * simpson(func, t, N, 0, np.pi/2)) / Tg\n",
    "      for t in tetas]"
   ]
  },
  {
   "cell_type": "code",
   "execution_count": 9,
   "metadata": {},
   "outputs": [
    {
     "data": {
      "image/png": "[encoded data removed]",
      "text/plain": [
       "<Figure size 432x288 with 1 Axes>"
      ]
     },
     "metadata": {
      "needs_background": "light"
     },
     "output_type": "display_data"
    }
   ],
   "source": [
    "# Montar gráfico de T/Tg\n",
    "\n",
    "plt.plot(tetas, Tt,\n",
    "        alpha=0.75, color='purple')\n",
    "\n",
    "plt.title('Análise do método de Simpson aplicado ao movimento de um pêndulo.')\n",
    "plt.xlabel('Theta (rad)')\n",
    "plt.ylabel('T/T_galileu')\n",
    "\n",
    "plt.grid()\n",
    "plt.show()"
   ]
  },
  {
   "cell_type": "markdown",
   "metadata": {},
   "source": [
    "O gráfico acima parece sofrer uma diferença abrupta em $\\theta_0\\approx\\pi$. Mas, ampliando o gráfico, visualizamos melhor a razão $T/T_{galileu}$."
   ]
  },
  {
   "cell_type": "code",
   "execution_count": 10,
   "metadata": {},
   "outputs": [
    {
     "data": {
      "image/png": "[encoded data removed]",
      "text/plain": [
       "<Figure size 432x288 with 1 Axes>"
      ]
     },
     "metadata": {
      "needs_background": "light"
     },
     "output_type": "display_data"
    }
   ],
   "source": [
    "plt.plot(tetas, Tt,\n",
    "        alpha=0.75, color='purple')\n",
    "\n",
    "plt.title('Análise do método de Simpson aplicado ao movimento de um pêndulo.')\n",
    "plt.xlabel('Theta (rad)')\n",
    "plt.ylabel('T/T_galileu (SI)')\n",
    "plt.ylim(0,6)\n",
    "\n",
    "plt.grid()\n",
    "plt.show()"
   ]
  },
  {
   "cell_type": "markdown",
   "metadata": {},
   "source": [
    "Analisando o gráfico acima vemos que, como a teoria prevê, se $\\theta_0 \\rightarrow 0$, $T \\rightarrow T_{galileu}$. Conforme $\\theta_0$ cresce, o período tende a crescer e a razão $T/T_{galileu}$ aumenta. Imagino que, quando $\\theta_0 \\approx \\pi$, nossa previsão teórica deixa de ser válida, e para explicar corretamente o período seria necessário considerar oscilações não-lineares e caóticas."
   ]
  },
  {
   "cell_type": "markdown",
   "metadata": {},
   "source": [
    "**3) Cálculo da área sob a curva $y=x^4$, $0<x<1$, usando o método de Monte-Carlo.**"
   ]
  },
  {
   "cell_type": "markdown",
   "metadata": {},
   "source": [
    "**a) Construa primeiro uma rotina random($Z_i$) que retorne números aleatórios uniformemente distribuídos por \"linear congruential generator\" com $Z_{i+1}=(a Z_i+c) mod m$, onde $a=1103515245$, $c=12345$, $m=2147483647$ e $U_i=Z_{i+1}/m$. $U_i$ é o número entre 0 e 1 gerado. Use seu número USP como semente inicial $Z_0$.**"
   ]
  },
  {
   "cell_type": "markdown",
   "metadata": {},
   "source": [
    "***===ENTREGAR PROGRAMA===***"
   ]
  },
  {
   "cell_type": "markdown",
   "metadata": {},
   "source": [
    "Farei uma rotina random na forma $Z_{i+1} = (a Z_i + c) \\% m $, onde $a=1103515245$, $c=12345$, $m=2147483647$, e $U_i = Z_{i+1}/m$."
   ]
  },
  {
   "cell_type": "code",
   "execution_count": 11,
   "metadata": {},
   "outputs": [],
   "source": [
    "# Random generator\n",
    "def random(a, b, m, z0, l):\n",
    "    '''a, b, m: parâmetros;\n",
    "    z0: semente inicial;\n",
    "    l: quantidade a retornar'''\n",
    "    random = []\n",
    "    idum = (a*z0+b)%m\n",
    "    random.append(idum/m)\n",
    "    for n in range(l-1):\n",
    "        idum = (a*idum+b)%m\n",
    "        random.append(idum/m)\n",
    "    return np.array(random)"
   ]
  },
  {
   "cell_type": "code",
   "execution_count": 12,
   "metadata": {},
   "outputs": [
    {
     "data": {
      "text/plain": [
       "array([0.29122201, 0.08280721, 0.40656031, 0.48528437, 0.68244989,\n",
       "       0.73215259, 0.25958914, 0.89468152, 0.14917479, 0.52366292,\n",
       "       0.47639865, 0.94258423, 0.66438244, 0.91980324, 0.61209062,\n",
       "       0.95708194, 0.02367981, 0.412336  , 0.16531097, 0.77511504])"
      ]
     },
     "execution_count": 12,
     "metadata": {},
     "output_type": "execute_result"
    }
   ],
   "source": [
    "# Aplicação\n",
    "a = 1103515245\n",
    "c = 12345\n",
    "m = 2147483647\n",
    "z0 = 10299437\n",
    "random(a, c, m, z0, 100)[:20]"
   ]
  },
  {
   "cell_type": "markdown",
   "metadata": {},
   "source": [
    "Nota: Precisei colocar um critério de parada, no caso $l$, que é o número de quantidades aleatórias que a rotina retorna. Isto foi feito pois dependendo dos parâmetros passados, o computador terá de calcular números demais e irá eventualmente esgotar o processamento de computadores potentes inclusive."
   ]
  },
  {
   "cell_type": "markdown",
   "metadata": {},
   "source": [
    "**b) Faça UMA tentativa jogando 100 pontos $(x,y)$, $0<x<1$ e $0<y<1$ aleatoriamente e determine o valor da área sob a curva usando**"
   ]
  },
  {
   "cell_type": "markdown",
   "metadata": {},
   "source": [
    "<center>\n",
    "    $I \\approx\\frac{número de pontos dentro}{número total de pontos}$\n",
    "</center>"
   ]
  },
  {
   "cell_type": "markdown",
   "metadata": {},
   "source": [
    "***===ENTREGAR PROGRAMA===***"
   ]
  },
  {
   "cell_type": "markdown",
   "metadata": {},
   "source": [
    "Função: $f(x)=x^4$."
   ]
  },
  {
   "cell_type": "code",
   "execution_count": 13,
   "metadata": {},
   "outputs": [],
   "source": [
    "# Definir função a integrar\n",
    "def func(x):\n",
    "    return x**4"
   ]
  },
  {
   "cell_type": "code",
   "execution_count": 14,
   "metadata": {
    "scrolled": true
   },
   "outputs": [
    {
     "data": {
      "image/png": "[encoded data removed]",
      "text/plain": [
       "<Figure size 432x288 with 1 Axes>"
      ]
     },
     "metadata": {
      "needs_background": "light"
     },
     "output_type": "display_data"
    }
   ],
   "source": [
    "# Plotar gráfico (apenas para visualizar melhor)\n",
    "plt.plot(np.arange(0,1,0.001), [func(i) for i in np.arange(0,1,0.001)], color='black')\n",
    "plt.title('f(x)=x^4')\n",
    "plt.xlabel('x')\n",
    "plt.ylabel('f(x)')\n",
    "plt.grid()\n",
    "plt.show()"
   ]
  },
  {
   "cell_type": "markdown",
   "metadata": {},
   "source": [
    "Vou aplicar o método de Monte Carlo para descobrir a área sob a curva acima."
   ]
  },
  {
   "cell_type": "code",
   "execution_count": 15,
   "metadata": {},
   "outputs": [],
   "source": [
    "# Definir Método de Monte Carlo\n",
    "def mcarlo(f, x1, x2, mx, N):\n",
    "    '''\n",
    "    f: Função a integrar;\n",
    "    x1, x2: Região de integração;\n",
    "    mx: Altura máxima do retângulo. Deve ser >= o máximo local na região considerada.\n",
    "    N: Pontos aleatórios gerados\n",
    "    '''\n",
    "    # Gerar x_i, y_i aleatórios\n",
    "    xa = (random(a, c, m, z0, N)*(x2-x1))+x1 # x entre (x1, x2)\n",
    "    ya = (random(a, c, m, 1500, N)*mx) # y entre (0, mx)\n",
    "    # Calcular tamanho da área\n",
    "    area = (x2-x1)*(mx)\n",
    "    \n",
    "    # Calcular quais pontos x_i, y_i estão abaixo da curva\n",
    "    dentro = 0\n",
    "    for i in range(N):\n",
    "        if f(xa[i])>=ya[i]:\n",
    "            dentro+=1\n",
    "    \n",
    "    # Integral, área vezes pontos dentro por pontos totais\n",
    "    I = area * (dentro/N)\n",
    "    return I"
   ]
  },
  {
   "cell_type": "code",
   "execution_count": 16,
   "metadata": {},
   "outputs": [
    {
     "name": "stdout",
     "output_type": "stream",
     "text": [
      "Valor de integral encontrado: 0.220000, N=100\n"
     ]
    }
   ],
   "source": [
    "# Aplicar método\n",
    "print('Valor de integral encontrado: {:f}, N={:.0f}'.format(mcarlo(func, 0, 1, 1, N=100), 100))"
   ]
  },
  {
   "cell_type": "markdown",
   "metadata": {},
   "source": [
    "A fim de visualizar melhor o que está acontecendo, vamos gerar um gráfico para o método."
   ]
  },
  {
   "cell_type": "code",
   "execution_count": 17,
   "metadata": {},
   "outputs": [
    {
     "data": {
      "image/png": "[encoded data removed]",
      "text/plain": [
       "<Figure size 432x288 with 1 Axes>"
      ]
     },
     "metadata": {
      "needs_background": "light"
     },
     "output_type": "display_data"
    }
   ],
   "source": [
    "# Visualizar método\n",
    "N = 100\n",
    "x1 = 0\n",
    "x2 = 1\n",
    "mx = 1\n",
    "xa = (random(a, c, m, z0, N)*(x2-x1))+x1\n",
    "ya = (random(a, c, m, 1500, N)*mx)\n",
    "\n",
    "\n",
    "dx=[]\n",
    "dy=[]\n",
    "for i in range(N):\n",
    "    if func(xa[i])>ya[i]:\n",
    "        dx.append(xa[i])\n",
    "        dy.append(ya[i])\n",
    "fx=[]\n",
    "fy=[]\n",
    "for i in range(N):\n",
    "    if func(xa[i])<ya[i]:\n",
    "        fx.append(xa[i])\n",
    "        fy.append(ya[i])\n",
    "\n",
    "plt.plot(np.arange(0,1,0.001), [func(i) for i in np.arange(0,1,0.001)], color='black', label='f(x)=x^4')\n",
    "plt.scatter(dx,dy, color='pink', label='Pontos dentro da curva')\n",
    "plt.scatter(fx,fy, color='lightblue', label='Pontos fora da curva')\n",
    "\n",
    "plt.title('Visualização do Método de Monte Carlo, N={:.0f}'.format(N))\n",
    "plt.xlabel('x')\n",
    "plt.ylabel('f(x)')\n",
    "plt.grid()\n",
    "plt.legend(loc='upper left', fontsize='small')\n",
    "plt.show()"
   ]
  },
  {
   "cell_type": "markdown",
   "metadata": {},
   "source": [
    "**c) Faça um estudo com diferentes números de tentativas $N_t=2,4,8,16,...,131072$ (cada tentativa joga 100 pontos aleatórios). Construa a seguinte tabela**"
   ]
  },
  {
   "cell_type": "markdown",
   "metadata": {},
   "source": [
    "![title](./table2.png)"
   ]
  },
  {
   "cell_type": "markdown",
   "metadata": {},
   "source": [
    "**onde $I_m$ é o valor médio da integral, $\\sigma$ é o desvio padrão e $\\sigma_m$ é o desvio padrão da média, dados pelas fórmulas:**"
   ]
  },
  {
   "cell_type": "markdown",
   "metadata": {},
   "source": [
    "<center>\n",
    "$I_m = \\frac{1}{N_t}\\Sigma_{i=1}^{N_t} I_i$\n",
    "</center>"
   ]
  },
  {
   "cell_type": "markdown",
   "metadata": {},
   "source": [
    "<center>\n",
    "$\\sigma^2=\\frac{1}{N_t-1}\\Sigma_{i=1}^{N_t}(I_i-I_m)^2\n",
    "$\n",
    "</center>"
   ]
  },
  {
   "cell_type": "markdown",
   "metadata": {},
   "source": [
    "**e $\\sigma_m=\\sigma/\\sqrt{N_t}$.**"
   ]
  },
  {
   "cell_type": "markdown",
   "metadata": {},
   "source": [
    "**O valor da integral é dado por $I_m \\pm \\sigma_m$.**"
   ]
  },
  {
   "cell_type": "markdown",
   "metadata": {},
   "source": [
    "***===ENTREGAR TABELA===***"
   ]
  },
  {
   "cell_type": "code",
   "execution_count": 18,
   "metadata": {
    "scrolled": false
   },
   "outputs": [
    {
     "data": {
      "text/html": [
       "<div>\n",
       "<style scoped>\n",
       "    .dataframe tbody tr th:only-of-type {\n",
       "        vertical-align: middle;\n",
       "    }\n",
       "\n",
       "    .dataframe tbody tr th {\n",
       "        vertical-align: top;\n",
       "    }\n",
       "\n",
       "    .dataframe thead th {\n",
       "        text-align: right;\n",
       "    }\n",
       "</style>\n",
       "<table border=\"1\" class=\"dataframe\">\n",
       "  <thead>\n",
       "    <tr style=\"text-align: right;\">\n",
       "      <th></th>\n",
       "      <th>Nt</th>\n",
       "      <th>Im</th>\n",
       "      <th>sigma</th>\n",
       "      <th>sigma_m</th>\n",
       "    </tr>\n",
       "  </thead>\n",
       "  <tbody>\n",
       "    <tr>\n",
       "      <th>0</th>\n",
       "      <td>2</td>\n",
       "      <td>0.16</td>\n",
       "      <td>0</td>\n",
       "      <td>0</td>\n",
       "    </tr>\n",
       "    <tr>\n",
       "      <th>1</th>\n",
       "      <td>4</td>\n",
       "      <td>0.19</td>\n",
       "      <td>0</td>\n",
       "      <td>0</td>\n",
       "    </tr>\n",
       "    <tr>\n",
       "      <th>2</th>\n",
       "      <td>8</td>\n",
       "      <td>0.22</td>\n",
       "      <td>0</td>\n",
       "      <td>0</td>\n",
       "    </tr>\n",
       "    <tr>\n",
       "      <th>3</th>\n",
       "      <td>16</td>\n",
       "      <td>0.17</td>\n",
       "      <td>0</td>\n",
       "      <td>0</td>\n",
       "    </tr>\n",
       "    <tr>\n",
       "      <th>4</th>\n",
       "      <td>32</td>\n",
       "      <td>0.11</td>\n",
       "      <td>0</td>\n",
       "      <td>0</td>\n",
       "    </tr>\n",
       "    <tr>\n",
       "      <th>5</th>\n",
       "      <td>64</td>\n",
       "      <td>0.2</td>\n",
       "      <td>2.797499069501051e-17</td>\n",
       "      <td>3.496873836876314e-18</td>\n",
       "    </tr>\n",
       "    <tr>\n",
       "      <th>6</th>\n",
       "      <td>128</td>\n",
       "      <td>0.15</td>\n",
       "      <td>2.786463527196397e-17</td>\n",
       "      <td>2.462909069511947e-18</td>\n",
       "    </tr>\n",
       "    <tr>\n",
       "      <th>7</th>\n",
       "      <td>256</td>\n",
       "      <td>0.21</td>\n",
       "      <td>0</td>\n",
       "      <td>0</td>\n",
       "    </tr>\n",
       "    <tr>\n",
       "      <th>8</th>\n",
       "      <td>512</td>\n",
       "      <td>0.19</td>\n",
       "      <td>2.778272043934457e-17</td>\n",
       "      <td>1.227834376404415e-18</td>\n",
       "    </tr>\n",
       "    <tr>\n",
       "      <th>9</th>\n",
       "      <td>1024</td>\n",
       "      <td>0.18</td>\n",
       "      <td>2.776913807703718e-17</td>\n",
       "      <td>8.677855649074118e-19</td>\n",
       "    </tr>\n",
       "    <tr>\n",
       "      <th>10</th>\n",
       "      <td>2048</td>\n",
       "      <td>0.18</td>\n",
       "      <td>2.776235436175896e-17</td>\n",
       "      <td>6.134671572157401e-19</td>\n",
       "    </tr>\n",
       "    <tr>\n",
       "      <th>11</th>\n",
       "      <td>4096</td>\n",
       "      <td>0.2</td>\n",
       "      <td>2.775896436792963e-17</td>\n",
       "      <td>4.337338182489005e-19</td>\n",
       "    </tr>\n",
       "    <tr>\n",
       "      <th>12</th>\n",
       "      <td>8192</td>\n",
       "      <td>0.15</td>\n",
       "      <td>2.775726983663556e-17</td>\n",
       "      <td>3.066774020110909e-19</td>\n",
       "    </tr>\n",
       "    <tr>\n",
       "      <th>13</th>\n",
       "      <td>16384</td>\n",
       "      <td>0.18</td>\n",
       "      <td>2.775642268735223e-17</td>\n",
       "      <td>2.168470522449393e-19</td>\n",
       "    </tr>\n",
       "    <tr>\n",
       "      <th>14</th>\n",
       "      <td>32768</td>\n",
       "      <td>0.21</td>\n",
       "      <td>0</td>\n",
       "      <td>0</td>\n",
       "    </tr>\n",
       "    <tr>\n",
       "      <th>15</th>\n",
       "      <td>65536</td>\n",
       "      <td>0.25</td>\n",
       "      <td>0</td>\n",
       "      <td>0</td>\n",
       "    </tr>\n",
       "    <tr>\n",
       "      <th>16</th>\n",
       "      <td>131072</td>\n",
       "      <td>0.17</td>\n",
       "      <td>5.551136299070634e-17</td>\n",
       "      <td>1.533299265767047e-19</td>\n",
       "    </tr>\n",
       "  </tbody>\n",
       "</table>\n",
       "</div>"
      ],
      "text/plain": [
       "        Nt    Im                  sigma                sigma_m\n",
       "0        2  0.16                      0                      0\n",
       "1        4  0.19                      0                      0\n",
       "2        8  0.22                      0                      0\n",
       "3       16  0.17                      0                      0\n",
       "4       32  0.11                      0                      0\n",
       "5       64   0.2  2.797499069501051e-17  3.496873836876314e-18\n",
       "6      128  0.15  2.786463527196397e-17  2.462909069511947e-18\n",
       "7      256  0.21                      0                      0\n",
       "8      512  0.19  2.778272043934457e-17  1.227834376404415e-18\n",
       "9     1024  0.18  2.776913807703718e-17  8.677855649074118e-19\n",
       "10    2048  0.18  2.776235436175896e-17  6.134671572157401e-19\n",
       "11    4096   0.2  2.775896436792963e-17  4.337338182489005e-19\n",
       "12    8192  0.15  2.775726983663556e-17  3.066774020110909e-19\n",
       "13   16384  0.18  2.775642268735223e-17  2.168470522449393e-19\n",
       "14   32768  0.21                      0                      0\n",
       "15   65536  0.25                      0                      0\n",
       "16  131072  0.17  5.551136299070634e-17  1.533299265767047e-19"
      ]
     },
     "execution_count": 18,
     "metadata": {},
     "output_type": "execute_result"
    }
   ],
   "source": [
    "# Estabelecer lista de Nt\n",
    "Nt = [2**i for i in range(1,18)]\n",
    "# Gerar tabela\n",
    "df = pd.DataFrame(index=list(range(0,17)), columns=['Nt', 'Im', 'sigma', 'sigma_m'])\n",
    "c=0 # Contador para índice da tabela\n",
    "for nt in Nt:\n",
    "    # Lista de Ii\n",
    "    Is = []\n",
    "    # Adicionar valores de I várias vezes\n",
    "    for n in range(nt):\n",
    "        Is.append(mcarlo(func, 0, 1, 1, N=100))\n",
    "    Im = np.sum(Is)/len(Is)\n",
    "    s = np.sqrt(np.sum([(i-Im)**2 for i in Is])/(nt-1))\n",
    "    sm = s/np.sqrt(nt)\n",
    "    df.loc[c] = [nt,Im,s,sm]\n",
    "    c+=1\n",
    "df"
   ]
  },
  {
   "cell_type": "markdown",
   "metadata": {},
   "source": [
    "Aqui, vemos que as vezes o erro (sigma) parece ir à zero. Iso acontece pois estamos lidando com casas decimais muito pequenas ($\\sigma \\approx 10^{-17}$) e o computador arredonda erros maiores para zero. **Isto não significa que o erro é zero**, apenas que é pequeno demais para ser calculado."
   ]
  },
  {
   "cell_type": "markdown",
   "metadata": {},
   "source": [
    "Por último, vamos avaliar o método para números maiores de $N$, apenas para entender melhor o que ocorre. Vamos considerar $N=10^5$ e ver o que acontece."
   ]
  },
  {
   "cell_type": "code",
   "execution_count": 19,
   "metadata": {
    "scrolled": true
   },
   "outputs": [
    {
     "data": {
      "image/png": "[encoded data removed]",
      "text/plain": [
       "<Figure size 432x288 with 1 Axes>"
      ]
     },
     "metadata": {
      "needs_background": "light"
     },
     "output_type": "display_data"
    },
    {
     "name": "stdout",
     "output_type": "stream",
     "text": [
      "Valor encontrado com N=100000 no método de Monte Carlo: 0.199540\n"
     ]
    }
   ],
   "source": [
    "# Visualizar método\n",
    "N = 100000\n",
    "x1 = 0\n",
    "x2 = 1\n",
    "mx = 1\n",
    "xa = (random(a, c, m, z0, N)*(x2-x1))+x1\n",
    "ya = (random(a, c, m, 1500, N)*mx)\n",
    "\n",
    "# Pontos dentro e fora\n",
    "dx=[]\n",
    "dy=[]\n",
    "fx=[]\n",
    "fy=[]\n",
    "for i in range(N):\n",
    "    if func(xa[i])>=ya[i]:\n",
    "        dx.append(xa[i])\n",
    "        dy.append(ya[i])\n",
    "    elif func(xa[i])<ya[i]:\n",
    "        fx.append(xa[i])\n",
    "        fy.append(ya[i])\n",
    "        \n",
    "# Gráfico\n",
    "plt.plot(np.arange(0,1,0.001), [func(i) for i in np.arange(0,1,0.001)], color='black', label='f(x)=x^4')\n",
    "plt.scatter(dx,dy, color='pink', label='Pontos dentro da curva')\n",
    "plt.scatter(fx,fy, color='lightblue', label='Pontos fora da curva')\n",
    "plt.title('Visualização do Método de Monte Carlo, N={:.0f}'.format(N))\n",
    "plt.xlabel('x')\n",
    "plt.ylabel('f(x)')\n",
    "plt.grid()\n",
    "plt.legend(loc='upper left', fontsize='small')\n",
    "plt.show()\n",
    "\n",
    "# Cálculo da integral\n",
    "print('Valor encontrado com N={:.0f} no método de Monte Carlo: {:f}'.format(10**5, mcarlo(func, 0, 1, 1, 10**5)))"
   ]
  }
 ],
 "metadata": {
  "kernelspec": {
   "display_name": "Python 3",
   "language": "python",
   "name": "python3"
  },
  "language_info": {
   "codemirror_mode": {
    "name": "ipython",
    "version": 3
   },
   "file_extension": ".py",
   "mimetype": "text/x-python",
   "name": "python",
   "nbconvert_exporter": "python",
   "pygments_lexer": "ipython3",
   "version": "3.8.5"
  }
 },
 "nbformat": 4,
 "nbformat_minor": 4
}
