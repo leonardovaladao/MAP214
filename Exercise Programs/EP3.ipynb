{
 "cells": [
  {
   "cell_type": "markdown",
   "metadata": {},
   "source": [
    "## Nome: Leonardo Valadão. NUSP: 10299437"
   ]
  },
  {
   "cell_type": "markdown",
   "metadata": {},
   "source": [
    "# 3º Programa: Integração Numérica"
   ]
  },
  {
   "cell_type": "markdown",
   "metadata": {},
   "source": [
    "### Disciplina: Cálculo Numérico com Aplicações em Física. Docente: Arnaldo Gammal."
   ]
  },
  {
   "cell_type": "markdown",
   "metadata": {},
   "source": [
    "**1) Construa um programa em *precisão simples* que calcule numericamente a integral $I=\\int_{0}^{1}(7-5x^4)dx$ usando o método de Trapézios.**"
   ]
  },
  {
   "cell_type": "markdown",
   "metadata": {},
   "source": [
    "**a) Faça uma tabela na forma**"
   ]
  },
  {
   "cell_type": "markdown",
   "metadata": {},
   "source": [
    "![title](./table.png)"
   ]
  },
  {
   "cell_type": "markdown",
   "metadata": {},
   "source": [
    "**onde $N=2^p$ é o número de intervalos, $erro=|I_{num}-I|$ e $I$ é o valor analítico da integral.**"
   ]
  },
  {
   "cell_type": "markdown",
   "metadata": {},
   "source": [
    "***===ENTREGAR PROGRAMA (SÓ EM PRECISÃO SIMPLES)===***"
   ]
  },
  {
   "cell_type": "markdown",
   "metadata": {},
   "source": [
    "Para saber $I$, vamos calcular a integral analiticamente.<br>\n",
    "$\\int_0^1 (7-5x^4)dx = [7x-x^5]_0^1 = 6$ <br>\n",
    "Logo $I=6$."
   ]
  },
  {
   "cell_type": "markdown",
   "metadata": {},
   "source": [
    "O Método de Trapézios diz que nossa integral será: <br>\n",
    "$I_{num} = \\Sigma_{i=1}^n h_i \\frac{f(x_i) + f(x_{i+1})}{2} = \\frac{h}{2}[f_1+2f_2+2f_3...]$"
   ]
  },
  {
   "cell_type": "markdown",
   "metadata": {},
   "source": [
    "Nossa função é $f(x) = 7-5x^4$"
   ]
  },
  {
   "cell_type": "code",
   "execution_count": 1,
   "metadata": {},
   "outputs": [],
   "source": [
    "# Definir método\n",
    "def trapezio(f, N, a, b):\n",
    "    '''f: Função a ser integrada; \n",
    "    N: Nº de intervalos; \n",
    "    a,b: Intervalo (a,b) a ser integrado;\n",
    "    prec: Precisão, 's' para simples e 'd' para dupla; '''\n",
    "    \n",
    "    # Região a ser calculada e tamanho de passos\n",
    "    reg = np.single(b-a)\n",
    "    h = np.single(reg/N)\n",
    "    \n",
    "    # Lista de bases do trapézio\n",
    "    lx = list(np.arange(a,b,h)+h)\n",
    "    \n",
    "    # Cálculo do método\n",
    "    soma = np.single(f(lx.pop(0)))\n",
    "    for x in lx:\n",
    "        soma += np.single(2*f(x))\n",
    "    \n",
    "    T = np.single((h/2) * soma)\n",
    "    return T"
   ]
  },
  {
   "cell_type": "code",
   "execution_count": 2,
   "metadata": {},
   "outputs": [
    {
     "name": "stdout",
     "output_type": "stream",
     "text": [
      "p: 1 | N: 2 | Inum: 2.67187500 | Erro: 3.32812500 \n",
      "p: 2 | N: 4 | Inum: 4.39892578 | Erro: 1.60107422 \n",
      "p: 3 | N: 8 | Inum: 5.22407532 | Erro: 0.77592468 \n",
      "p: 4 | N: 16 | Inum: 5.61849451 | Erro: 0.38150549 \n",
      "p: 5 | N: 32 | Inum: 5.81087303 | Erro: 0.18912697 \n",
      "p: 6 | N: 64 | Inum: 5.90584230 | Erro: 0.09415770 \n",
      "p: 7 | N: 128 | Inum: 5.95302296 | Erro: 0.04697704 \n",
      "p: 8 | N: 256 | Inum: 5.97653770 | Erro: 0.02346230 \n",
      "p: 9 | N: 512 | Inum: 5.98827314 | Erro: 0.01172686 \n",
      "p: 10 | N: 1024 | Inum: 5.99413872 | Erro: 0.00586128 \n",
      "p: 11 | N: 2048 | Inum: 5.99708080 | Erro: 0.00291920 \n",
      "p: 12 | N: 4096 | Inum: 5.99852896 | Erro: 0.00147104 \n",
      "p: 13 | N: 8192 | Inum: 5.99926567 | Erro: 0.00073433 \n",
      "p: 14 | N: 16384 | Inum: 5.99963951 | Erro: 0.00036049 \n",
      "p: 15 | N: 32768 | Inum: 5.99980688 | Erro: 0.00019312 \n",
      "p: 16 | N: 65536 | Inum: 5.99999857 | Erro: 0.00000143 \n",
      "p: 17 | N: 131072 | Inum: 6.00023270 | Erro: 0.00023270 \n",
      "p: 18 | N: 262144 | Inum: 5.99949551 | Erro: 0.00050449 \n",
      "p: 19 | N: 524288 | Inum: 6.00248289 | Erro: 0.00248289 \n",
      "p: 20 | N: 1048576 | Inum: 6.00761175 | Erro: 0.00761175 \n",
      "p: 21 | N: 2097152 | Inum: 5.99561167 | Erro: 0.00438833 \n",
      "p: 22 | N: 4194304 | Inum: 6.04436445 | Erro: 0.04436445 \n",
      "p: 23 | N: 8388608 | Inum: 5.72257900 | Erro: 0.27742100 \n",
      "p: 24 | N: 16777216 | Inum: 6.56470251 | Erro: 0.56470251 \n",
      "p: 25 | N: 33554432 | Inum: 4.00000000 | Erro: 2.00000000 \n"
     ]
    }
   ],
   "source": [
    "# Definir funcao\n",
    "def func(x):\n",
    "    return 7-5*x**4\n",
    "\n",
    "# Calcular p de 1 a 25 e fazer tabela\n",
    "import numpy as np\n",
    "p = list(np.arange(1,26))\n",
    "\n",
    "# Iterações\n",
    "lp = []\n",
    "lerro = []\n",
    "for p in p:\n",
    "    N = np.single(2**p)\n",
    "    a = np.single(0)\n",
    "    b = np.single(1)\n",
    "    I = np.single(6)\n",
    "    Inum = np.single(trapezio(func, N, 0, 1))\n",
    "    erro = np.single(np.abs(Inum-I))\n",
    "    # Adicionar à lista para gráfico posterior\n",
    "    lp.append(p)\n",
    "    lerro.append(erro)\n",
    "    # Imprimir tabela\n",
    "    print('p: {:.0f} | N: {:.0f} | Inum: {:.8f} | Erro: {:.8f} '.format(p, N, Inum, erro))"
   ]
  },
  {
   "cell_type": "markdown",
   "metadata": {},
   "source": [
    "**b) Faça um gráfico de $log_{10}erro$ em função de $p$, eliminando os pontos em que eventualmente $erro=0$. Repita os cálculos em *dupla precisão* e coloque os resultados no mesmo gráfico. Indique nos gráficos os efeitos do erro de Truncamento do método e erro de \"Roundoff\" da representação de ponto flutuante. Determine a partir do gráfico a ordem de grandeza do erro do método empregado e \"Roundoff\" e compare com os teóricos $O(h^2)$ e $O(\\sqrt{N})$, respectivamente. Explique o que está acontecendo à medida que se aumenta $N$.**"
   ]
  },
  {
   "cell_type": "markdown",
   "metadata": {},
   "source": [
    "***===ENTREGAR TABELA IMPRESSA PRECISÃO SIMPLES===***"
   ]
  },
  {
   "cell_type": "code",
   "execution_count": 3,
   "metadata": {},
   "outputs": [],
   "source": [
    "# Montar tabela para melhor visualizar dados e retirar pontos onde erro = 0\n",
    "import pandas as pd\n",
    "df = pd.DataFrame(columns=['p', 'erro'])\n",
    "df['p'] = lp\n",
    "df['erro'] = lerro\n",
    "df = df[df['erro']!=0]"
   ]
  },
  {
   "cell_type": "code",
   "execution_count": 4,
   "metadata": {},
   "outputs": [
    {
     "data": {
      "image/png": "[encoded data removed]",
      "text/plain": [
       "<Figure size 432x288 with 1 Axes>"
      ]
     },
     "metadata": {
      "needs_background": "light"
     },
     "output_type": "display_data"
    }
   ],
   "source": [
    "# Fazer gráfico\n",
    "import matplotlib.pyplot as plt\n",
    "\n",
    "plt.plot(df['p'], df['erro'], marker='.', label='Precisão simples')\n",
    "\n",
    "plt.title('Análise de erro')\n",
    "plt.xlabel('p')\n",
    "plt.ylabel('log_10 erro')\n",
    "plt.yscale('log')\n",
    "plt.grid()\n",
    "plt.legend()\n",
    "\n",
    "plt.show()"
   ]
  },
  {
   "cell_type": "code",
   "execution_count": 5,
   "metadata": {},
   "outputs": [
    {
     "name": "stdout",
     "output_type": "stream",
     "text": [
      "p: 1 | N: 2 | Inum: 2.6718750000000000 | Erro: 3.3281250000000000 \n",
      "p: 2 | N: 4 | Inum: 4.3989257812500000 | Erro: 1.6010742187500000 \n",
      "p: 3 | N: 8 | Inum: 5.2240753173828125 | Erro: 0.7759246826171875 \n",
      "p: 4 | N: 16 | Inum: 5.6184945106506348 | Erro: 0.3815054893493652 \n",
      "p: 5 | N: 32 | Inum: 5.8108726292848587 | Erro: 0.1891273707151413 \n",
      "p: 6 | N: 64 | Inum: 5.9058431112207472 | Erro: 0.0941568887792528 \n",
      "p: 7 | N: 128 | Inum: 5.9530232754332246 | Erro: 0.0469767245667754 \n",
      "p: 8 | N: 256 | Inum: 5.9765370687259747 | Erro: 0.0234629312740253 \n",
      "p: 9 | N: 512 | Inum: 5.9882748921737203 | Erro: 0.0117251078262797 \n",
      "p: 10 | N: 1024 | Inum: 5.9941390355429593 | Erro: 0.0058609644570407 \n",
      "p: 11 | N: 2048 | Inum: 5.9970699151357074 | Erro: 0.0029300848642926 \n",
      "p: 12 | N: 4096 | Inum: 5.9985350569089517 | Erro: 0.0014649430910483 \n",
      "p: 13 | N: 8192 | Inum: 5.9992675532896698 | Erro: 0.0007324467103302 \n",
      "p: 14 | N: 16384 | Inum: 5.9996337828536879 | Erro: 0.0003662171463121 \n",
      "p: 15 | N: 32768 | Inum: 5.9998168929790241 | Erro: 0.0001831070209759 \n",
      "p: 16 | N: 65536 | Inum: 5.9999084468776038 | Erro: 0.0000915531223962 \n",
      "p: 17 | N: 131072 | Inum: 5.9999542235357479 | Erro: 0.0000457764642521 \n",
      "p: 18 | N: 262144 | Inum: 5.9999771117920648 | Erro: 0.0000228882079352 \n",
      "p: 19 | N: 524288 | Inum: 5.9999885559024468 | Erro: 0.0000114440975532 \n",
      "p: 20 | N: 1048576 | Inum: 5.9999942779521183 | Erro: 0.0000057220478817 \n",
      "p: 21 | N: 2097152 | Inum: 5.9999971389770828 | Erro: 0.0000028610229172 \n",
      "p: 22 | N: 4194304 | Inum: 5.9999985694881959 | Erro: 0.0000014305118041 \n",
      "p: 23 | N: 8388608 | Inum: 5.9999992847442050 | Erro: 0.0000007152557950 \n",
      "p: 24 | N: 16777216 | Inum: 5.9999996423721420 | Erro: 0.0000003576278580 \n",
      "p: 25 | N: 33554432 | Inum: 5.9999998211867576 | Erro: 0.0000001788132424 \n"
     ]
    }
   ],
   "source": [
    "# Repetir cálculos com dupla precisão\n",
    "def trapezio2(f, N, a, b):\n",
    "    reg = np.double(b-a)\n",
    "    h = np.double(reg/N)\n",
    "    \n",
    "    # Lista de bases do trapézio\n",
    "    lx = list(np.arange(a,b,h)+h)\n",
    "    \n",
    "    # Cálculo do método\n",
    "    soma = np.double(f(lx.pop(0)))\n",
    "    for x in lx:\n",
    "        soma += np.double(2*f(x))\n",
    "    \n",
    "    T = np.double((h/2) * soma)\n",
    "    return T\n",
    "\n",
    "p = list(np.arange(1,26))\n",
    "\n",
    "# Iterações\n",
    "lp2=[]\n",
    "lerro2=[]\n",
    "for p in p:\n",
    "    N = np.double(2**p)\n",
    "    a = np.double(0)\n",
    "    b = np.double(1)\n",
    "    I = np.double(6)\n",
    "    Inum = np.double(trapezio2(func, N, 0, 1))\n",
    "    erro = np.double(np.abs(Inum-I))\n",
    "    # Adicionar à lista para gráfico posterior\n",
    "    lp2.append(p)\n",
    "    lerro2.append(erro)\n",
    "    # Imprimir tabela\n",
    "    print('p: {:.0f} | N: {:.0f} | Inum: {:.16f} | Erro: {:.16f} '.format(p, N, Inum, erro))"
   ]
  },
  {
   "cell_type": "code",
   "execution_count": 6,
   "metadata": {},
   "outputs": [],
   "source": [
    "# Montar tabela pra visualização\n",
    "df2 = pd.DataFrame(columns=['p', 'erro'])\n",
    "df2['p'] = lp2\n",
    "df2['erro'] = lerro2\n",
    "df2 = df2[df2['erro']!=0]"
   ]
  },
  {
   "cell_type": "code",
   "execution_count": 10,
   "metadata": {
    "scrolled": true
   },
   "outputs": [
    {
     "data": {
      "image/png": "[encoded data removed]",
      "text/plain": [
       "<Figure size 432x288 with 1 Axes>"
      ]
     },
     "metadata": {
      "needs_background": "light"
     },
     "output_type": "display_data"
    }
   ],
   "source": [
    "# Fazer gráfico\n",
    "import matplotlib.pyplot as plt\n",
    "\n",
    "plt.plot(df2['p'], df2['erro'], marker='*', color='orange', label='Precisão dupla')\n",
    "plt.plot(df['p'], df['erro'], marker='.', color='blue', label='Precisão simples')\n",
    "\n",
    "plt.title('Análise de erro')\n",
    "plt.xlabel('p')\n",
    "plt.ylabel('log_10 erro')\n",
    "plt.yscale('log')\n",
    "plt.xlim(1,25)\n",
    "plt.xticks(np.arange(1,25,1))\n",
    "plt.legend()\n",
    "plt.grid()\n",
    "\n",
    "plt.show()"
   ]
  },
  {
   "cell_type": "markdown",
   "metadata": {},
   "source": [
    "No gráfico acima, no caso de precisão simples, vemos que no ponto $p=16$ houve erro de truncamento, ou seja, erro de parada do método. Isso é evidenciado pela queda brusca do erro, que teoricamente tem aspecto linear na forma $O(h^\\alpha)$. Isto quer dizer que o método parou abruptamente de forma que o erro ficou menor \"de repente\", talvez por extrapolação. Mas por que o erro aumenta depois? Isto acontece por causa do erro de roundoff, que é o \"erro de arredondamento\". Conforme o método vai arredondando as somas, ele vai acumulando um erro conforme $N$ aumenta, e por isso o erro vai aumentar. <br>\n",
    "Uma vez que na precisão dupla temos mais casas decimais a serem calculadas, não temos o mesmo erro que na precisão simples até o $N$ considerado. Se continuarmos calculando para $p$ maiores, iremos eventualmente ver os mesmos erros na precisão dupla."
   ]
  },
  {
   "cell_type": "markdown",
   "metadata": {},
   "source": [
    "**2) O período de um pêndulo simples para ângulos pequenos $(\\theta_0<10º)$ é dado aproximadamente por $T_{Galileu}=2\\pi\\sqrt{l/g}$. Para ângulos apreciáveis e desprezando a resistência do ar, a expressão para o período é**"
   ]
  },
  {
   "cell_type": "markdown",
   "metadata": {},
   "source": [
    "<center>\n",
    "$T=4\\sqrt{\\frac{l}{g}} \\int_{0}^{\\pi/2} \\frac{1}{\\sqrt{1-k^2sin^2\\xi}}$\n",
    "</center>"
   ]
  },
  {
   "cell_type": "markdown",
   "metadata": {},
   "source": [
    "**onde $k=sin(\\theta_0/2)$ e $\\theta_0$ é o ângulo inicial em *radianos*. Com o método de Simpson, calcule a integral acima e construa uma tabela com 10 valores de $\\theta_0$ e $T$, com $\\theta_0$ variando no intervalo $[0,\\pi)$. Aumente bem o número de valores $\\theta_0$ e faça um gráfico de $T/T_{Galileu}$ em função de $\\theta_0$. Use o número de divisões trapezoidais que achar necessário.**"
   ]
  },
  {
   "cell_type": "markdown",
   "metadata": {},
   "source": [
    "***===ENTREGAR PROGRAMA + TABELA + GRÁFICO===***"
   ]
  },
  {
   "cell_type": "markdown",
   "metadata": {},
   "source": [
    "**3) Cálculo da área sob a curva $y=x^4$, $0<x<1$, usando o método de Monte-Carlo.**"
   ]
  },
  {
   "cell_type": "markdown",
   "metadata": {},
   "source": [
    "**a) Construa primeiro uma rotina random($Z_i$) que retorne números aleatórios uniformemente distribuídos por \"linear congruential generator\" com $Z_{i+1}=(a Z_i+c) mod m$, onde $a=1103515245$, $c=12345$, $m=2147483647$ e $U_i=Z_{i+1}/m$. $U_i$ é o número entre 0 e 1 gerado. Use seu número USP como semente inicial $Z_0$.**"
   ]
  },
  {
   "cell_type": "markdown",
   "metadata": {},
   "source": [
    "***===ENTREGAR PROGRAMA===***"
   ]
  },
  {
   "cell_type": "markdown",
   "metadata": {},
   "source": [
    "**b) Faça UMA tentativa jogando 100 pontos $(x,y)$, $0<x<1$ e $0<y<1$ aleatoriamente e determine o valor da área sob a curva usando**"
   ]
  },
  {
   "cell_type": "markdown",
   "metadata": {},
   "source": [
    "<center>\n",
    "    $I \\approx\\frac{número de pontos dentro}{número total de pontos}$\n",
    "</center>"
   ]
  },
  {
   "cell_type": "markdown",
   "metadata": {},
   "source": [
    "***===ENTREGAR PROGRAMA===***"
   ]
  },
  {
   "cell_type": "markdown",
   "metadata": {},
   "source": [
    "**c) Faça um estudo com diferentes números de tentativas $N_t=2,4,8,16,...,131072$ (cada tentativa joga 100 pontos aleatórios). Construa a seguinte tabela**"
   ]
  },
  {
   "cell_type": "markdown",
   "metadata": {},
   "source": [
    "![title](./table2.png)"
   ]
  },
  {
   "cell_type": "markdown",
   "metadata": {},
   "source": [
    "**onde $I_m$ é o valor médio da integral, $\\sigma$ é o desvio padrão e $\\sigma_m$ é o desvio padrão da média, dados pelas fórmulas:**"
   ]
  },
  {
   "cell_type": "markdown",
   "metadata": {},
   "source": [
    "<center>\n",
    "$I_m = \\frac{1}{N_t}\\Sigma_{i=1}^{N_t} I_i$\n",
    "</center>"
   ]
  },
  {
   "cell_type": "markdown",
   "metadata": {},
   "source": [
    "<center>\n",
    "$\\sigma^2=\\frac{1}{N_t-1}\\Sigma_{i=1}^{N_t}(I_i-I_m)^2\n",
    "$\n",
    "</center>"
   ]
  },
  {
   "cell_type": "markdown",
   "metadata": {},
   "source": [
    "**e $\\sigma_m=\\sigma/\\sqrt{N_t}$.**"
   ]
  },
  {
   "cell_type": "markdown",
   "metadata": {},
   "source": [
    "**O valor da integral é dado por $I_m \\pm \\sigma_m$.**"
   ]
  },
  {
   "cell_type": "markdown",
   "metadata": {},
   "source": [
    "***===ENTREGAR TABELA===***"
   ]
  }
 ],
 "metadata": {
  "kernelspec": {
   "display_name": "Python 3",
   "language": "python",
   "name": "python3"
  },
  "language_info": {
   "codemirror_mode": {
    "name": "ipython",
    "version": 3
   },
   "file_extension": ".py",
   "mimetype": "text/x-python",
   "name": "python",
   "nbconvert_exporter": "python",
   "pygments_lexer": "ipython3",
   "version": "3.8.3"
  }
 },
 "nbformat": 4,
 "nbformat_minor": 4
}
