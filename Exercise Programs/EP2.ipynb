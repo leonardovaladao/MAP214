{
 "cells": [
  {
   "cell_type": "markdown",
   "metadata": {},
   "source": [
    "## Nome: Leonardo Valadão. NUSP: 10299437"
   ]
  },
  {
   "cell_type": "markdown",
   "metadata": {},
   "source": [
    "# 2º Programa: Solução de Sistemas de Equações Lineares"
   ]
  },
  {
   "cell_type": "markdown",
   "metadata": {},
   "source": [
    "### Disciplina: Cálculo Numérico com Aplicações em Física. Docente: Arnaldo Gammal."
   ]
  },
  {
   "cell_type": "markdown",
   "metadata": {},
   "source": [
    "**Observe o circuito abaixo.** <br>\n",
    "![title](./circuit.png)\n",
    "**Dados $R_1=8\\Omega$, $R_2=5\\Omega$, $R_3=5\\Omega$, $R_4=1\\Omega$, $U_1=22V$, $U_2=7V$, $U_3=3V$.**"
   ]
  },
  {
   "cell_type": "markdown",
   "metadata": {},
   "source": [
    "**a) Aplique as leis de Kirchhoff no sistema acima e obtenha três equações lineramente indepentes para $I_1$, $I_2$, $I_3$ na forma**"
   ]
  },
  {
   "cell_type": "markdown",
   "metadata": {},
   "source": [
    "<center>\n",
    "$\\left[\\begin{array}{ccc}\n",
    "0 & 5 & -1\\\\\n",
    "13 & 0 & 1\\\\\n",
    "1 & -1 & -1\\\\\n",
    "\\end{array}\\right]$\n",
    "$\\left[\\begin{array}{ccc}\n",
    "I_1\\\\\n",
    "I_2\\\\\n",
    "I_3\\\\\n",
    "\\end{array}\\right]$\n",
    "=\n",
    "$\\left[\\begin{array}{ccc}\n",
    "4\\\\\n",
    "15\\\\\n",
    "0\\\\\n",
    "\\end{array}\\right]$\n",
    "</center>"
   ]
  },
  {
   "cell_type": "markdown",
   "metadata": {},
   "source": [
    "Lei de Kirchhoff para circuitos: $\\sum_{k=1}^n I_k=0$ <br>\n",
    "Lei de Kirchhoff para voltagem: $\\sum_{k=1}^n V_k=0$ <br>\n",
    "Lei de Ohm: $V=R \\times I$"
   ]
  },
  {
   "cell_type": "markdown",
   "metadata": {},
   "source": [
    "Com o circuito acima, podemos montar para cada <i>loop</i>, utilizando a Lei de Kirchhoff para voltagem e a Lei de Ohm,  as seguintes equações:<br>\n",
    "$-I_1R_1-U_2-R_4I_3-I_1R_2+U_1=0$ <br>\n",
    "$-I_2R_3-U_3+U_2+I_3R_4=0$<br>\n",
    "E com a Lei de Kirchhoff para circuitos: <br>\n",
    "$I_1-I_2-I_3=0$"
   ]
  },
  {
   "cell_type": "markdown",
   "metadata": {},
   "source": [
    "Trabalhando com as duas primeiras equações, temos: <br>\n",
    "$-8I_1-7-I_3-5I_1+22=0$ <br>\n",
    "$5I_2-3+7+I_3=0$"
   ]
  },
  {
   "cell_type": "markdown",
   "metadata": {},
   "source": [
    "Manipulando estas duas equações e considerando a terceira, temos:<br>\n",
    "$13I_1+I_3=15$<br>\n",
    "$5I_2-I_3=4$<br>\n",
    "$I_1-I_2-I_3=0$<br>"
   ]
  },
  {
   "cell_type": "markdown",
   "metadata": {},
   "source": [
    "Que se transformam na matriz:\n",
    "<center>\n",
    "$\\left[\\begin{array}{ccc}\n",
    "0 & 5 & -1\\\\\n",
    "13 & 0 & 1\\\\\n",
    "1 & -1 & -1\\\\\n",
    "\\end{array}\\right]$\n",
    "$\\left[\\begin{array}{ccc}\n",
    "I_1\\\\\n",
    "I_2\\\\\n",
    "I_3\\\\\n",
    "\\end{array}\\right]$\n",
    "=\n",
    "$\\left[\\begin{array}{ccc}\n",
    "4\\\\\n",
    "15\\\\\n",
    "0\\\\\n",
    "\\end{array}\\right]$\n",
    "</center>"
   ]
  },
  {
   "cell_type": "markdown",
   "metadata": {},
   "source": [
    "**b) Construa um programa que resolva o sistema acima pelo método de Eliminaçao de Gauss usando pivotamento parcial. Imprima também as matrizes intermediárias até chegar na matriz triangular superior. O programa deve ser capaz de resolver $n$ equações.**"
   ]
  },
  {
   "cell_type": "code",
   "execution_count": 1,
   "metadata": {},
   "outputs": [
    {
     "name": "stdout",
     "output_type": "stream",
     "text": [
      "Matrizes intermediárias:\n",
      "==================\n",
      "Iteração nº 0:\n",
      " [[ 0  5 -1  4]\n",
      " [13  0  1 15]\n",
      " [ 1 -1 -1  0]] \n",
      "\n",
      "\n",
      "Iteração nº 1:\n",
      " [[13.          0.          1.         15.        ]\n",
      " [ 0.          5.         -1.          4.        ]\n",
      " [ 0.         -1.         -1.07692308 -1.15384615]] \n",
      "\n",
      "\n",
      "Iteração nº 2:\n",
      " [[13.          0.          1.         15.        ]\n",
      " [ 0.          5.         -1.          4.        ]\n",
      " [ 0.          0.         -1.27692308 -0.35384615]] \n",
      "\n",
      "\n",
      "Resultados: \n",
      "I_1 = 1.133 \n",
      "I_2 = 0.855 \n",
      "I_3 = 0.277\n"
     ]
    }
   ],
   "source": [
    "# Definir algoritmo\n",
    "import numpy as np\n",
    "\n",
    "# Definir matriz\n",
    "matriz = [\n",
    "    [0, 5, -1, 4], \n",
    "    [13, 0, 1, 15],\n",
    "    [1, -1, -1, 0]]\n",
    "\n",
    "# Definir função\n",
    "def gauss(M):\n",
    "    # Número de colunas\n",
    "    cols = len(M)\n",
    "    \n",
    "    # Para cada coluna...\n",
    "    for i in range(0, cols):\n",
    "        print('Iteração nº {:.0f}:\\n'.format(i),np.array(M).reshape(3,4),'\\n\\n')\n",
    "        el_max = abs(M[i][i]) #Elemento da Diagonal\n",
    "        lin_max = i #Linha atual\n",
    "        # Pra cada linha abaixo...\n",
    "        for k in range(i + 1, cols):\n",
    "            # Se o elemento atual for maior que a diagonal...\n",
    "            if abs(M[k][i]) > el_max:\n",
    "                el_max = abs(M[k][i]) # Atualiza elemento máximo\n",
    "                lin_max = k # Atualiza linha\n",
    "\n",
    "        # Trocar linha máxima por linha atual\n",
    "        for k in range(i, cols + 1):\n",
    "            tmp = M[lin_max][k]\n",
    "            M[lin_max][k] = M[i][k]\n",
    "            M[i][k] = tmp\n",
    "\n",
    "        # Transformar colunas abaixo desta em zero\n",
    "        # Pra cada linha abaixo...\n",
    "        for k in range(i + 1, cols):\n",
    "            # Dividir pela diagonal != 0\n",
    "            c = -M[k][i] / M[i][i]\n",
    "            # Pra cada linha...\n",
    "            for j in range(i, cols + 1):\n",
    "                # Se linha = coluna, =0\n",
    "                if i == j:\n",
    "                    M[k][j] = 0\n",
    "                    # Se não, somar e multiplicar por escalar\n",
    "                else:\n",
    "                    M[k][j] += c * M[i][j]\n",
    "\n",
    "    # Resolver equação para matriz triangular superior\n",
    "    x = [0 for i in range(cols)]\n",
    "    for i in range(cols - 1, -1, -1):\n",
    "        x[i] = M[i][cols] / M[i][i] # Dividir resultado por diagonal\n",
    "        for k in range(i - 1, -1, -1):\n",
    "            M[k][cols] -= M[k][i] * x[i]\n",
    "    return x\n",
    "\n",
    "print('Matrizes intermediárias:\\n==================')\n",
    "r = gauss(matriz)\n",
    "print('Resultados: \\nI_1 = {:.3f} \\nI_2 = {:.3f} \\nI_3 = {:.3f}'.format(r[0], r[1], r[2]))"
   ]
  },
  {
   "cell_type": "markdown",
   "metadata": {},
   "source": [
    "**c) Permute as duas primeiras linhas do sistema (1) e construa um programa que resolva o sistema pelo método de Jacobi, usando um critério de parada max $|x_i^{(k+1)}-x_i^{(k)}|<\\varepsilon$ para $i=1, ..., n$, $\\varepsilon=10^{-4}$ e $k$ é o número da iteração. O programa deve imprimir tabelas contendo $k$, valores de $I_1$, $I_2$, $I_3$ e erro mostrando a convergência. O programa deve ser capaz de resolver sistemas com $n$ equações.**"
   ]
  },
  {
   "cell_type": "code",
   "execution_count": 2,
   "metadata": {},
   "outputs": [
    {
     "name": "stdout",
     "output_type": "stream",
     "text": [
      "Tabela de iterações:\n",
      "======================\n",
      "k: 0 | I_1: 1.077 | I_2: 1.000 | I_3: -0.000 | Erro: 1.00000\n",
      "k: 1 | I_1: 1.154 | I_2: 0.800 | I_3: 0.077 | Erro: 0.20000\n",
      "k: 2 | I_1: 1.148 | I_2: 0.815 | I_3: 0.354 | Erro: 0.27692\n",
      "k: 3 | I_1: 1.127 | I_2: 0.871 | I_3: 0.333 | Erro: 0.05538\n",
      "k: 4 | I_1: 1.128 | I_2: 0.867 | I_3: 0.256 | Erro: 0.07669\n",
      "k: 5 | I_1: 1.134 | I_2: 0.851 | I_3: 0.262 | Erro: 0.01534\n",
      "k: 6 | I_1: 1.134 | I_2: 0.852 | I_3: 0.283 | Erro: 0.02124\n",
      "k: 7 | I_1: 1.132 | I_2: 0.857 | I_3: 0.281 | Erro: 0.00425\n",
      "k: 8 | I_1: 1.132 | I_2: 0.856 | I_3: 0.275 | Erro: 0.00588\n",
      "k: 9 | I_1: 1.133 | I_2: 0.855 | I_3: 0.276 | Erro: 0.00118\n",
      "k: 10 | I_1: 1.133 | I_2: 0.855 | I_3: 0.278 | Erro: 0.00163\n",
      "k: 11 | I_1: 1.132 | I_2: 0.856 | I_3: 0.277 | Erro: 0.00033\n",
      "Resultados: \n",
      "I_1 = 1.13250 \n",
      "I_2 = 0.85551 \n",
      "I_3 = 0.27743\n"
     ]
    }
   ],
   "source": [
    "# Definir matriz já permutada\n",
    "matriz = [[13, 0, 1, 15], \n",
    "          [0, 5, -1, 4],\n",
    "          [1, -1, -1, 0]]\n",
    "\n",
    "def jacobi(M, initial_guess=[1,1,1], epsilon=10e-4):\n",
    "    # Definir x e erro inicial\n",
    "    x = initial_guess\n",
    "    err = np.inf\n",
    "    k=0\n",
    "    \n",
    "    # Critério de parada\n",
    "    while err > epsilon:\n",
    "        # Guardar parâmetros anteriores\n",
    "        x_old = tuple(x)\n",
    "        x_new = [0 for i in x]\n",
    "        \n",
    "        # Fazer o novo vetor\n",
    "        for linha in range(len(M)):\n",
    "            # Definir parâmetros da linha\n",
    "            ann = M[linha][linha]\n",
    "            bn = M[linha][-1]\n",
    "            an = M[linha][:-1]\n",
    "            \n",
    "            # Soma de aij*xj, j!=i\n",
    "            s=0\n",
    "            for el in range(len(M[linha])-1):\n",
    "                if not el==linha:\n",
    "                    s = s+an[el]*x[el]\n",
    "\n",
    "            # Cálculo de xn\n",
    "            x_new[linha] = 1/ann * (bn - s)\n",
    "        # Uma vez que saio do loop de cada variável, posso atualizar meus resultados\n",
    "        x = x_new\n",
    "            \n",
    "        # Definir erro\n",
    "        l_err = [abs(a - b) for a, b in zip(x_new, x_old)]\n",
    "        err = max(l_err)\n",
    "        \n",
    "        # Imprimir tabela\n",
    "        print('k: {:.0f} | I_1: {:.3f} | I_2: {:.3f} | I_3: {:.3f} | Erro: {:.5f}'.format(k, x[0], x[1], x[2], err))\n",
    "        k+=1\n",
    "    return(x)\n",
    "        \n",
    "        \n",
    "print('Tabela de iterações:\\n======================')\n",
    "r = jacobi(matriz,initial_guess=[1,1,1])\n",
    "print('Resultados: \\nI_1 = {:.5f} \\nI_2 = {:.5f} \\nI_3 = {:.5f}'.format(r[0], r[1], r[2]))"
   ]
  },
  {
   "cell_type": "markdown",
   "metadata": {},
   "source": [
    "Nota: Este programa resolve $n$ equações, mas não imprime iterações para $n$ variáveis."
   ]
  },
  {
   "cell_type": "markdown",
   "metadata": {},
   "source": [
    "**d) Repita o item c) usando o método de Gauss-Seidel.**"
   ]
  },
  {
   "cell_type": "markdown",
   "metadata": {},
   "source": [
    "Pela semelhança entre os métodos, copiei o método anterior e modifiquei a definição de $x_n$ (x[linha]). Antes eu precisava guardar um x_new para realizar as operações para cada variável sem alterar o valor das outras. Agora eu atualizo tudo no mesmo vetor x, logo assim que uma variável muda, ela já entra no cálculo da próxima variável."
   ]
  },
  {
   "cell_type": "code",
   "execution_count": 5,
   "metadata": {},
   "outputs": [
    {
     "name": "stdout",
     "output_type": "stream",
     "text": [
      "Tabela de iterações:\n",
      "======================\n",
      "[1.1325281973769439, 0.8554266868199462, 0.2771015105569977]\n",
      "Resultados: \n",
      "I_1 = 1.13253 \n",
      "I_2 = 0.85543 \n",
      "I_3 = 0.27710\n"
     ]
    }
   ],
   "source": [
    "import numpy as np\n",
    "\n",
    "# Definir matriz já permutada\n",
    "matriz = [[13, 0, 1, 15], \n",
    "          [0, 5, -1, 4],\n",
    "          [1, -1, -1, 0]]\n",
    "\n",
    "# Definir função\n",
    "def gauss_seidel(M, initial_guess=[1,1,1]):\n",
    "    '''M=Matriz n x n+1, a última coluna é o vetor b. initial_guess é uma lista com chutes iniciais para x'''\n",
    "    # Definir x e erro inicial\n",
    "    x = initial_guess\n",
    "    \n",
    "    # Critério de parada\n",
    "    for i in range(9):\n",
    "        # Guardar parâmetros anteriores\n",
    "        x_old = tuple(x)\n",
    "        \n",
    "        # Fazer o novo vetor\n",
    "        for linha in range(len(M)):\n",
    "            # Definir parâmetros da linha\n",
    "            ann = M[linha][linha]\n",
    "            bn = M[linha][-1]\n",
    "            an = M[linha][:-1]\n",
    "\n",
    "            # Soma de aij*xj, j!=i\n",
    "            s=0\n",
    "            for el in range(len(M[linha])-1):\n",
    "                if not el==linha:\n",
    "                    s = s+an[el]*x[el]\n",
    "\n",
    "            # Cálculo de xn\n",
    "            x[linha] = 1/ann * (bn - s)\n",
    "    print(x)\n",
    "    return(x)\n",
    "\n",
    "print('Tabela de iterações:\\n======================')\n",
    "r = gauss_seidel(matriz)\n",
    "print('Resultados: \\nI_1 = {:.5f} \\nI_2 = {:.5f} \\nI_3 = {:.5f}'.format(r[0], r[1], r[2]))"
   ]
  }
 ],
 "metadata": {
  "kernelspec": {
   "display_name": "Python 3",
   "language": "python",
   "name": "python3"
  },
  "language_info": {
   "codemirror_mode": {
    "name": "ipython",
    "version": 3
   },
   "file_extension": ".py",
   "mimetype": "text/x-python",
   "name": "python",
   "nbconvert_exporter": "python",
   "pygments_lexer": "ipython3",
   "version": "3.8.3"
  }
 },
 "nbformat": 4,
 "nbformat_minor": 4
}
