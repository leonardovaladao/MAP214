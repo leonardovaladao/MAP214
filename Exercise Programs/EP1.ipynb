{
 "cells": [
  {
   "cell_type": "markdown",
   "metadata": {},
   "source": [
    "## Nome: Leonardo Valadão. NUSP: 10299437"
   ]
  },
  {
   "cell_type": "markdown",
   "metadata": {},
   "source": [
    "# 1º Programa: Zero de funções, bissecção, Newton-Rapshon, Secantes"
   ]
  },
  {
   "cell_type": "markdown",
   "metadata": {},
   "source": [
    "### Disciplina: Cálculo Numérico com Aplicações em Física. Docente: Arnaldo Gammal."
   ]
  },
  {
   "cell_type": "markdown",
   "metadata": {},
   "source": [
    "**a) Resolva numericamente a equação $x^3-cos(x)=0$ usando o método de bissecção. Use um critério de parada escolhendo $\\varepsilon$ adequado. Existem outras raízes? Atenção: cos() em radianos!**"
   ]
  },
  {
   "cell_type": "markdown",
   "metadata": {},
   "source": [
    "Primeiro, vou determinar um algoritmo para o método de bissecção:\n",
    " - Encontrar $c = (a+b)/2$\n",
    " - Verificar $f(a) . f(c) < 0$\n",
    " - Se sim, existe raiz em $(a, c)$\n",
    " - Caso contrário, existe raiz em $[c, b)$\n",
    " - Repetir até $c \\leq \\epsilon $"
   ]
  },
  {
   "cell_type": "code",
   "execution_count": 1,
   "metadata": {},
   "outputs": [],
   "source": [
    "def bissec(f, a, b, epsilon = 0.0001):\n",
    "    '''Passe f como função; a e b são reais de extremos do intervalo. Epsilon é o intervalo limite.'''\n",
    "    \n",
    "    if f(a)*f(b)>0:\n",
    "        raise Exception('Por favor, passe parâmetros t. q. f(a)*f(b)<0')\n",
    "    c = a\n",
    "    # Critério de parada\n",
    "    while(b-a >= epsilon):\n",
    "        # Verificação\n",
    "        c = (a+b)/2\n",
    "        if f(c)*f(a)<0:\n",
    "            # Diminuir intervalo para (a,c)\n",
    "            b = c\n",
    "        else:\n",
    "            # Diminuir intervalo para (c,b)\n",
    "            a = c\n",
    "    return c"
   ]
  },
  {
   "cell_type": "markdown",
   "metadata": {},
   "source": [
    "Para analisar a função que devo aplicar, vou gerar um gráfico dela:"
   ]
  },
  {
   "cell_type": "code",
   "execution_count": 2,
   "metadata": {},
   "outputs": [
    {
     "data": {
      "image/png": "[encoded data removed]",
      "text/plain": [
       "<Figure size 432x288 with 1 Axes>"
      ]
     },
     "metadata": {
      "needs_background": "light"
     },
     "output_type": "display_data"
    }
   ],
   "source": [
    "import numpy as np\n",
    "import matplotlib.pyplot as plt\n",
    "%matplotlib inline\n",
    "\n",
    "# Definir função e criar intervalo a mostrar\n",
    "def funcao(x):\n",
    "    return x**3-np.cos(x)\n",
    "x = np.arange(-1.5,1.5, step=0.001)\n",
    "y = [funcao(x) for x in x]\n",
    "\n",
    "# Gerar gráfico\n",
    "fig = plt.figure()\n",
    "ax = fig.add_subplot(1,1,1)\n",
    "\n",
    "ax.plot(x,y)\n",
    "ax.set_xlabel('x')\n",
    "ax.set_ylabel('y')\n",
    "ax.set_title('Gráfico para f(x)=x³-cos(x)')\n",
    "ax.set_xticks(np.arange(-1.5, 1.5, 0.25))\n",
    "ax.grid()\n",
    "\n",
    "plt.show()"
   ]
  },
  {
   "cell_type": "markdown",
   "metadata": {},
   "source": [
    "A raiz a ser encontrada parece estar pouco após $0.75$. Nosso intervalo será $(0.75,1.0)$."
   ]
  },
  {
   "cell_type": "markdown",
   "metadata": {},
   "source": [
    "Aplicar o método:"
   ]
  },
  {
   "cell_type": "code",
   "execution_count": 3,
   "metadata": {
    "scrolled": true
   },
   "outputs": [
    {
     "name": "stdout",
     "output_type": "stream",
     "text": [
      "Raiz encontrada pelo método de bissecção: 0.8654740332\n"
     ]
    }
   ],
   "source": [
    "# Epsilon escolhido: 1e-9, precisão em nano.\n",
    "\n",
    "print('Raiz encontrada pelo método de bissecção: {:.10f}'.format(\n",
    "bissec(funcao, 0.75,1, epsilon=1e-9)\n",
    "))"
   ]
  },
  {
   "cell_type": "markdown",
   "metadata": {},
   "source": [
    "Pelo gráfico, vemos que não existem outras raízes para a função, pelo menos no intervalo analisado."
   ]
  },
  {
   "cell_type": "markdown",
   "metadata": {},
   "source": [
    "**b) Repita o item a) com método de Newton-Raphson.**"
   ]
  },
  {
   "cell_type": "markdown",
   "metadata": {},
   "source": [
    "Definir algoritmo para o método Newton-Raphson:\n",
    " - Definir chute inicial\n",
    " - Definir $x_{n+1} = x_n - \\frac{f(x_n)}{f'(x_n)}$\n",
    " - Definir erro como $e = |\\frac{x_{n+1}-x_n}{x_n}|$\n",
    " - Repetir até que $e$ atinja um $\\varepsilon$ pré-definido."
   ]
  },
  {
   "cell_type": "code",
   "execution_count": 4,
   "metadata": {},
   "outputs": [],
   "source": [
    "def newton_raphson(f, df, x_0, epsilon=0.0001):\n",
    "    '''Passe f como função, df como derivada da função, x_0 como chute inicial da raiz, \n",
    "    e epsilon como erro máximo'''\n",
    "    xn = x_0\n",
    "    e = np.inf\n",
    "    # Critério de parada pelo erro\n",
    "    while e >= epsilon:\n",
    "        # Definir x_n+1\n",
    "        xnp1 = xn - f(xn)/df(xn)\n",
    "        # Definir erro\n",
    "        e = np.abs((xnp1-xn)/(xn))\n",
    "        xn = xnp1\n",
    "    return xnp1"
   ]
  },
  {
   "cell_type": "markdown",
   "metadata": {},
   "source": [
    "Derivada de $f(x)$: $f'(x)=3x^2+sin(x)$"
   ]
  },
  {
   "cell_type": "markdown",
   "metadata": {},
   "source": [
    "Vamos aplicar o método usando o chute inicial que obtivemos com o método de bissecção: $0.8654740332$."
   ]
  },
  {
   "cell_type": "code",
   "execution_count": 5,
   "metadata": {},
   "outputs": [
    {
     "name": "stdout",
     "output_type": "stream",
     "text": [
      "Raiz encontrada com método de Newton-Raphson: 0.8654740331\n"
     ]
    }
   ],
   "source": [
    "# Definir derivada da função\n",
    "def dfuncao(x):\n",
    "    return 3*x**2 + np.sin(x)\n",
    "\n",
    "# Aplicar método. Novamente epsilon = 1e-9, precisão em nano.\n",
    "print('Raiz encontrada com método de Newton-Raphson: {:.10f}'.format(\n",
    "newton_raphson(funcao, dfuncao, 0.8654740332, epsilon=1e-9)\n",
    "))"
   ]
  },
  {
   "cell_type": "markdown",
   "metadata": {},
   "source": [
    "O método de Newton-Raphson parece ter melhorado a precisão da raiz no último algarismo."
   ]
  },
  {
   "cell_type": "markdown",
   "metadata": {},
   "source": [
    "**c) Vamos calcular a distância de ligação da molécula diatômica de $NaCl$ a partir de potencial de interação dos íons $Na^+$ e $Cl^-$. Assumindo que o potencial de interação é $V(r)$ quando os dois íons estão separados pela distância $r$, a distância de ligação $r_{eq}$ é a de equilíbrio quando o potencial $V(r)$ é mínimo. Pode-se modelar o potencial entre os íons como**"
   ]
  },
  {
   "cell_type": "markdown",
   "metadata": {},
   "source": [
    "<center>$V(r)=-\\frac{e^2}{4\\pi\\epsilon_0 r} + V_0 e^{\\frac{-r}{r_0}}$</center>"
   ]
  },
  {
   "cell_type": "markdown",
   "metadata": {},
   "source": [
    "**onde $e$ é a carga do elétorn, $\\epsilon_0$ é a permissividade do vácuo e $V_0$ e $r_0$ são parâmetros de energia e de alcance repulsivos, respectivamente. O primeiro termo vem da atração Coulombiaba de longo alcance entre os dois íons e o segundo termo é resultado da repulsão eletrônica de curto alcance do sistema. Vamos usar $V_0 = 1.09 \\times 10³ eV$ e $r_0 = 0.330 A$, que são os parâmetros cristalinos.**"
   ]
  },
  {
   "cell_type": "markdown",
   "metadata": {},
   "source": [
    "**No equilíbrio, a força entre os dois íons,**"
   ]
  },
  {
   "cell_type": "markdown",
   "metadata": {},
   "source": [
    "<center>$F(r) = - \\frac{dV(r)}{dr} = - \\frac{e^2}{4\\pi\\epsilon_0 r^2}+ \\frac{V_0}{r_0} e^\\frac{-r}{r_0}$</center>"
   ]
  },
  {
   "cell_type": "markdown",
   "metadata": {},
   "source": [
    "**é zero.**"
   ]
  },
  {
   "cell_type": "markdown",
   "metadata": {},
   "source": [
    "**i) Faça os gráficos de $V(r) \\times r$ e $F(r) \\times r$.**"
   ]
  },
  {
   "cell_type": "markdown",
   "metadata": {},
   "source": [
    "Vamos considerar $\\frac{e^2}{4\\pi\\epsilon_0}=14.4 eV A$"
   ]
  },
  {
   "cell_type": "code",
   "execution_count": 6,
   "metadata": {},
   "outputs": [],
   "source": [
    "# Definir constantes\n",
    "V_0 = 1.09e3\n",
    "r_0 = 0.33"
   ]
  },
  {
   "cell_type": "code",
   "execution_count": 7,
   "metadata": {},
   "outputs": [],
   "source": [
    "# Definir funções\n",
    "def V_r(x, V_0 = V_0, r_0 = r_0, perm = 14.4):\n",
    "    return -(perm/x) + V_0*np.exp(-x/r_0)\n",
    "\n",
    "def F_r(x, V_0 = V_0, r_0 = r_0, perm=14.4):\n",
    "    return -(perm/x**2)+ (V_0/r_0) * np.exp(-x/r_0)"
   ]
  },
  {
   "cell_type": "code",
   "execution_count": 8,
   "metadata": {},
   "outputs": [],
   "source": [
    "# Criar intervalos\n",
    "x = np.arange(0.1, 50, step=1e-3)\n",
    "Vy = [V_r(i) for i in x]\n",
    "Fy = [F_r(i) for i in x]"
   ]
  },
  {
   "cell_type": "code",
   "execution_count": 9,
   "metadata": {},
   "outputs": [
    {
     "data": {
      "image/png": "[encoded data removed]",
      "text/plain": [
       "<Figure size 864x288 with 2 Axes>"
      ]
     },
     "metadata": {
      "needs_background": "light"
     },
     "output_type": "display_data"
    }
   ],
   "source": [
    "# Gerar gráfico\n",
    "\n",
    "fig, (ax1, ax2) = plt.subplots(1, 2, sharey=True, figsize=(12,4))\n",
    "\n",
    "ax1.plot(x,Vy, lw=1, color='black')\n",
    "ax1.set_ylim(-6,6)\n",
    "ax1.set_xlim(0,50)\n",
    "ax1.set_title('Gráfico para V(r) x r')\n",
    "ax1.set_xlabel('r')\n",
    "ax1.set_ylabel('V(r)')\n",
    "ax1.set_yticks(np.arange(-6,6, 1))\n",
    "ax1.set_xticks(np.arange(0,50,5))\n",
    "ax1.grid()\n",
    "\n",
    "ax2.plot(x, Fy, lw=1, color='black')\n",
    "ax2.set_title('Gráfico para F(r) x r')\n",
    "ax2.set_xlim(0,50)\n",
    "ax2.set_xlabel('r')\n",
    "ax2.set_ylabel('F(r)')\n",
    "ax2.set_yticks(np.arange(-6,6, 1))\n",
    "ax2.set_xticks(np.arange(0,50,5))\n",
    "ax2.grid()\n",
    "\n",
    "plt.show()"
   ]
  },
  {
   "cell_type": "markdown",
   "metadata": {},
   "source": [
    "**ii) Use o método de secantes e encontre o ponto de equilíbrio $r=r_{eq}$ em A, que é a solução de $F(r)=0$ na região onde $V(r)$ é mínimo. Em unidades convenientes, $e^2/4\\pi\\epsilon_0 = 14.4 eV A$.**"
   ]
  },
  {
   "cell_type": "markdown",
   "metadata": {},
   "source": [
    "Vamos ampliar o gráfico acima para melhor analisar onde possa estar nossa raiz."
   ]
  },
  {
   "cell_type": "code",
   "execution_count": 10,
   "metadata": {},
   "outputs": [
    {
     "data": {
      "image/png": "[encoded data removed]",
      "text/plain": [
       "<Figure size 432x288 with 1 Axes>"
      ]
     },
     "metadata": {
      "needs_background": "light"
     },
     "output_type": "display_data"
    }
   ],
   "source": [
    "# Novo gráfico para F(r) x r\n",
    "plt.plot(x, Fy, lw=1, color='black')\n",
    "plt.xlim(1,5)\n",
    "plt.ylim(-2,2)\n",
    "plt.title('Gráfico ampliado de F(r) x r')\n",
    "plt.xlabel('r')\n",
    "plt.ylabel('F(r)')\n",
    "plt.grid()"
   ]
  },
  {
   "cell_type": "markdown",
   "metadata": {},
   "source": [
    "Pelo gráfico, vemos que a raiz parece estar entre $2$ e $2.5$. Vamos usar o método de secantes para descobrir a raiz."
   ]
  },
  {
   "cell_type": "markdown",
   "metadata": {},
   "source": [
    "Método de secantes:\n",
    " - Definir $x_n$ como chute inicial\n",
    " - Calcular $x_{n+1}=x_n- \\frac{(x_n - x_{n-1}) f(x_n)}{f(x_n) - f(x_{n-1})}$\n",
    " - Repetir até o valor convergir."
   ]
  },
  {
   "cell_type": "code",
   "execution_count": 11,
   "metadata": {},
   "outputs": [],
   "source": [
    "# Criar algoritmo do método secante\n",
    "def secante(f, xnm1, x_n, n_it=10**5):\n",
    "    '''f é uma função \\n\n",
    "    xnm1 e x_n são pontos tal que a raiz esteja em (xnm1, x_n) \\n\n",
    "    n_it é o número de iterações'''\n",
    "    # Inicializar um valor que guarda x_n pro critério de parada\n",
    "    # Ele inicializa com infinito pois o valor é arbitrário\n",
    "    x_g = np.inf\n",
    "    # Enquanto não convergir...\n",
    "    while x_n != x_g:\n",
    "        x_g = x_n\n",
    "        # Calcular\n",
    "        xnp1 = x_n - ((x_n-xnm1)*f(x_n))/(f(x_n)-f(xnm1))\n",
    "        x_n = xnp1\n",
    "    return x_n"
   ]
  },
  {
   "cell_type": "code",
   "execution_count": 12,
   "metadata": {},
   "outputs": [
    {
     "name": "stdout",
     "output_type": "stream",
     "text": [
      "Raiz encontrada com método de secantes para F(r)=0: r_eq = 2.3605384842 A\n"
     ]
    }
   ],
   "source": [
    "# Aplicar método\n",
    "print('Raiz encontrada com método de secantes para F(r)=0: r_eq = {:.10f} A'.format(\n",
    "secante(F_r, 2, 2.5)\n",
    "))"
   ]
  }
 ],
 "metadata": {
  "kernelspec": {
   "display_name": "Python 3",
   "language": "python",
   "name": "python3"
  },
  "language_info": {
   "codemirror_mode": {
    "name": "ipython",
    "version": 3
   },
   "file_extension": ".py",
   "mimetype": "text/x-python",
   "name": "python",
   "nbconvert_exporter": "python",
   "pygments_lexer": "ipython3",
   "version": "3.8.2"
  }
 },
 "nbformat": 4,
 "nbformat_minor": 4
}
