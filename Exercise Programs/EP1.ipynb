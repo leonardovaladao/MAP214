{
 "cells": [
  {
   "cell_type": "markdown",
   "metadata": {},
   "source": [
    "## Nome: Leonardo Valadão. NUSP: 10299437"
   ]
  },
  {
   "cell_type": "markdown",
   "metadata": {},
   "source": [
    "# 1º Programa: Zero de funções, bissecção, Newton-Rapshon, Secantes"
   ]
  },
  {
   "cell_type": "markdown",
   "metadata": {},
   "source": [
    "**a) Resolva numericamente a equação $x^3-cos(x)=0$ usando o método de bissecção. Use um critério de parada escolhendo $\\varepsilon$ adequado. Existem outras raízes? Atenção: cos() em radianos!**"
   ]
  },
  {
   "cell_type": "markdown",
   "metadata": {},
   "source": [
    "Primeiro, vou determinar um algoritmo para o método de bissecção:\n",
    " - Encontrar $c = (a+b)/2$\n",
    " - Verificar $f(a) . f(c) < 0$\n",
    " - Se sim, existe raiz em $(a, c)$\n",
    " - Caso contrário, existe raiz em $[c, b)$\n",
    " - Repetir até $c \\leq \\epsilon $"
   ]
  },
  {
   "cell_type": "code",
   "execution_count": 1,
   "metadata": {},
   "outputs": [],
   "source": [
    "def bissec(f, a, b, epsilon = 0.0001):\n",
    "    '''Passe f como função; a e b são reais de extremos do intervalo. Epsilon é o intervalo limite.'''\n",
    "    \n",
    "    if f(a)*f(b)>0:\n",
    "        raise Exception('Por favor, passe parâmetros t. q. f(a)*f(b)<0')\n",
    "    c = a\n",
    "    # Critério de parada\n",
    "    while(b-a >= epsilon):\n",
    "        # Verificação\n",
    "        c = (a+b)/2\n",
    "        if f(c)*f(a)<0:\n",
    "            # Diminuir intervalo para (a,c)\n",
    "            b = c\n",
    "        else:\n",
    "            # Diminuir intervalo para (c,b)\n",
    "            a = c\n",
    "    return c"
   ]
  },
  {
   "cell_type": "markdown",
   "metadata": {},
   "source": [
    "Para analisar a função que devo aplicar, vou gerar um gráfico dela:"
   ]
  },
  {
   "cell_type": "code",
   "execution_count": 2,
   "metadata": {},
   "outputs": [
    {
     "data": {
      "image/png": "[encoded data removed]",
      "text/plain": [
       "<Figure size 432x288 with 1 Axes>"
      ]
     },
     "metadata": {
      "needs_background": "light"
     },
     "output_type": "display_data"
    }
   ],
   "source": [
    "import numpy as np\n",
    "import matplotlib.pyplot as plt\n",
    "%matplotlib inline\n",
    "\n",
    "# Definir função e criar intervalo a mostrar\n",
    "def funcao(x):\n",
    "    return x**3-np.cos(x)\n",
    "x = np.arange(-1.5,1.5, step=0.001)\n",
    "y = [funcao(x) for x in x]\n",
    "\n",
    "# Gerar gráfico\n",
    "fig = plt.figure()\n",
    "ax = fig.add_subplot(1,1,1)\n",
    "\n",
    "ax.plot(x,y)\n",
    "ax.set_xlabel('x')\n",
    "ax.set_ylabel('y')\n",
    "ax.set_title('Gráfico para f(x)=x³-cos(x)')\n",
    "ax.set_xticks(np.arange(-1.5, 1.5, 0.25))\n",
    "ax.grid()\n",
    "\n",
    "plt.show()"
   ]
  },
  {
   "cell_type": "markdown",
   "metadata": {},
   "source": [
    "A raiz a ser encontrada parece estar pouco após $0.75$. Nosso intervalo será $(0.75,1.0)$."
   ]
  },
  {
   "cell_type": "markdown",
   "metadata": {},
   "source": [
    "Aplicar o método:"
   ]
  },
  {
   "cell_type": "code",
   "execution_count": 3,
   "metadata": {
    "scrolled": true
   },
   "outputs": [
    {
     "name": "stdout",
     "output_type": "stream",
     "text": [
      "Raiz encontrada pelo método de bissecção: 0.865474\n"
     ]
    }
   ],
   "source": [
    "# Epsilon escolhido: 1e-6, precisão em micro.\n",
    "\n",
    "print('Raiz encontrada pelo método de bissecção: {:.6f}'.format(\n",
    "bissec(funcao, 0.75,1, epsilon=1e-6)\n",
    "))"
   ]
  },
  {
   "cell_type": "markdown",
   "metadata": {},
   "source": [
    "Pelo gráfico, vemos que não existem outras raízes para a função, pelo menos no intervalo analisado."
   ]
  }
 ],
 "metadata": {
  "kernelspec": {
   "display_name": "Python 3",
   "language": "python",
   "name": "python3"
  },
  "language_info": {
   "codemirror_mode": {
    "name": "ipython",
    "version": 3
   },
   "file_extension": ".py",
   "mimetype": "text/x-python",
   "name": "python",
   "nbconvert_exporter": "python",
   "pygments_lexer": "ipython3",
   "version": "3.8.2"
  }
 },
 "nbformat": 4,
 "nbformat_minor": 4
}
