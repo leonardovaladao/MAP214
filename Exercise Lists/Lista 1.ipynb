{
 "cells": [
  {
   "cell_type": "code",
   "execution_count": 107,
   "metadata": {},
   "outputs": [],
   "source": [
    "import numpy as np"
   ]
  },
  {
   "cell_type": "markdown",
   "metadata": {},
   "source": [
    "**1. Mostre que 0.1 na base 10 é representado por 0.0001100110011... na base 2.**"
   ]
  },
  {
   "cell_type": "markdown",
   "metadata": {},
   "source": [
    "Para converter um número decimal em binário, utilizaremos o seguinte algoritmo:\n",
    "<ol>\n",
    "    <li> Multiplique por 2 </li>\n",
    "    <li> Pegue o decimal como dígito </li>\n",
    "    <li> Pegue a fração como início da próxima etapa </li>\n",
    "    <li> Repita  </li>\n",
    "    <li> Guarde os número calculados em uma lista </li>\n",
    "</ol>\n",
    "\n",
    "Exemplo:<br>\n",
    "<pre>0.1 * 2 = 0.2 -> 0\n",
    "0.2 * 2 = 0.4 -> 0\n",
    "0.4 * 2 = 0.8 -> 0\n",
    "0.8 * 2 = 1.6 -> 1\n",
    "0.6 * 2 = 1.2 -> 1\n",
    "0.2 * 2 = 0.4 -> 0\n",
    "0.4 * 2 = 0.8 -> 0\n",
    "0.8 * 2 = 1.6 -> 1\n",
    "0.6 * 2 = 1.2 -> 1</pre>"
   ]
  },
  {
   "cell_type": "code",
   "execution_count": 103,
   "metadata": {},
   "outputs": [
    {
     "name": "stdout",
     "output_type": "stream",
     "text": [
      "0.0001100011000110001100011000110001100011000110001100011000110001100011000110001100011000110001100011000110001100011000110001100011000110001100011000110001100011000110001100011000110001100011000110001100011000110001100011000110001100011000110001100011000110001100011000110001100011000110001100011000110001100011000110001100011000110001100011000110001100011000110001100011000110001100011000110001100011000110001100011000110001100011000110001100011000110001100011000110001100011000110001100011000110001100011000110001100011000110001100011000110001100011000110001100011000110001100011000110001100011000110001100011000110001100011000110001100011000110001100011000110001100011000110001100011000110001100011000110001100011000110001100011000110001100011000110001100011000110001100011000110001100011000110001100011000110001100011000110001100011000110001100011000110001100011000110001100011000110001100011000110001100011000110001100011000110001100011000110001100011000110001100011000110001100011000110001100011\n"
     ]
    }
   ],
   "source": [
    "def frac_to_binary(input, max_iterations=1000, li=[]):\n",
    "    # Repita por max_iterations interações\n",
    "    for i in range(0, max_iterations):\n",
    "        # Multiplque por 2\n",
    "        input = input * 2\n",
    "        # Pegue decimal como dígito\n",
    "        digit = int(str(input)[:1])\n",
    "        # Desconsidere erro flutuante\n",
    "        if input >= 1:\n",
    "            input = float(str(input - digit)[:3])\n",
    "        # Guarde dígito numa lista\n",
    "        li.append(digit)\n",
    "    # Transforme lista em string\n",
    "    return '0.'+''.join([ \"%d\"%x for x in li])\n",
    "        \n",
    "bi = frac_to_binary(0.1)\n",
    "print(bi)"
   ]
  },
  {
   "cell_type": "markdown",
   "metadata": {},
   "source": [
    "**2. Some 10000 vezes no computador o valor 0.0001 e imprima o resultado com sete decimais (precisão simples).**"
   ]
  },
  {
   "cell_type": "code",
   "execution_count": 118,
   "metadata": {},
   "outputs": [
    {
     "name": "stdout",
     "output_type": "stream",
     "text": [
      "1.0001535\n"
     ]
    }
   ],
   "source": [
    "n = np.float32(0.0001)\n",
    "for i in range(0, 10000):\n",
    "    n+=np.float32(0.0001)\n",
    "print(\"{:.7f}\".format(n))"
   ]
  },
  {
   "cell_type": "markdown",
   "metadata": {},
   "source": [
    "**3. Calcule no computador o maior $ n! $ possível até causar overflow (precisão simples e dupla). Imprima $ n $ e $ n! $.**"
   ]
  },
  {
   "cell_type": "code",
   "execution_count": 141,
   "metadata": {
    "scrolled": true
   },
   "outputs": [
    {
     "name": "stdout",
     "output_type": "stream",
     "text": [
      "1 ! = 1.000000e+00\n",
      "2 ! = 2.000000e+00\n",
      "3 ! = 6.000000e+00\n",
      "4 ! = 2.400000e+01\n",
      "5 ! = 1.200000e+02\n",
      "6 ! = 7.200000e+02\n",
      "7 ! = 5.040000e+03\n",
      "8 ! = 4.032000e+04\n",
      "9 ! = 3.628800e+05\n",
      "10 ! = 3.628800e+06\n",
      "11 ! = 3.991680e+07\n",
      "12 ! = 4.790016e+08\n",
      "13 ! = 6.227021e+09\n",
      "14 ! = 8.717829e+10\n",
      "15 ! = 1.307674e+12\n",
      "16 ! = 2.092279e+13\n",
      "17 ! = 3.556874e+14\n",
      "18 ! = 6.402373e+15\n",
      "19 ! = 1.216451e+17\n",
      "20 ! = 2.432902e+18\n",
      "21 ! = 5.109094e+19\n",
      "22 ! = 1.124001e+21\n",
      "23 ! = 2.585202e+22\n",
      "24 ! = 6.204484e+23\n",
      "25 ! = 1.551121e+25\n",
      "26 ! = 4.032915e+26\n",
      "27 ! = 1.088887e+28\n",
      "28 ! = 3.048884e+29\n",
      "29 ! = 8.841763e+30\n",
      "30 ! = 2.652529e+32\n",
      "31 ! = 8.222840e+33\n",
      "32 ! = 2.631309e+35\n",
      "33 ! = 8.683319e+36\n",
      "34 ! = 2.952328e+38\n",
      "35 ! = 1.033315e+40\n",
      "36 ! = inf\n"
     ]
    }
   ],
   "source": [
    "def fac32(max_iterations, fac=1):\n",
    "    for i in range (1, max_iterations):\n",
    "        fac = i * np.float32(fac)\n",
    "        print(i, '! =',\"{:e}\".format(fac))\n",
    "\n",
    "fac32(37)"
   ]
  },
  {
   "cell_type": "markdown",
   "metadata": {},
   "source": [
    "Overflow: Iteração nº 36"
   ]
  },
  {
   "cell_type": "code",
   "execution_count": 144,
   "metadata": {},
   "outputs": [
    {
     "name": "stdout",
     "output_type": "stream",
     "text": [
      "1 ! = 1.000000e+00\n",
      "2 ! = 2.000000e+00\n",
      "3 ! = 6.000000e+00\n",
      "4 ! = 2.400000e+01\n",
      "5 ! = 1.200000e+02\n",
      "6 ! = 7.200000e+02\n",
      "7 ! = 5.040000e+03\n",
      "8 ! = 4.032000e+04\n",
      "9 ! = 3.628800e+05\n",
      "10 ! = 3.628800e+06\n",
      "11 ! = 3.991680e+07\n",
      "12 ! = 4.790016e+08\n",
      "13 ! = 6.227021e+09\n",
      "14 ! = 8.717829e+10\n",
      "15 ! = 1.307674e+12\n",
      "16 ! = 2.092279e+13\n",
      "17 ! = 3.556874e+14\n",
      "18 ! = 6.402374e+15\n",
      "19 ! = 1.216451e+17\n",
      "20 ! = 2.432902e+18\n",
      "21 ! = 5.109094e+19\n",
      "22 ! = 1.124001e+21\n",
      "23 ! = 2.585202e+22\n",
      "24 ! = 6.204484e+23\n",
      "25 ! = 1.551121e+25\n",
      "26 ! = 4.032915e+26\n",
      "27 ! = 1.088887e+28\n",
      "28 ! = 3.048883e+29\n",
      "29 ! = 8.841762e+30\n",
      "30 ! = 2.652529e+32\n",
      "31 ! = 8.222839e+33\n",
      "32 ! = 2.631308e+35\n",
      "33 ! = 8.683318e+36\n",
      "34 ! = 2.952328e+38\n",
      "35 ! = 1.033315e+40\n",
      "36 ! = 3.719933e+41\n",
      "37 ! = 1.376375e+43\n",
      "38 ! = 5.230226e+44\n",
      "39 ! = 2.039788e+46\n",
      "40 ! = 8.159153e+47\n",
      "41 ! = 3.345253e+49\n",
      "42 ! = 1.405006e+51\n",
      "43 ! = 6.041526e+52\n",
      "44 ! = 2.658272e+54\n",
      "45 ! = 1.196222e+56\n",
      "46 ! = 5.502622e+57\n",
      "47 ! = 2.586232e+59\n",
      "48 ! = 1.241392e+61\n",
      "49 ! = 6.082819e+62\n",
      "50 ! = 3.041409e+64\n",
      "51 ! = 1.551119e+66\n",
      "52 ! = 8.065818e+67\n",
      "53 ! = 4.274883e+69\n",
      "54 ! = 2.308437e+71\n",
      "55 ! = 1.269640e+73\n",
      "56 ! = 7.109986e+74\n",
      "57 ! = 4.052692e+76\n",
      "58 ! = 2.350561e+78\n",
      "59 ! = 1.386831e+80\n",
      "60 ! = 8.320987e+81\n",
      "61 ! = 5.075802e+83\n",
      "62 ! = 3.146997e+85\n",
      "63 ! = 1.982608e+87\n",
      "64 ! = 1.268869e+89\n",
      "65 ! = 8.247651e+90\n",
      "66 ! = 5.443449e+92\n",
      "67 ! = 3.647111e+94\n",
      "68 ! = 2.480036e+96\n",
      "69 ! = 1.711225e+98\n",
      "70 ! = 1.197857e+100\n",
      "71 ! = 8.504786e+101\n",
      "72 ! = 6.123446e+103\n",
      "73 ! = 4.470115e+105\n",
      "74 ! = 3.307885e+107\n",
      "75 ! = 2.480914e+109\n",
      "76 ! = 1.885495e+111\n",
      "77 ! = 1.451831e+113\n",
      "78 ! = 1.132428e+115\n",
      "79 ! = 8.946182e+116\n",
      "80 ! = 7.156946e+118\n",
      "81 ! = 5.797126e+120\n",
      "82 ! = 4.753643e+122\n",
      "83 ! = 3.945524e+124\n",
      "84 ! = 3.314240e+126\n",
      "85 ! = 2.817104e+128\n",
      "86 ! = 2.422710e+130\n",
      "87 ! = 2.107757e+132\n",
      "88 ! = 1.854826e+134\n",
      "89 ! = 1.650796e+136\n",
      "90 ! = 1.485716e+138\n",
      "91 ! = 1.352002e+140\n",
      "92 ! = 1.243841e+142\n",
      "93 ! = 1.156773e+144\n",
      "94 ! = 1.087366e+146\n",
      "95 ! = 1.032998e+148\n",
      "96 ! = 9.916779e+149\n",
      "97 ! = 9.619276e+151\n",
      "98 ! = 9.426890e+153\n",
      "99 ! = 9.332622e+155\n",
      "100 ! = 9.332622e+157\n",
      "101 ! = 9.425948e+159\n",
      "102 ! = 9.614467e+161\n",
      "103 ! = 9.902901e+163\n",
      "104 ! = 1.029902e+166\n",
      "105 ! = 1.081397e+168\n",
      "106 ! = 1.146281e+170\n",
      "107 ! = 1.226520e+172\n",
      "108 ! = 1.324642e+174\n",
      "109 ! = 1.443860e+176\n",
      "110 ! = 1.588246e+178\n",
      "111 ! = 1.762953e+180\n",
      "112 ! = 1.974507e+182\n",
      "113 ! = 2.231193e+184\n",
      "114 ! = 2.543560e+186\n",
      "115 ! = 2.925094e+188\n",
      "116 ! = 3.393109e+190\n",
      "117 ! = 3.969937e+192\n",
      "118 ! = 4.684526e+194\n",
      "119 ! = 5.574586e+196\n",
      "120 ! = 6.689503e+198\n",
      "121 ! = 8.094299e+200\n",
      "122 ! = 9.875044e+202\n",
      "123 ! = 1.214630e+205\n",
      "124 ! = 1.506142e+207\n",
      "125 ! = 1.882677e+209\n",
      "126 ! = 2.372173e+211\n",
      "127 ! = 3.012660e+213\n",
      "128 ! = 3.856205e+215\n",
      "129 ! = 4.974504e+217\n",
      "130 ! = 6.466855e+219\n",
      "131 ! = 8.471581e+221\n",
      "132 ! = 1.118249e+224\n",
      "133 ! = 1.487271e+226\n",
      "134 ! = 1.992943e+228\n",
      "135 ! = 2.690473e+230\n",
      "136 ! = 3.659043e+232\n",
      "137 ! = 5.012889e+234\n",
      "138 ! = 6.917786e+236\n",
      "139 ! = 9.615723e+238\n",
      "140 ! = 1.346201e+241\n",
      "141 ! = 1.898144e+243\n",
      "142 ! = 2.695364e+245\n",
      "143 ! = 3.854371e+247\n",
      "144 ! = 5.550294e+249\n",
      "145 ! = 8.047926e+251\n",
      "146 ! = 1.174997e+254\n",
      "147 ! = 1.727246e+256\n",
      "148 ! = 2.556324e+258\n",
      "149 ! = 3.808923e+260\n",
      "150 ! = 5.713384e+262\n",
      "151 ! = 8.627210e+264\n",
      "152 ! = 1.311336e+267\n",
      "153 ! = 2.006344e+269\n",
      "154 ! = 3.089770e+271\n",
      "155 ! = 4.789143e+273\n",
      "156 ! = 7.471063e+275\n",
      "157 ! = 1.172957e+278\n",
      "158 ! = 1.853272e+280\n",
      "159 ! = 2.946702e+282\n",
      "160 ! = 4.714724e+284\n",
      "161 ! = 7.590705e+286\n",
      "162 ! = 1.229694e+289\n",
      "163 ! = 2.004402e+291\n",
      "164 ! = 3.287219e+293\n",
      "165 ! = 5.423911e+295\n",
      "166 ! = 9.003692e+297\n",
      "167 ! = 1.503617e+300\n",
      "168 ! = 2.526076e+302\n",
      "169 ! = 4.269068e+304\n",
      "170 ! = 7.257416e+306\n",
      "171 ! = inf\n"
     ]
    },
    {
     "name": "stderr",
     "output_type": "stream",
     "text": [
      "<ipython-input-144-df7533580ecf>:3: RuntimeWarning: overflow encountered in double_scalars\n",
      "  fac = i * np.float64(fac)\n"
     ]
    }
   ],
   "source": [
    "def fac64(max_iterations, fac=1):\n",
    "    for i in range (1, max_iterations):\n",
    "        fac = i * np.float64(fac)\n",
    "        print(i, '! =',\"{:e}\".format(fac))\n",
    "\n",
    "fac64(172)"
   ]
  },
  {
   "cell_type": "markdown",
   "metadata": {},
   "source": [
    "Overflow: Iteração nº 171"
   ]
  },
  {
   "cell_type": "markdown",
   "metadata": {},
   "source": [
    "**4. Calcule com uma calculadora não programável a raiz positiva de $x² - 5 = 0$ usando o método de bissecção, até o intervalo ser $\\leq$ 0.0001**"
   ]
  },
  {
   "cell_type": "markdown",
   "metadata": {},
   "source": [
    "**5. A eq. $x² - 3x + 2 = 0$ pode ser escrita como $x = G(x)$ em diversas formas para aplicação do método de substituições sucessivas. Determina analiticamente a região de convergência para as raízes $x = 1.2$ e faça os gráficos de convergência $y = G(x)$ suporposto à reta $y=x$ para os seguintes casos:**\n",
    "\n",
    "**a) $x_{n+1} = (x_n^2 + 2) / 3$** \\\n",
    "**b) $x_{n+1} = \\sqrt{3 x_n - 2}$**"
   ]
  },
  {
   "cell_type": "markdown",
   "metadata": {},
   "source": [
    "**6. Com uma calculadora não programável, encontre a raiz posivita de $sin(x)=x/2$ usando os métodos de Newton-Raphson e secantes, com erro $\\epsilon \\leq 10^{-4}$**"
   ]
  },
  {
   "cell_type": "markdown",
   "metadata": {},
   "source": [
    "**7. Considere o sistema na forma $Ax=b$ dado por** \n",
    "<center>\n",
    "$\\left[\\begin{array}{ccc}\n",
    "1 & 2 & 3\\\\\n",
    "2 & 4 & -2\\\\\n",
    "1 & 3 & -1\\\\\n",
    "\\end{array}\\right]$\n",
    "$\\left[\\begin{array}{ccc}\n",
    "x_1\\\\\n",
    "x_2\\\\\n",
    "x_3\\\\\n",
    "\\end{array}\\right]$\n",
    "=\n",
    "$\\left[\\begin{array}{ccc}\n",
    "14\\\\\n",
    "4\\\\\n",
    "4\\\\\n",
    "\\end{array}\\right]$\n",
    "</center>\n",
    "\n",
    "**a) Resolva o sistema pelo método de Eliminação de Gauss. use o pivotamento parcial se necessário.** \\\n",
    "**b) A partir da matriz triangular superior calcule o determinante da matriz $A$.** \\\n",
    "**c) Inverta a matriz $A$ pelo método de Elminação de Gauss.**"
   ]
  },
  {
   "cell_type": "markdown",
   "metadata": {},
   "source": [
    "**8. Seja o sistema $Ax=b$ na forma**\n",
    "<center>\n",
    "$\\left[\\begin{array}{ccc}\n",
    "-1 & 4 & -3\\\\\n",
    "-5 & -3 & 8\\\\\n",
    "-6 & 2 & 3\\\\\n",
    "\\end{array}\\right]$\n",
    "$\\left[\\begin{array}{ccc}\n",
    "x_1\\\\\n",
    "x_2\\\\\n",
    "x_3\\\\\n",
    "\\end{array}\\right]$\n",
    "=\n",
    "$\\left[\\begin{array}{ccc}\n",
    "4\\\\\n",
    "-3\\\\\n",
    "3\\\\\n",
    "\\end{array}\\right]$\n",
    "</center>\n",
    "\n",
    "**a) A matrix $A$ satisfaz o Critério das Linhas para alguma permutação de linhas?** \\\n",
    "**b) A matriz $A$ tem alguma permutação que satisfaz o Critério de Sassenfeld?** \\\n",
    "**c) Escreva as equações de recorrência do método de Gauss-Seidel e calcule uma iteração a partir de $x^{(0)}=(1,0,0)$.**"
   ]
  },
  {
   "cell_type": "markdown",
   "metadata": {},
   "source": [
    "**9. Sejam os pontos $(-1,-11), (1,5), (2,13), (3,-13)$.** \\\n",
    "**a) Escreva a expressão do polinômio interpolante $y=P_3 (x)$ usando o método de Lagrange para os pontos dados.** \\\n",
    "**b) Construa um programa em C (ou C++, FORTRAN, Python) que calcule o valor de $y$ dado $x=1,5$ usando o polinômio interpolante do item a). Bastam dois *loops*, um interno para o produtório e outro externo para o somatório**."
   ]
  }
 ],
 "metadata": {
  "kernelspec": {
   "display_name": "Python 3",
   "language": "python",
   "name": "python3"
  },
  "language_info": {
   "codemirror_mode": {
    "name": "ipython",
    "version": 3
   },
   "file_extension": ".py",
   "mimetype": "text/x-python",
   "name": "python",
   "nbconvert_exporter": "python",
   "pygments_lexer": "ipython3",
   "version": "3.8.3"
  }
 },
 "nbformat": 4,
 "nbformat_minor": 4
}
