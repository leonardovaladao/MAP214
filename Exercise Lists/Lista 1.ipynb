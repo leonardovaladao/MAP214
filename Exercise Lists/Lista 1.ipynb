{
 "cells": [
  {
   "cell_type": "markdown",
   "metadata": {},
   "source": [
    "# Lista 1 - Cálculo Numérico"
   ]
  },
  {
   "cell_type": "code",
   "execution_count": 2,
   "metadata": {},
   "outputs": [],
   "source": [
    "import numpy as np"
   ]
  },
  {
   "cell_type": "markdown",
   "metadata": {},
   "source": [
    "**1. Mostre que 0.1 na base 10 é representado por 0.0001100110011... na base 2.**"
   ]
  },
  {
   "cell_type": "markdown",
   "metadata": {},
   "source": [
    "Para converter um número decimal em binário, utilizaremos o seguinte algoritmo:\n",
    "<ol>\n",
    "    <li> Multiplique por 2 </li>\n",
    "    <li> Pegue o decimal como dígito </li>\n",
    "    <li> Pegue a fração como início da próxima etapa </li>\n",
    "    <li> Repita  </li>\n",
    "    <li> Guarde os número calculados em uma lista </li>\n",
    "</ol>\n",
    "\n",
    "Exemplo:<br>\n",
    "<pre>0.1 * 2 = 0.2 -> 0\n",
    "0.2 * 2 = 0.4 -> 0\n",
    "0.4 * 2 = 0.8 -> 0\n",
    "0.8 * 2 = 1.6 -> 1\n",
    "0.6 * 2 = 1.2 -> 1\n",
    "0.2 * 2 = 0.4 -> 0\n",
    "0.4 * 2 = 0.8 -> 0\n",
    "0.8 * 2 = 1.6 -> 1\n",
    "0.6 * 2 = 1.2 -> 1</pre>\n",
    "\n",
    "Resultado: 000110011"
   ]
  },
  {
   "cell_type": "code",
   "execution_count": 3,
   "metadata": {},
   "outputs": [
    {
     "name": "stdout",
     "output_type": "stream",
     "text": [
      "0.0001100011000110001100011000110001100011000110001100011000110001100011000110001100011000110001100011000110001100011000110001100011000110001100011000110001100011000110001100011000110001100011000110001100011000110001100011000110001100011000110001100011000110001100011000110001100011000110001100011000110001100011000110001100011000110001100011000110001100011000110001100011000110001100011000110001100011000110001100011000110001100011000110001100011000110001100011000110001100011000110001100011000110001100011000110001100011000110001100011000110001100011000110001100011000110001100011000110001100011000110001100011000110001100011000110001100011000110001100011000110001100011000110001100011000110001100011000110001100011000110001100011000110001100011000110001100011000110001100011000110001100011000110001100011000110001100011000110001100011000110001100011000110001100011000110001100011000110001100011000110001100011000110001100011000110001100011000110001100011000110001100011000110001100011000110001100011\n"
     ]
    }
   ],
   "source": [
    "def frac_to_binary(input, max_iterations=1000, li=[]):\n",
    "    # Repita por max_iterations interações\n",
    "    for i in range(0, max_iterations):\n",
    "        # Multiplque por 2\n",
    "        input = input * 2\n",
    "        # Pegue decimal como dígito\n",
    "        digit = int(str(input)[:1])\n",
    "        # Desconsidere erro flutuante\n",
    "        if input >= 1:\n",
    "            input = float(str(input - digit)[:3])\n",
    "        # Guarde dígito numa lista\n",
    "        li.append(digit)\n",
    "    # Transforme lista em string\n",
    "    return '0.'+''.join([ \"%d\"%x for x in li])\n",
    "        \n",
    "bi = frac_to_binary(0.1)\n",
    "print(bi)"
   ]
  },
  {
   "cell_type": "markdown",
   "metadata": {},
   "source": [
    "**2. Some 10000 vezes no computador o valor 0.0001 e imprima o resultado com sete decimais (precisão simples).**"
   ]
  },
  {
   "cell_type": "code",
   "execution_count": 4,
   "metadata": {},
   "outputs": [
    {
     "name": "stdout",
     "output_type": "stream",
     "text": [
      "1.0001535\n"
     ]
    }
   ],
   "source": [
    "n = np.float32(0.0001)\n",
    "for i in range(0, 10000):\n",
    "    n+=np.float32(0.0001)\n",
    "print(\"{:.7f}\".format(n))"
   ]
  },
  {
   "cell_type": "markdown",
   "metadata": {},
   "source": [
    "**3. Calcule no computador o maior $ n! $ possível até causar overflow (precisão simples e dupla). Imprima $ n $ e $ n! $.**"
   ]
  },
  {
   "cell_type": "markdown",
   "metadata": {},
   "source": [
    "Precisão simples:"
   ]
  },
  {
   "cell_type": "code",
   "execution_count": 6,
   "metadata": {
    "scrolled": true
   },
   "outputs": [
    {
     "name": "stdout",
     "output_type": "stream",
     "text": [
      "Overflow na iteração número 36. Valor: inf\n"
     ]
    }
   ],
   "source": [
    "def fac32(max_iterations, fac=1):\n",
    "    for i in range (1, max_iterations):\n",
    "        fac = i * np.float32(fac)\n",
    "        if fac == np.inf:\n",
    "            print('Overflow na iteração número {:.0f}. Valor: {:.0f}'.format(i, fac))\n",
    "            break\n",
    "\n",
    "fac32(100)"
   ]
  },
  {
   "cell_type": "markdown",
   "metadata": {},
   "source": [
    "Precisão dupla:"
   ]
  },
  {
   "cell_type": "code",
   "execution_count": 5,
   "metadata": {},
   "outputs": [
    {
     "name": "stdout",
     "output_type": "stream",
     "text": [
      "Overflow na iteração número 171. Valor: inf\n"
     ]
    },
    {
     "name": "stderr",
     "output_type": "stream",
     "text": [
      "<ipython-input-5-d2988d16b356>:3: RuntimeWarning: overflow encountered in double_scalars\n",
      "  fac = i * np.float64(fac)\n"
     ]
    }
   ],
   "source": [
    "def fac64(max_iterations, fac=1):\n",
    "    for i in range (1, max_iterations):\n",
    "        fac = i * np.float64(fac)\n",
    "        if fac == np.inf:\n",
    "            print('Overflow na iteração número {:.0f}. Valor: {:.0f}'.format(i, fac))\n",
    "            break\n",
    "\n",
    "fac64(1000)"
   ]
  },
  {
   "cell_type": "markdown",
   "metadata": {},
   "source": [
    "**4. Calcule com uma calculadora não programável a raiz positiva de $x² - 5 = 0$ usando o método de bissecção, até o intervalo ser $\\leq$ 0.0001**"
   ]
  },
  {
   "cell_type": "markdown",
   "metadata": {},
   "source": [
    "Por diversão, vou criar um algoritmo do método de bissecção, e testar na função $f(x) = x^2 - 5$, no intervalo $[1, 4]$ (sendo $f(1)=-4$, $f(4) = 11$. Devo encontrar a raiz $2,236$."
   ]
  },
  {
   "cell_type": "markdown",
   "metadata": {},
   "source": [
    "Método de bissecção: <br>\n",
    " - Encontrar $c = (a+b)/2$\n",
    " - Verificar $f(a) . f(c) < 0$\n",
    " - Se sim, existe raiz em $(a, c)$\n",
    " - Caso contrário, existe raiz em $[c, b)$\n",
    " - Repetir até $c \\leq \\epsilon $"
   ]
  },
  {
   "cell_type": "code",
   "execution_count": 7,
   "metadata": {},
   "outputs": [
    {
     "name": "stdout",
     "output_type": "stream",
     "text": [
      "Raiz encontrada: 2.236\n"
     ]
    }
   ],
   "source": [
    "def squared_f(x):\n",
    "    return x**2-5\n",
    "\n",
    "def bissec(f, a, b, epsilon = 0.0001):\n",
    "    '''Passe f como função; a e b são reais de extremos do intervalo. Epsilon é o intervalo limite.'''\n",
    "    \n",
    "    if f(a)*f(b)>0:\n",
    "        raise Exception('Por favor, passe parâmetros t. q. f(a)*f(b)<0')\n",
    "    c = a\n",
    "    while(b-a >= epsilon):\n",
    "        c = (a+b)/2\n",
    "        if f(c)*f(a)<0:\n",
    "            b = c\n",
    "        else:\n",
    "            a = c\n",
    "            \n",
    "    return c\n",
    "\n",
    "r = bissec(squared_f, 1, 4)\n",
    "print('Raiz encontrada: {:.3f}'.format(r))"
   ]
  },
  {
   "cell_type": "markdown",
   "metadata": {},
   "source": [
    "Por curiosidade, vou testar a função $f(x) = \\frac{x^3}{e^x} - x + ln(x) + 1$, no intervalo $[0, 2]$. Devo encontrar a raiz $0.593$."
   ]
  },
  {
   "cell_type": "code",
   "execution_count": 8,
   "metadata": {},
   "outputs": [
    {
     "name": "stdout",
     "output_type": "stream",
     "text": [
      "Raiz encontrada: 0.593\n"
     ]
    },
    {
     "name": "stderr",
     "output_type": "stream",
     "text": [
      "<ipython-input-8-7545cd435c37>:2: RuntimeWarning: divide by zero encountered in log\n",
      "  return ((x**3/np.exp(x)) - x + np.log(x) + 1)\n"
     ]
    }
   ],
   "source": [
    "def weird_function(x):\n",
    "    return ((x**3/np.exp(x)) - x + np.log(x) + 1)\n",
    "\n",
    "r = bissec(weird_function, 0, 2)\n",
    "print('Raiz encontrada: {:.3f}'.format(r))"
   ]
  },
  {
   "cell_type": "markdown",
   "metadata": {},
   "source": [
    "**5. A eq. $x^2 - 3x + 2 = 0$ pode ser escrita como $x=G(x)$ em diversas formas para aplicação do método de substituições sucessivas. Determine analiticamente a região de convergência para as raízes $x=1,2$ e faça os gráficos de convergência $y=G(x)$ superposto à reta $y=x$ para os seguintes casos:** <br>\n",
    "\n",
    "**a) $x_{n+1} = (x^2_n + 2) / 3$** <br>\n",
    "**b) $x_{n+1} = \\sqrt{3 x_n - 2}$**"
   ]
  },
  {
   "cell_type": "markdown",
   "metadata": {},
   "source": [
    "*Determinar analiticamente a região de convergência para $1,2$:*"
   ]
  },
  {
   "cell_type": "markdown",
   "metadata": {},
   "source": [
    "(a) Se $x_{n+1} = (x_n^2 + 2)/3$, então temos $x = G(x) = \\frac{x^2+2}{3}$. <br>\n",
    "Para termos uma região de convergência, é necessário que $|G'(x)| < 1$, onde $G'(x) = \\frac{2x}{3}$. <br>\n",
    "Então, temos $|\\frac{2x}{3}|<1 \\Rightarrow |x| < \\frac{3}{2}$, que é nossa região de covergência."
   ]
  },
  {
   "cell_type": "markdown",
   "metadata": {},
   "source": [
    "(b) Se $x_{n+1} = \\sqrt{3 x_n - 2}$, então temos $x = H(x) = \\sqrt{3x - 2}$. <br>\n",
    "Para termos uma região de convergência, é necessário que $|H'(x)| < 1$, onde $H'(x) = \\frac{3}{2 \\sqrt{3x-2}}$. <br>\n",
    "Então, temos $|\\frac{3}{2 \\sqrt{3x-2}}|<1 \\Rightarrow \\frac{9}{12x-8}<1 \\Rightarrow 9<12x-8 \\Rightarrow \\frac{17}{12} < x$, que é nossa região de convergência."
   ]
  },
  {
   "cell_type": "markdown",
   "metadata": {},
   "source": [
    "*Gráfico de convergência $y = G(x)$ superposto à reta $y=x$:*"
   ]
  },
  {
   "cell_type": "code",
   "execution_count": 9,
   "metadata": {},
   "outputs": [],
   "source": [
    "def g_x(x):\n",
    "    return (x**2+2)/3\n",
    "\n",
    "def h_x(x):\n",
    "    return np.sqrt(3*x-2)"
   ]
  },
  {
   "cell_type": "code",
   "execution_count": 10,
   "metadata": {},
   "outputs": [
    {
     "data": {
      "image/png": "[encoded data removed]",
      "text/plain": [
       "<Figure size 1008x360 with 2 Axes>"
      ]
     },
     "metadata": {
      "needs_background": "light"
     },
     "output_type": "display_data"
    }
   ],
   "source": [
    "import matplotlib.pyplot as plt\n",
    "\n",
    "x = np.arange(0.75,2.25, step=0.01)\n",
    "l = np.arange(0.75,2.25, step=0.01)\n",
    "y_1 = [g_x(i) for i in x]\n",
    "y_2 = [h_x(i) for i in x]\n",
    "\n",
    "f = plt.figure(figsize=(14,5))\n",
    "\n",
    "plt.subplot(121)\n",
    "plt.plot(x,y_1, label='y=G(x)')\n",
    "plt.plot(x,l, label='y=x')\n",
    "plt.grid()\n",
    "plt.legend()\n",
    "plt.title('Gráfico de Convergência para G(x)')\n",
    "plt.xlabel('x')\n",
    "plt.ylabel('y')\n",
    "\n",
    "plt.subplot(122)\n",
    "plt.plot(x,y_2, label='y=H(x)')\n",
    "plt.plot(x,l, label='y=x')\n",
    "plt.grid()\n",
    "plt.legend()\n",
    "plt.title('Gráfico de Convergência para H(x)')\n",
    "plt.xlabel('x')\n",
    "plt.ylabel('y')\n",
    "\n",
    "plt.show()"
   ]
  },
  {
   "cell_type": "markdown",
   "metadata": {},
   "source": [
    "Montar algoritmo:"
   ]
  },
  {
   "cell_type": "code",
   "execution_count": 11,
   "metadata": {},
   "outputs": [
    {
     "name": "stdout",
     "output_type": "stream",
     "text": [
      "Raiz encontrada para (x²+2)/3: 1\n"
     ]
    }
   ],
   "source": [
    "def subs_suc(f, x_0, epsilon=10e-100):\n",
    "    '''f é função, x_0 é chute inicial'''\n",
    "    e = np.inf\n",
    "    while e > epsilon:\n",
    "        x = f(x_0)\n",
    "        e = x-x_0\n",
    "        x_0 = x\n",
    "    return x\n",
    "\n",
    "r = subs_suc(g_x, 0)\n",
    "print('Raiz encontrada para (x²+2)/3: {:.0f}'.format(r))"
   ]
  },
  {
   "cell_type": "markdown",
   "metadata": {},
   "source": [
    "**6. Com uma calculadora não programável, encontre a raiz posivita de $sin(x)=x/2$ usando os métodos de Newton-Raphson e secantes, com erro $\\epsilon \\leq 10^{-4}$**"
   ]
  },
  {
   "cell_type": "markdown",
   "metadata": {},
   "source": [
    "Novamente, por curiosidade vou montar o algoritmo. Resultado esperado para a raiz: $3.14159265359$."
   ]
  },
  {
   "cell_type": "markdown",
   "metadata": {},
   "source": [
    "*Utilizando método de Newton-Raphson:*"
   ]
  },
  {
   "cell_type": "markdown",
   "metadata": {},
   "source": [
    "Temos $f(x)=\\frac{2sin(x)}{x}$, $f'(x)=2 \\frac{x cos(x) - sin(x)}{x^2}$"
   ]
  },
  {
   "cell_type": "markdown",
   "metadata": {},
   "source": [
    "Qual o $x_0$ próximo de $a$ (raiz)? Utilizar método de bissecção para descobrir"
   ]
  },
  {
   "cell_type": "code",
   "execution_count": 12,
   "metadata": {},
   "outputs": [
    {
     "name": "stdout",
     "output_type": "stream",
     "text": [
      "A raiz está próxima de 3.1415786743\n"
     ]
    }
   ],
   "source": [
    "def f(x):\n",
    "    return (2*np.sin(x))/(x)\n",
    "\n",
    "print('A raiz está próxima de {:.10f}'.format(bissec(f, 1, 10)))"
   ]
  },
  {
   "cell_type": "markdown",
   "metadata": {},
   "source": [
    "Aplicar método de Newton-Raphson:"
   ]
  },
  {
   "cell_type": "code",
   "execution_count": 13,
   "metadata": {},
   "outputs": [
    {
     "name": "stdout",
     "output_type": "stream",
     "text": [
      "Raiz encontrada: 3.1415926535\n"
     ]
    }
   ],
   "source": [
    "def df(x):\n",
    "    return 2*((x*np.cos(x)-np.sin(x))/(x**2))\n",
    "\n",
    "def newton_raphson(f, df, x_0, epsilon=1e-4):\n",
    "    xn = x_0\n",
    "    e = np.inf\n",
    "    while e >= epsilon:\n",
    "        xnp1 = xn - f(xn)/df(xn)\n",
    "        e = np.abs((xnp1-xn)/(xn))\n",
    "        xn = xnp1\n",
    "    return xnp1\n",
    "\n",
    "print('Raiz encontrada: {:.10f}'.format(newton_raphson(f, df, 3.1415786743)))"
   ]
  },
  {
   "cell_type": "markdown",
   "metadata": {},
   "source": [
    "Utilizamos o método de bissecção para encontrar uma boa aproximação para a raiz, e então utilizamos Newton-Raphson para \"polir\" este resultado."
   ]
  },
  {
   "cell_type": "markdown",
   "metadata": {},
   "source": [
    "*Utilizando o método de secantes:*"
   ]
  },
  {
   "cell_type": "markdown",
   "metadata": {},
   "source": [
    "Já utilizamos o método de bissecção e sabemos que a raiz se encontra próximo de $3.1415786743$. Neste método, nossa raiz estará no intervalo deste número $\\pm1.618$, que é a razão áurea."
   ]
  },
  {
   "cell_type": "code",
   "execution_count": 14,
   "metadata": {
    "scrolled": false
   },
   "outputs": [
    {
     "name": "stdout",
     "output_type": "stream",
     "text": [
      "Raiz encontrada: 3.1415926536\n"
     ]
    }
   ],
   "source": [
    "def secante(f, x_n, xnm1, n_it=10**5):\n",
    "    '''f é uma função \\n\n",
    "    x_n e xnm1 pontos tal que a raiz esteja em (xnm1, x_n) \\n\n",
    "    n_it é o número de iterações'''\n",
    "    \n",
    "    for i in range(n_it):\n",
    "        xnp1 = x_n - ((x_n-xnm1)*f(x_n))/(f(x_n)-f(xnm1))\n",
    "        x_n = xnp1\n",
    "    return x_n\n",
    "\n",
    "print('Raiz encontrada: {:.10f}'.format(secante(f, \n",
    "                                                3.1415786743+1.618, \n",
    "                                                3.1415786743-1.618)))"
   ]
  },
  {
   "cell_type": "markdown",
   "metadata": {},
   "source": [
    "**7. Considere o sistema na forma $Ax=b$ dado por** \n",
    "<center>\n",
    "$\\left[\\begin{array}{ccc}\n",
    "1 & 2 & 3\\\\\n",
    "2 & 4 & -2\\\\\n",
    "1 & 3 & -1\\\\\n",
    "\\end{array}\\right]$\n",
    "$\\left[\\begin{array}{ccc}\n",
    "x_1\\\\\n",
    "x_2\\\\\n",
    "x_3\\\\\n",
    "\\end{array}\\right]$\n",
    "=\n",
    "$\\left[\\begin{array}{ccc}\n",
    "14\\\\\n",
    "4\\\\\n",
    "4\\\\\n",
    "\\end{array}\\right]$\n",
    "</center>\n",
    "\n",
    "**a) Resolva o sistema pelo método de Eliminação de Gauss. use o pivotamento parcial se necessário.** \\\n",
    "**b) A partir da matriz triangular superior calcule o determinante da matriz $A$.** \\\n",
    "**c) Inverta a matriz $A$ pelo método de Eliminação de Gauss.**"
   ]
  },
  {
   "cell_type": "markdown",
   "metadata": {},
   "source": [
    "Fazer matriz:"
   ]
  },
  {
   "cell_type": "code",
   "execution_count": 15,
   "metadata": {
    "scrolled": true
   },
   "outputs": [
    {
     "name": "stdout",
     "output_type": "stream",
     "text": [
      "[[ 1  2  3 14]\n",
      " [ 2  4 -2  4]\n",
      " [ 1  3 -1  4]]\n"
     ]
    }
   ],
   "source": [
    "m = [[1, 2, 3, 14], \n",
    "     [2, 4, -2, 4],\n",
    "    [1, 3, -1, 4]]\n",
    "print(np.array(m).reshape(3,4))"
   ]
  },
  {
   "cell_type": "markdown",
   "metadata": {},
   "source": [
    "Aplicar Eliminação de Gauss:"
   ]
  },
  {
   "cell_type": "code",
   "execution_count": 16,
   "metadata": {},
   "outputs": [],
   "source": [
    "# Definir operações\n",
    "\n",
    "def soma(linha1, linha2, k=1):\n",
    "    '''Soma linha 1 por linha 2. K é uma constante para multiplicar com a linha 2.'''\n",
    "    return [linha1[i] + k*linha2[i] for i in range(len(linha1))]\n",
    "\n",
    "def escalar(linha, escalar):\n",
    "    '''Multiplica linha por escalar'''\n",
    "    return [linha[i]*escalar for i in range(len(linha))]\n",
    "\n",
    "def troca(m, pos1, pos2):\n",
    "    '''Troca linhas de posição. m é a matriz-alvo, pos1 e pos2 os índices de troca.'''\n",
    "    mg = m[pos1]\n",
    "    m[pos1] = m[pos2]\n",
    "    m[pos2] = mg\n",
    "    return m"
   ]
  },
  {
   "cell_type": "code",
   "execution_count": 17,
   "metadata": {},
   "outputs": [
    {
     "name": "stdout",
     "output_type": "stream",
     "text": [
      "Matrix obtida: \n",
      " [[  1.   2.   3.  14.]\n",
      " [  0.   1.  -4. -10.]\n",
      " [ -0.  -0.   1.   3.]]\n"
     ]
    }
   ],
   "source": [
    "m = troca(m, 1, 2)\n",
    "m[1] = soma(m[1], m[0], k=-1)\n",
    "m[2] = soma(m[2], m[0], k=-2)\n",
    "m[2] = escalar(m[2], -1/8)\n",
    "\n",
    "print('Matrix obtida: \\n',np.array(m).reshape(3, 4))"
   ]
  },
  {
   "cell_type": "markdown",
   "metadata": {},
   "source": [
    "Temos então $x_3=3$. <br>\n",
    "Portanto, $x_2 -4x_3 = -10 \\Rightarrow x_2 = 2$, <br>\n",
    "e $x_1 +2x_2 +3x_3 = 14 \\Rightarrow x_1 = 1$"
   ]
  },
  {
   "cell_type": "markdown",
   "metadata": {},
   "source": [
    "Montar algoritmo:"
   ]
  },
  {
   "cell_type": "code",
   "execution_count": 18,
   "metadata": {},
   "outputs": [
    {
     "name": "stdout",
     "output_type": "stream",
     "text": [
      "Resultados: \n",
      "x_1 = 1 \n",
      "x_2 = 2 \n",
      "x_3 = 3\n"
     ]
    }
   ],
   "source": [
    "def gauss(M):\n",
    "    # Número de colunas\n",
    "    cols = len(M)\n",
    "\n",
    "    # Para cada coluna...\n",
    "    for i in range(0, cols):\n",
    "        el_max = abs(M[i][i]) #Elemento da Diagonal\n",
    "        lin_max = i #Linha atual\n",
    "        # Pra cada linha abaixo...\n",
    "        for k in range(i + 1, cols):\n",
    "            # Se o elemento atual for maior que a diagonal...\n",
    "            if abs(M[k][i]) > el_max:\n",
    "                el_max = abs(M[k][i]) # Atualiza elemento máximo\n",
    "                lin_max = k # Atualiza linha\n",
    "\n",
    "        # Trocar linha máxima por linha atual\n",
    "        for k in range(i, cols + 1):\n",
    "            tmp = M[lin_max][k]\n",
    "            M[lin_max][k] = M[i][k]\n",
    "            M[i][k] = tmp\n",
    "\n",
    "        # Transformar colunas abaixo desta em zero\n",
    "        # Pra cada linha abaixo...\n",
    "        for k in range(i + 1, cols):\n",
    "            # Dividir pela diagonal != 0\n",
    "            c = -M[k][i] / M[i][i]\n",
    "            # Pra cada linha...\n",
    "            for j in range(i, cols + 1):\n",
    "                # Se linha = coluna\n",
    "                if i == j:\n",
    "                    M[k][j] = 0\n",
    "                    # Se não, somar e multiplicar por escalar\n",
    "                else:\n",
    "                    M[k][j] += c * M[i][j]\n",
    "\n",
    "    # Solve equation Ax=b for an upper triangular matrix A\n",
    "    x = [0 for i in range(cols)]\n",
    "    for i in range(cols - 1, -1, -1):\n",
    "        x[i] = M[i][cols] / M[i][i]\n",
    "        for k in range(i - 1, -1, -1):\n",
    "            M[k][cols] -= M[k][i] * x[i]\n",
    "    return x\n",
    "\n",
    "r = gauss(m)\n",
    "print('Resultados: \\nx_1 = {:.0f} \\nx_2 = {:.0f} \\nx_3 = {:.0f}'.format(r[0], r[1], r[2]))"
   ]
  },
  {
   "cell_type": "markdown",
   "metadata": {},
   "source": [
    "**8. Seja o sistema $Ax=b$ na forma**\n",
    "<center>\n",
    "$\\left[\\begin{array}{ccc}\n",
    "-1 & 4 & -3\\\\\n",
    "-5 & -3 & 8\\\\\n",
    "-6 & 2 & 3\\\\\n",
    "\\end{array}\\right]$\n",
    "$\\left[\\begin{array}{ccc}\n",
    "x_1\\\\\n",
    "x_2\\\\\n",
    "x_3\\\\\n",
    "\\end{array}\\right]$\n",
    "=\n",
    "$\\left[\\begin{array}{ccc}\n",
    "4\\\\\n",
    "-3\\\\\n",
    "3\\\\\n",
    "\\end{array}\\right]$\n",
    "</center>\n",
    "\n",
    "**a) A matrix $A$ satisfaz o Critério das Linhas para alguma permutação de linhas?** \\\n",
    "**b) A matriz $A$ tem alguma permutação que satisfaz o Critério de Sassenfeld?** \\\n",
    "**c) Escreva as equações de recorrência do método de Gauss-Seidel e calcule uma iteração a partir de $x^{(0)}=(1,0,0)$.**"
   ]
  },
  {
   "cell_type": "markdown",
   "metadata": {},
   "source": [
    "**9. Sejam os pontos $(-1,-11), (1,5), (2,13), (3,-13)$.** \\\n",
    "**a) Escreva a expressão do polinômio interpolante $y=P_3 (x)$ usando o método de Lagrange para os pontos dados.** \\\n",
    "**b) Construa um programa em C (ou C++, FORTRAN, Python) que calcule o valor de $y$ dado $x=1,5$ usando o polinômio interpolante do item a). Bastam dois *loops*, um interno para o produtório e outro externo para o somatório**."
   ]
  }
 ],
 "metadata": {
  "kernelspec": {
   "display_name": "Python 3",
   "language": "python",
   "name": "python3"
  },
  "language_info": {
   "codemirror_mode": {
    "name": "ipython",
    "version": 3
   },
   "file_extension": ".py",
   "mimetype": "text/x-python",
   "name": "python",
   "nbconvert_exporter": "python",
   "pygments_lexer": "ipython3",
   "version": "3.8.2"
  }
 },
 "nbformat": 4,
 "nbformat_minor": 4
}
