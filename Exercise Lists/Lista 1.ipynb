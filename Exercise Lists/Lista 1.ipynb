{
 "cells": [
  {
   "cell_type": "markdown",
   "metadata": {},
   "source": [
    "**1. Mostre que 0.1 na base 10 é representado por 0.0001100110011... na base 2.**"
   ]
  },
  {
   "cell_type": "markdown",
   "metadata": {},
   "source": [
    "Para converter um número decimal em binário, utilizaremos o seguinte algoritmo:\n",
    "<ol>\n",
    "    <li> Multiplique por 2 </li>\n",
    "    <li> Pegue o decimal como dígito </li>\n",
    "    <li> Pegue a fração como início da próxima etapa </li>\n",
    "    <li> Repita  </li>\n",
    "    <li> Guarde os número calculados em uma lista </li>\n",
    "</ol>\n",
    "\n",
    "Exemplo:<br>\n",
    "<pre>0.1 * 2 = 0.2 -> 0\n",
    "0.2 * 2 = 0.4 -> 0\n",
    "0.4 * 2 = 0.8 -> 0\n",
    "0.8 * 2 = 1.6 -> 1\n",
    "0.6 * 2 = 1.2 -> 1\n",
    "0.2 * 2 = 0.4 -> 0\n",
    "0.4 * 2 = 0.8 -> 0\n",
    "0.8 * 2 = 1.6 -> 1\n",
    "0.6 * 2 = 1.2 -> 1</pre>"
   ]
  },
  {
   "cell_type": "code",
   "execution_count": 103,
   "metadata": {},
   "outputs": [
    {
     "name": "stdout",
     "output_type": "stream",
     "text": [
      "0.0001100011000110001100011000110001100011000110001100011000110001100011000110001100011000110001100011000110001100011000110001100011000110001100011000110001100011000110001100011000110001100011000110001100011000110001100011000110001100011000110001100011000110001100011000110001100011000110001100011000110001100011000110001100011000110001100011000110001100011000110001100011000110001100011000110001100011000110001100011000110001100011000110001100011000110001100011000110001100011000110001100011000110001100011000110001100011000110001100011000110001100011000110001100011000110001100011000110001100011000110001100011000110001100011000110001100011000110001100011000110001100011000110001100011000110001100011000110001100011000110001100011000110001100011000110001100011000110001100011000110001100011000110001100011000110001100011000110001100011000110001100011000110001100011000110001100011000110001100011000110001100011000110001100011000110001100011000110001100011000110001100011000110001100011000110001100011\n"
     ]
    }
   ],
   "source": [
    "def frac_to_binary(input, max_iterations=1000, li=[]):\n",
    "    # Repita por max_iterations interações\n",
    "    for i in range(0, max_iterations):\n",
    "        # Multiplque por 2\n",
    "        input = input * 2\n",
    "        # Pegue decimal como dígito\n",
    "        digit = int(str(input)[:1])\n",
    "        # Desconsidere erro flutuante\n",
    "        if input >= 1:\n",
    "            input = float(str(input - digit)[:3])\n",
    "        # Guarde dígito numa lista\n",
    "        li.append(digit)\n",
    "    # Transforme lista em string\n",
    "    return '0.'+''.join([ \"%d\"%x for x in li])\n",
    "        \n",
    "bi = frac_to_binary(0.1)\n",
    "print(bi)"
   ]
  },
  {
   "cell_type": "markdown",
   "metadata": {},
   "source": [
    "**2. Some 10000 vezes no computador o valor 0.0001 e imprima o resultado com sete decimais (precisão simples).**"
   ]
  },
  {
   "cell_type": "markdown",
   "metadata": {},
   "source": [
    "**3. Calcule no computador o maior $ n! $ possível até causar overflow (precisão simples e dupla). Imprima $ n $ e $ n! $.**"
   ]
  },
  {
   "cell_type": "markdown",
   "metadata": {},
   "source": [
    "**4. Calcule com uma calculadora não programável a raiz positiva de $x² - 5 = 0$ usando o método de bissecção, até o intervalo ser $\\leq$ 0.0001**"
   ]
  },
  {
   "cell_type": "markdown",
   "metadata": {},
   "source": [
    "**5. A eq. $x² - 3x + 2 = 0$ pode ser escrita como $x = G(x)$ em diversas formas para aplicação do método de substituições sucessivas. Determina analiticamente a região de convergência para as raízes $x = 1.2$ e faça os gráficos de convergência $y = G(x)$ suporposto à reta $y=x$ para os seguintes casos:**\n",
    "\n",
    "**a) $x_{n+1} = (x_n^2 + 2) / 3$** \\\n",
    "**b) $x_{n+1} = \\sqrt{3 x_n - 2}$**"
   ]
  },
  {
   "cell_type": "markdown",
   "metadata": {},
   "source": [
    "**6. Com uma calculadora não programável, encontre a raiz posivita de $sin(x)=x/2$ usando os métodos de Newton-Raphson e secantes, com erro $\\epsilon \\leq 10^{-4}$**"
   ]
  },
  {
   "cell_type": "markdown",
   "metadata": {},
   "source": [
    "**7. Considere o sistema na forma $Ax=b$ dado por** \n",
    "<center>\n",
    "$\\left[\\begin{array}{ccc}\n",
    "1 & 2 & 3\\\\\n",
    "2 & 4 & -2\\\\\n",
    "1 & 3 & -1\\\\\n",
    "\\end{array}\\right]$\n",
    "$\\left[\\begin{array}{ccc}\n",
    "x_1\\\\\n",
    "x_2\\\\\n",
    "x_3\\\\\n",
    "\\end{array}\\right]$\n",
    "=\n",
    "$\\left[\\begin{array}{ccc}\n",
    "14\\\\\n",
    "4\\\\\n",
    "4\\\\\n",
    "\\end{array}\\right]$\n",
    "</center>\n",
    "\n",
    "**a) Resolva o sistema pelo método de Eliminação de Gauss. use o pivotamento parcial se necessário.** \\\n",
    "**b) A partir da matriz triangular superior calcule o determinante da matriz $A$.** \\\n",
    "**c) Inverta a matriz $A$ pelo método de Elminação de Gauss.**"
   ]
  },
  {
   "cell_type": "markdown",
   "metadata": {},
   "source": [
    "**8. Seja o sistema $Ax=b$ na forma**\n",
    "<center>\n",
    "$\\left[\\begin{array}{ccc}\n",
    "-1 & 4 & -3\\\\\n",
    "-5 & -3 & 8\\\\\n",
    "-6 & 2 & 3\\\\\n",
    "\\end{array}\\right]$\n",
    "$\\left[\\begin{array}{ccc}\n",
    "x_1\\\\\n",
    "x_2\\\\\n",
    "x_3\\\\\n",
    "\\end{array}\\right]$\n",
    "=\n",
    "$\\left[\\begin{array}{ccc}\n",
    "4\\\\\n",
    "-3\\\\\n",
    "3\\\\\n",
    "\\end{array}\\right]$\n",
    "</center>\n",
    "\n",
    "**a) A matrix $A$ satisfaz o Critério das Linhas para alguma permutação de linhas?** \\\n",
    "**b) A matriz $A$ tem alguma permutação que satisfaz o Critério de Sassenfeld?** \\\n",
    "**c) Escreva as equações de recorrência do método de Gauss-Seidel e calcule uma iteração a partir de $x^{(0)}=(1,0,0)$.**"
   ]
  },
  {
   "cell_type": "markdown",
   "metadata": {},
   "source": [
    "**9. Sejam os pontos $(-1,-11), (1,5), (2,13), (3,-13)$.** \\\n",
    "**a) Escreva a expressão do polinômio interpolante $y=P_3 (x)$ usando o método de Lagrange para os pontos dados.** \\\n",
    "**b) Construa um programa em C (ou C++, FORTRAN, Python) que calcule o valor de $y$ dado $x=1,5$ usando o polinômio interpolante do item a). Bastam dois *loops*, um interno para o produtório e outro externo para o somatório**."
   ]
  }
 ],
 "metadata": {
  "kernelspec": {
   "display_name": "Python 3",
   "language": "python",
   "name": "python3"
  },
  "language_info": {
   "codemirror_mode": {
    "name": "ipython",
    "version": 3
   },
   "file_extension": ".py",
   "mimetype": "text/x-python",
   "name": "python",
   "nbconvert_exporter": "python",
   "pygments_lexer": "ipython3",
   "version": "3.8.3"
  }
 },
 "nbformat": 4,
 "nbformat_minor": 4
}
